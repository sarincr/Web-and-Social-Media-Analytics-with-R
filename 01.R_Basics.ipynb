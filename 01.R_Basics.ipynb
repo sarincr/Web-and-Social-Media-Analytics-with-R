{
  "nbformat": 4,
  "nbformat_minor": 0,
  "metadata": {
    "colab": {
      "name": "01.R Basics.ipynb",
      "provenance": []
    },
    "kernelspec": {
      "name": "ir",
      "display_name": "R"
    },
    "language_info": {
      "name": "R"
    }
  },
  "cells": [
    {
      "cell_type": "code",
      "execution_count": 1,
      "metadata": {
        "id": "Cx-F0CNIPBgC"
      },
      "outputs": [],
      "source": [
        "x<-10"
      ]
    },
    {
      "cell_type": "code",
      "source": [
        "print(x)"
      ],
      "metadata": {
        "colab": {
          "base_uri": "https://localhost:8080/"
        },
        "id": "xCLT87PyPEQn",
        "outputId": "7a239bcd-13db-4dd5-ea68-a071e937f798"
      },
      "execution_count": 2,
      "outputs": [
        {
          "output_type": "stream",
          "name": "stdout",
          "text": [
            "[1] 10\n"
          ]
        }
      ]
    },
    {
      "cell_type": "code",
      "source": [
        "x<-10"
      ],
      "metadata": {
        "id": "dBrygpqWPJWX"
      },
      "execution_count": 3,
      "outputs": []
    },
    {
      "cell_type": "code",
      "source": [
        "y<-20"
      ],
      "metadata": {
        "id": "ZiLqdAehSvq5"
      },
      "execution_count": 4,
      "outputs": []
    },
    {
      "cell_type": "code",
      "source": [
        "x+y"
      ],
      "metadata": {
        "colab": {
          "base_uri": "https://localhost:8080/",
          "height": 34
        },
        "id": "ugxu6bhdSxnM",
        "outputId": "44a82230-0731-45b2-a695-957de4c0e34d"
      },
      "execution_count": 5,
      "outputs": [
        {
          "output_type": "display_data",
          "data": {
            "text/html": [
              "30"
            ],
            "text/markdown": "30",
            "text/latex": "30",
            "text/plain": [
              "[1] 30"
            ]
          },
          "metadata": {}
        }
      ]
    },
    {
      "cell_type": "code",
      "source": [
        "x=10\n",
        "y=20"
      ],
      "metadata": {
        "id": "3u2odTD-SyFW"
      },
      "execution_count": 6,
      "outputs": []
    },
    {
      "cell_type": "code",
      "source": [
        "x+y"
      ],
      "metadata": {
        "colab": {
          "base_uri": "https://localhost:8080/",
          "height": 34
        },
        "id": "YmWXnbi9SzbF",
        "outputId": "6b05837d-19ca-40e5-ead2-4cebe7f28537"
      },
      "execution_count": 7,
      "outputs": [
        {
          "output_type": "display_data",
          "data": {
            "text/html": [
              "30"
            ],
            "text/markdown": "30",
            "text/latex": "30",
            "text/plain": [
              "[1] 30"
            ]
          },
          "metadata": {}
        }
      ]
    },
    {
      "cell_type": "code",
      "source": [
        "x <- 5/10+20*25"
      ],
      "metadata": {
        "id": "2LARFjmnSz53"
      },
      "execution_count": 8,
      "outputs": []
    },
    {
      "cell_type": "code",
      "source": [
        "x"
      ],
      "metadata": {
        "colab": {
          "base_uri": "https://localhost:8080/",
          "height": 34
        },
        "id": "msSeBgDRS30F",
        "outputId": "5a9e78eb-4894-474f-a1b0-ad616ffe43b0"
      },
      "execution_count": 9,
      "outputs": [
        {
          "output_type": "display_data",
          "data": {
            "text/html": [
              "500.5"
            ],
            "text/markdown": "500.5",
            "text/latex": "500.5",
            "text/plain": [
              "[1] 500.5"
            ]
          },
          "metadata": {}
        }
      ]
    },
    {
      "cell_type": "code",
      "source": [
        "x<- \"Hello, World!\""
      ],
      "metadata": {
        "id": "tku-hAXQS4qC"
      },
      "execution_count": 10,
      "outputs": []
    },
    {
      "cell_type": "code",
      "source": [
        "x"
      ],
      "metadata": {
        "colab": {
          "base_uri": "https://localhost:8080/",
          "height": 34
        },
        "id": "ULaCUfijTZ3r",
        "outputId": "d179c510-cd90-4529-eb9f-70b02a483d56"
      },
      "execution_count": 11,
      "outputs": [
        {
          "output_type": "display_data",
          "data": {
            "text/html": [
              "'Hello, World!'"
            ],
            "text/markdown": "'Hello, World!'",
            "text/latex": "'Hello, World!'",
            "text/plain": [
              "[1] \"Hello, World!\""
            ]
          },
          "metadata": {}
        }
      ]
    },
    {
      "cell_type": "code",
      "source": [
        "class(x)"
      ],
      "metadata": {
        "colab": {
          "base_uri": "https://localhost:8080/",
          "height": 34
        },
        "id": "pTZ1x_5CbN-z",
        "outputId": "ac1e4276-081d-41e9-c194-6bb13e040ec5"
      },
      "execution_count": 12,
      "outputs": [
        {
          "output_type": "display_data",
          "data": {
            "text/html": [
              "'character'"
            ],
            "text/markdown": "'character'",
            "text/latex": "'character'",
            "text/plain": [
              "[1] \"character\""
            ]
          },
          "metadata": {}
        }
      ]
    },
    {
      "cell_type": "code",
      "source": [
        "x=10\n",
        "class(x)"
      ],
      "metadata": {
        "colab": {
          "base_uri": "https://localhost:8080/",
          "height": 34
        },
        "id": "zYUEHvbObPB0",
        "outputId": "c2a366e5-109f-471e-f826-e1e6e55ba332"
      },
      "execution_count": 13,
      "outputs": [
        {
          "output_type": "display_data",
          "data": {
            "text/html": [
              "'numeric'"
            ],
            "text/markdown": "'numeric'",
            "text/latex": "'numeric'",
            "text/plain": [
              "[1] \"numeric\""
            ]
          },
          "metadata": {}
        }
      ]
    },
    {
      "cell_type": "code",
      "source": [
        "x=10.56\n",
        "class(x)"
      ],
      "metadata": {
        "colab": {
          "base_uri": "https://localhost:8080/",
          "height": 34
        },
        "id": "ldURAr3db9cq",
        "outputId": "da6b9c45-f5a2-4af9-cf8a-747831172f08"
      },
      "execution_count": 14,
      "outputs": [
        {
          "output_type": "display_data",
          "data": {
            "text/html": [
              "'numeric'"
            ],
            "text/markdown": "'numeric'",
            "text/latex": "'numeric'",
            "text/plain": [
              "[1] \"numeric\""
            ]
          },
          "metadata": {}
        }
      ]
    },
    {
      "cell_type": "code",
      "source": [
        "x=10/25\n",
        "class(x)"
      ],
      "metadata": {
        "colab": {
          "base_uri": "https://localhost:8080/",
          "height": 34
        },
        "id": "SIm3OAi8cAEc",
        "outputId": "326a679f-5e9b-418d-e4ed-ea4a5418ccb1"
      },
      "execution_count": 15,
      "outputs": [
        {
          "output_type": "display_data",
          "data": {
            "text/html": [
              "'numeric'"
            ],
            "text/markdown": "'numeric'",
            "text/latex": "'numeric'",
            "text/plain": [
              "[1] \"numeric\""
            ]
          },
          "metadata": {}
        }
      ]
    },
    {
      "cell_type": "code",
      "source": [
        "x=TRUE\n",
        "class(x)"
      ],
      "metadata": {
        "colab": {
          "base_uri": "https://localhost:8080/",
          "height": 34
        },
        "id": "J1A59aupcBiI",
        "outputId": "fb9358f2-5ebe-4ee3-d140-087749ebc566"
      },
      "execution_count": 16,
      "outputs": [
        {
          "output_type": "display_data",
          "data": {
            "text/html": [
              "'logical'"
            ],
            "text/markdown": "'logical'",
            "text/latex": "'logical'",
            "text/plain": [
              "[1] \"logical\""
            ]
          },
          "metadata": {}
        }
      ]
    },
    {
      "cell_type": "code",
      "source": [
        "x=10L\n",
        "class(x)"
      ],
      "metadata": {
        "colab": {
          "base_uri": "https://localhost:8080/",
          "height": 34
        },
        "id": "qlvvOWTicFbN",
        "outputId": "8a5cce09-5e2d-4b43-d8be-04032a00b855"
      },
      "execution_count": 17,
      "outputs": [
        {
          "output_type": "display_data",
          "data": {
            "text/html": [
              "'integer'"
            ],
            "text/markdown": "'integer'",
            "text/latex": "'integer'",
            "text/plain": [
              "[1] \"integer\""
            ]
          },
          "metadata": {}
        }
      ]
    },
    {
      "cell_type": "code",
      "source": [
        "x=10+20i\n",
        "class(x)"
      ],
      "metadata": {
        "colab": {
          "base_uri": "https://localhost:8080/",
          "height": 34
        },
        "id": "ISAohFbkcJch",
        "outputId": "46ba31fe-ea21-4048-a85b-71b51fc3a456"
      },
      "execution_count": 18,
      "outputs": [
        {
          "output_type": "display_data",
          "data": {
            "text/html": [
              "'complex'"
            ],
            "text/markdown": "'complex'",
            "text/latex": "'complex'",
            "text/plain": [
              "[1] \"complex\""
            ]
          },
          "metadata": {}
        }
      ]
    },
    {
      "cell_type": "code",
      "source": [
        "x=TRUE\n",
        "class(x)"
      ],
      "metadata": {
        "colab": {
          "base_uri": "https://localhost:8080/",
          "height": 34
        },
        "id": "D9aoQ_r7hwVo",
        "outputId": "0974755c-8bf0-4b83-c774-81b5874316a9"
      },
      "execution_count": 19,
      "outputs": [
        {
          "output_type": "display_data",
          "data": {
            "text/html": [
              "'logical'"
            ],
            "text/markdown": "'logical'",
            "text/latex": "'logical'",
            "text/plain": [
              "[1] \"logical\""
            ]
          },
          "metadata": {}
        }
      ]
    },
    {
      "cell_type": "code",
      "source": [
        "x=\"TRUE\"\n",
        "class(x)"
      ],
      "metadata": {
        "colab": {
          "base_uri": "https://localhost:8080/",
          "height": 34
        },
        "id": "jMbnC8rdh08l",
        "outputId": "78b7aee0-5309-4bf7-a0e3-e798bd31d9dd"
      },
      "execution_count": 20,
      "outputs": [
        {
          "output_type": "display_data",
          "data": {
            "text/html": [
              "'character'"
            ],
            "text/markdown": "'character'",
            "text/latex": "'character'",
            "text/plain": [
              "[1] \"character\""
            ]
          },
          "metadata": {}
        }
      ]
    },
    {
      "cell_type": "code",
      "source": [
        "x<- c('red','green',\"yellow\")"
      ],
      "metadata": {
        "id": "xntvNMT8h2Nb"
      },
      "execution_count": 21,
      "outputs": []
    },
    {
      "cell_type": "code",
      "source": [
        "x"
      ],
      "metadata": {
        "colab": {
          "base_uri": "https://localhost:8080/",
          "height": 34
        },
        "id": "JYXcH2oIiC_Q",
        "outputId": "f479fc5a-1ab1-4f8d-8656-daa750f710c6"
      },
      "execution_count": 22,
      "outputs": [
        {
          "output_type": "display_data",
          "data": {
            "text/html": [
              "<style>\n",
              ".list-inline {list-style: none; margin:0; padding: 0}\n",
              ".list-inline>li {display: inline-block}\n",
              ".list-inline>li:not(:last-child)::after {content: \"\\00b7\"; padding: 0 .5ex}\n",
              "</style>\n",
              "<ol class=list-inline><li>'red'</li><li>'green'</li><li>'yellow'</li></ol>\n"
            ],
            "text/markdown": "1. 'red'\n2. 'green'\n3. 'yellow'\n\n\n",
            "text/latex": "\\begin{enumerate*}\n\\item 'red'\n\\item 'green'\n\\item 'yellow'\n\\end{enumerate*}\n",
            "text/plain": [
              "[1] \"red\"    \"green\"  \"yellow\""
            ]
          },
          "metadata": {}
        }
      ]
    },
    {
      "cell_type": "code",
      "source": [
        "class(x)"
      ],
      "metadata": {
        "colab": {
          "base_uri": "https://localhost:8080/",
          "height": 34
        },
        "id": "Ubk8RWE8iDJj",
        "outputId": "e90c5f75-4aa3-4e85-95c4-c4ed405b5685"
      },
      "execution_count": 23,
      "outputs": [
        {
          "output_type": "display_data",
          "data": {
            "text/html": [
              "'character'"
            ],
            "text/markdown": "'character'",
            "text/latex": "'character'",
            "text/plain": [
              "[1] \"character\""
            ]
          },
          "metadata": {}
        }
      ]
    },
    {
      "cell_type": "code",
      "source": [
        "x[1]"
      ],
      "metadata": {
        "colab": {
          "base_uri": "https://localhost:8080/",
          "height": 34
        },
        "id": "07CqOtcIiEeC",
        "outputId": "9d17ca22-ec06-481e-dfbd-db8d74333ace"
      },
      "execution_count": 24,
      "outputs": [
        {
          "output_type": "display_data",
          "data": {
            "text/html": [
              "'red'"
            ],
            "text/markdown": "'red'",
            "text/latex": "'red'",
            "text/plain": [
              "[1] \"red\""
            ]
          },
          "metadata": {}
        }
      ]
    },
    {
      "cell_type": "code",
      "source": [
        "x[2]"
      ],
      "metadata": {
        "colab": {
          "base_uri": "https://localhost:8080/",
          "height": 34
        },
        "id": "BwZdXCXPiFIU",
        "outputId": "6e210a33-ed0a-403e-ba52-bb2ae97f55a7"
      },
      "execution_count": 25,
      "outputs": [
        {
          "output_type": "display_data",
          "data": {
            "text/html": [
              "'green'"
            ],
            "text/markdown": "'green'",
            "text/latex": "'green'",
            "text/plain": [
              "[1] \"green\""
            ]
          },
          "metadata": {}
        }
      ]
    },
    {
      "cell_type": "code",
      "source": [
        "x[3]"
      ],
      "metadata": {
        "colab": {
          "base_uri": "https://localhost:8080/",
          "height": 34
        },
        "id": "an7n4J04iTK_",
        "outputId": "22ee2c7f-14e5-4e34-d7bf-c4f8b13885ca"
      },
      "execution_count": 26,
      "outputs": [
        {
          "output_type": "display_data",
          "data": {
            "text/html": [
              "'yellow'"
            ],
            "text/markdown": "'yellow'",
            "text/latex": "'yellow'",
            "text/plain": [
              "[1] \"yellow\""
            ]
          },
          "metadata": {}
        }
      ]
    },
    {
      "cell_type": "code",
      "source": [
        "x<- c(1,2,3,4,5)"
      ],
      "metadata": {
        "id": "cCFfpIkJiT43"
      },
      "execution_count": 27,
      "outputs": []
    },
    {
      "cell_type": "code",
      "source": [
        "x"
      ],
      "metadata": {
        "colab": {
          "base_uri": "https://localhost:8080/",
          "height": 34
        },
        "id": "gyQFvGDtiYGS",
        "outputId": "ee9c209d-abb2-47e4-d247-062ccce44885"
      },
      "execution_count": 28,
      "outputs": [
        {
          "output_type": "display_data",
          "data": {
            "text/html": [
              "<style>\n",
              ".list-inline {list-style: none; margin:0; padding: 0}\n",
              ".list-inline>li {display: inline-block}\n",
              ".list-inline>li:not(:last-child)::after {content: \"\\00b7\"; padding: 0 .5ex}\n",
              "</style>\n",
              "<ol class=list-inline><li>1</li><li>2</li><li>3</li><li>4</li><li>5</li></ol>\n"
            ],
            "text/markdown": "1. 1\n2. 2\n3. 3\n4. 4\n5. 5\n\n\n",
            "text/latex": "\\begin{enumerate*}\n\\item 1\n\\item 2\n\\item 3\n\\item 4\n\\item 5\n\\end{enumerate*}\n",
            "text/plain": [
              "[1] 1 2 3 4 5"
            ]
          },
          "metadata": {}
        }
      ]
    },
    {
      "cell_type": "code",
      "source": [
        "x<- c(1,2,3,4,5,\"Apple\")"
      ],
      "metadata": {
        "id": "T8siNs59iYVF"
      },
      "execution_count": 29,
      "outputs": []
    },
    {
      "cell_type": "code",
      "source": [
        "x"
      ],
      "metadata": {
        "colab": {
          "base_uri": "https://localhost:8080/",
          "height": 34
        },
        "id": "X6DFNxtuibpV",
        "outputId": "57f8ed94-f0d9-4b75-c40f-8707837b0a42"
      },
      "execution_count": 30,
      "outputs": [
        {
          "output_type": "display_data",
          "data": {
            "text/html": [
              "<style>\n",
              ".list-inline {list-style: none; margin:0; padding: 0}\n",
              ".list-inline>li {display: inline-block}\n",
              ".list-inline>li:not(:last-child)::after {content: \"\\00b7\"; padding: 0 .5ex}\n",
              "</style>\n",
              "<ol class=list-inline><li>'1'</li><li>'2'</li><li>'3'</li><li>'4'</li><li>'5'</li><li>'Apple'</li></ol>\n"
            ],
            "text/markdown": "1. '1'\n2. '2'\n3. '3'\n4. '4'\n5. '5'\n6. 'Apple'\n\n\n",
            "text/latex": "\\begin{enumerate*}\n\\item '1'\n\\item '2'\n\\item '3'\n\\item '4'\n\\item '5'\n\\item 'Apple'\n\\end{enumerate*}\n",
            "text/plain": [
              "[1] \"1\"     \"2\"     \"3\"     \"4\"     \"5\"     \"Apple\""
            ]
          },
          "metadata": {}
        }
      ]
    },
    {
      "cell_type": "code",
      "source": [
        "x<- list('red','green',\"yellow\")"
      ],
      "metadata": {
        "id": "UxSsrV4YibzY"
      },
      "execution_count": 31,
      "outputs": []
    },
    {
      "cell_type": "code",
      "source": [
        "x[1]"
      ],
      "metadata": {
        "colab": {
          "base_uri": "https://localhost:8080/",
          "height": 62
        },
        "id": "oq5qYomwi8-6",
        "outputId": "14aaadeb-fd67-4c98-c4fc-8444f15f56b8"
      },
      "execution_count": 32,
      "outputs": [
        {
          "output_type": "display_data",
          "data": {
            "text/html": [
              "<ol>\n",
              "\t<li>'red'</li>\n",
              "</ol>\n"
            ],
            "text/markdown": "1. 'red'\n\n\n",
            "text/latex": "\\begin{enumerate}\n\\item 'red'\n\\end{enumerate}\n",
            "text/plain": [
              "[[1]]\n",
              "[1] \"red\"\n"
            ]
          },
          "metadata": {}
        }
      ]
    },
    {
      "cell_type": "code",
      "source": [
        "x <- list(c(2,5,3),21.3)\n",
        "x"
      ],
      "metadata": {
        "colab": {
          "base_uri": "https://localhost:8080/",
          "height": 80
        },
        "id": "3U39m8Jei-AI",
        "outputId": "bc53105c-414d-4d18-99ad-0837f9cb86bc"
      },
      "execution_count": 33,
      "outputs": [
        {
          "output_type": "display_data",
          "data": {
            "text/html": [
              "<ol>\n",
              "\t<li><style>\n",
              ".list-inline {list-style: none; margin:0; padding: 0}\n",
              ".list-inline>li {display: inline-block}\n",
              ".list-inline>li:not(:last-child)::after {content: \"\\00b7\"; padding: 0 .5ex}\n",
              "</style>\n",
              "<ol class=list-inline><li>2</li><li>5</li><li>3</li></ol>\n",
              "</li>\n",
              "\t<li>21.3</li>\n",
              "</ol>\n"
            ],
            "text/markdown": "1. 1. 2\n2. 5\n3. 3\n\n\n\n2. 21.3\n\n\n",
            "text/latex": "\\begin{enumerate}\n\\item \\begin{enumerate*}\n\\item 2\n\\item 5\n\\item 3\n\\end{enumerate*}\n\n\\item 21.3\n\\end{enumerate}\n",
            "text/plain": [
              "[[1]]\n",
              "[1] 2 5 3\n",
              "\n",
              "[[2]]\n",
              "[1] 21.3\n"
            ]
          },
          "metadata": {}
        }
      ]
    },
    {
      "cell_type": "code",
      "source": [
        "x[1][1]"
      ],
      "metadata": {
        "colab": {
          "base_uri": "https://localhost:8080/",
          "height": 62
        },
        "id": "LDXVCQ0yjPA6",
        "outputId": "81b0c0e3-4731-4629-98c9-906bd0533542"
      },
      "execution_count": 34,
      "outputs": [
        {
          "output_type": "display_data",
          "data": {
            "text/html": [
              "<ol>\n",
              "\t<li><style>\n",
              ".list-inline {list-style: none; margin:0; padding: 0}\n",
              ".list-inline>li {display: inline-block}\n",
              ".list-inline>li:not(:last-child)::after {content: \"\\00b7\"; padding: 0 .5ex}\n",
              "</style>\n",
              "<ol class=list-inline><li>2</li><li>5</li><li>3</li></ol>\n",
              "</li>\n",
              "</ol>\n"
            ],
            "text/markdown": "1. 1. 2\n2. 5\n3. 3\n\n\n\n\n\n",
            "text/latex": "\\begin{enumerate}\n\\item \\begin{enumerate*}\n\\item 2\n\\item 5\n\\item 3\n\\end{enumerate*}\n\n\\end{enumerate}\n",
            "text/plain": [
              "[[1]]\n",
              "[1] 2 5 3\n"
            ]
          },
          "metadata": {}
        }
      ]
    },
    {
      "cell_type": "code",
      "source": [
        "x[2][1]"
      ],
      "metadata": {
        "colab": {
          "base_uri": "https://localhost:8080/",
          "height": 62
        },
        "id": "i02EqksbjRdC",
        "outputId": "faabef9e-a1c8-489c-a627-433c51313589"
      },
      "execution_count": 35,
      "outputs": [
        {
          "output_type": "display_data",
          "data": {
            "text/html": [
              "<ol>\n",
              "\t<li>21.3</li>\n",
              "</ol>\n"
            ],
            "text/markdown": "1. 21.3\n\n\n",
            "text/latex": "\\begin{enumerate}\n\\item 21.3\n\\end{enumerate}\n",
            "text/plain": [
              "[[1]]\n",
              "[1] 21.3\n"
            ]
          },
          "metadata": {}
        }
      ]
    },
    {
      "cell_type": "code",
      "source": [
        "x <- c(list(2,5,3),21.3)\n",
        "x"
      ],
      "metadata": {
        "colab": {
          "base_uri": "https://localhost:8080/",
          "height": 114
        },
        "id": "8xXE_-4NjVbK",
        "outputId": "d253d8d8-3be1-4f62-9870-d19775f94352"
      },
      "execution_count": 36,
      "outputs": [
        {
          "output_type": "display_data",
          "data": {
            "text/html": [
              "<ol>\n",
              "\t<li>2</li>\n",
              "\t<li>5</li>\n",
              "\t<li>3</li>\n",
              "\t<li>21.3</li>\n",
              "</ol>\n"
            ],
            "text/markdown": "1. 2\n2. 5\n3. 3\n4. 21.3\n\n\n",
            "text/latex": "\\begin{enumerate}\n\\item 2\n\\item 5\n\\item 3\n\\item 21.3\n\\end{enumerate}\n",
            "text/plain": [
              "[[1]]\n",
              "[1] 2\n",
              "\n",
              "[[2]]\n",
              "[1] 5\n",
              "\n",
              "[[3]]\n",
              "[1] 3\n",
              "\n",
              "[[4]]\n",
              "[1] 21.3\n"
            ]
          },
          "metadata": {}
        }
      ]
    },
    {
      "cell_type": "code",
      "source": [
        "x[1][1]"
      ],
      "metadata": {
        "colab": {
          "base_uri": "https://localhost:8080/",
          "height": 62
        },
        "id": "Lep6AuIXjaTA",
        "outputId": "d6deae38-9b59-44d5-8db1-ca63ecd43692"
      },
      "execution_count": 37,
      "outputs": [
        {
          "output_type": "display_data",
          "data": {
            "text/html": [
              "<ol>\n",
              "\t<li>2</li>\n",
              "</ol>\n"
            ],
            "text/markdown": "1. 2\n\n\n",
            "text/latex": "\\begin{enumerate}\n\\item 2\n\\end{enumerate}\n",
            "text/plain": [
              "[[1]]\n",
              "[1] 2\n"
            ]
          },
          "metadata": {}
        }
      ]
    },
    {
      "cell_type": "code",
      "source": [
        "x[2][1]"
      ],
      "metadata": {
        "colab": {
          "base_uri": "https://localhost:8080/",
          "height": 62
        },
        "id": "NBNUmVm1jfPH",
        "outputId": "ae865921-2e57-40fe-8d25-35cd78afb473"
      },
      "execution_count": 38,
      "outputs": [
        {
          "output_type": "display_data",
          "data": {
            "text/html": [
              "<ol>\n",
              "\t<li>5</li>\n",
              "</ol>\n"
            ],
            "text/markdown": "1. 5\n\n\n",
            "text/latex": "\\begin{enumerate}\n\\item 5\n\\end{enumerate}\n",
            "text/plain": [
              "[[1]]\n",
              "[1] 5\n"
            ]
          },
          "metadata": {}
        }
      ]
    },
    {
      "cell_type": "code",
      "source": [
        "x[1]"
      ],
      "metadata": {
        "colab": {
          "base_uri": "https://localhost:8080/",
          "height": 62
        },
        "id": "78A7_vEvj5q0",
        "outputId": "372f27b8-81b3-4b0d-da56-2e7aa0b8bcc6"
      },
      "execution_count": 39,
      "outputs": [
        {
          "output_type": "display_data",
          "data": {
            "text/html": [
              "<ol>\n",
              "\t<li>2</li>\n",
              "</ol>\n"
            ],
            "text/markdown": "1. 2\n\n\n",
            "text/latex": "\\begin{enumerate}\n\\item 2\n\\end{enumerate}\n",
            "text/plain": [
              "[[1]]\n",
              "[1] 2\n"
            ]
          },
          "metadata": {}
        }
      ]
    },
    {
      "cell_type": "code",
      "source": [
        "x<-matrix( c('A','B','C','D','E','F'), nrow = 2, ncol = 3)\n",
        "x"
      ],
      "metadata": {
        "colab": {
          "base_uri": "https://localhost:8080/",
          "height": 132
        },
        "id": "9XxezjK9j83E",
        "outputId": "db39a27f-07d1-47b1-df69-1a21bffb300f"
      },
      "execution_count": 40,
      "outputs": [
        {
          "output_type": "display_data",
          "data": {
            "text/html": [
              "<table class=\"dataframe\">\n",
              "<caption>A matrix: 2 × 3 of type chr</caption>\n",
              "<tbody>\n",
              "\t<tr><td>A</td><td>C</td><td>E</td></tr>\n",
              "\t<tr><td>B</td><td>D</td><td>F</td></tr>\n",
              "</tbody>\n",
              "</table>\n"
            ],
            "text/markdown": "\nA matrix: 2 × 3 of type chr\n\n| A | C | E |\n| B | D | F |\n\n",
            "text/latex": "A matrix: 2 × 3 of type chr\n\\begin{tabular}{lll}\n\t A & C & E\\\\\n\t B & D & F\\\\\n\\end{tabular}\n",
            "text/plain": [
              "     [,1] [,2] [,3]\n",
              "[1,] A    C    E   \n",
              "[2,] B    D    F   "
            ]
          },
          "metadata": {}
        }
      ]
    },
    {
      "cell_type": "code",
      "source": [
        "x<-matrix( c('A','B','C','D','E','F'), nrow = 2, ncol = 3, byrow = FALSE)\n",
        "x"
      ],
      "metadata": {
        "colab": {
          "base_uri": "https://localhost:8080/",
          "height": 132
        },
        "id": "3TMMOdQBkEox",
        "outputId": "9b256cf5-e91c-4483-91e2-8d7d473d2b61"
      },
      "execution_count": 41,
      "outputs": [
        {
          "output_type": "display_data",
          "data": {
            "text/html": [
              "<table class=\"dataframe\">\n",
              "<caption>A matrix: 2 × 3 of type chr</caption>\n",
              "<tbody>\n",
              "\t<tr><td>A</td><td>C</td><td>E</td></tr>\n",
              "\t<tr><td>B</td><td>D</td><td>F</td></tr>\n",
              "</tbody>\n",
              "</table>\n"
            ],
            "text/markdown": "\nA matrix: 2 × 3 of type chr\n\n| A | C | E |\n| B | D | F |\n\n",
            "text/latex": "A matrix: 2 × 3 of type chr\n\\begin{tabular}{lll}\n\t A & C & E\\\\\n\t B & D & F\\\\\n\\end{tabular}\n",
            "text/plain": [
              "     [,1] [,2] [,3]\n",
              "[1,] A    C    E   \n",
              "[2,] B    D    F   "
            ]
          },
          "metadata": {}
        }
      ]
    },
    {
      "cell_type": "code",
      "source": [
        "a <- array(c('A','B'),dim = c(1,2))\n",
        "a"
      ],
      "metadata": {
        "colab": {
          "base_uri": "https://localhost:8080/",
          "height": 135
        },
        "id": "McBicbd5ktzT",
        "outputId": "0f6a9018-26bb-4a53-c315-81c2679ba982"
      },
      "execution_count": 42,
      "outputs": [
        {
          "output_type": "display_data",
          "data": {
            "text/html": [
              "<table class=\"dataframe\">\n",
              "<caption>A matrix: 1 × 2 of type chr</caption>\n",
              "<tbody>\n",
              "\t<tr><td>A</td><td>B</td></tr>\n",
              "</tbody>\n",
              "</table>\n"
            ],
            "text/markdown": "\nA matrix: 1 × 2 of type chr\n\n| A | B |\n\n",
            "text/latex": "A matrix: 1 × 2 of type chr\n\\begin{tabular}{ll}\n\t A & B\\\\\n\\end{tabular}\n",
            "text/plain": [
              "     [,1] [,2]\n",
              "[1,] A    B   "
            ]
          },
          "metadata": {}
        }
      ]
    },
    {
      "cell_type": "code",
      "source": [
        "a <- array(c('A','B'),dim = c(2,1))\n",
        "a"
      ],
      "metadata": {
        "colab": {
          "base_uri": "https://localhost:8080/",
          "height": 167
        },
        "id": "l4T99JwllF3x",
        "outputId": "e625193d-e8e8-4e18-e318-f9169bc108bb"
      },
      "execution_count": 43,
      "outputs": [
        {
          "output_type": "display_data",
          "data": {
            "text/html": [
              "<table class=\"dataframe\">\n",
              "<caption>A matrix: 2 × 1 of type chr</caption>\n",
              "<tbody>\n",
              "\t<tr><td>A</td></tr>\n",
              "\t<tr><td>B</td></tr>\n",
              "</tbody>\n",
              "</table>\n"
            ],
            "text/markdown": "\nA matrix: 2 × 1 of type chr\n\n| A |\n| B |\n\n",
            "text/latex": "A matrix: 2 × 1 of type chr\n\\begin{tabular}{l}\n\t A\\\\\n\t B\\\\\n\\end{tabular}\n",
            "text/plain": [
              "     [,1]\n",
              "[1,] A   \n",
              "[2,] B   "
            ]
          },
          "metadata": {}
        }
      ]
    },
    {
      "cell_type": "code",
      "source": [
        "a <- array(c('A','B'),dim = c(1,2,3))\n",
        "a"
      ],
      "metadata": {
        "colab": {
          "base_uri": "https://localhost:8080/",
          "height": 34
        },
        "id": "LQYIwzTOkx3e",
        "outputId": "91d792c7-8ec1-4647-eb6c-df860d45192f"
      },
      "execution_count": 44,
      "outputs": [
        {
          "output_type": "display_data",
          "data": {
            "text/html": [
              "<style>\n",
              ".list-inline {list-style: none; margin:0; padding: 0}\n",
              ".list-inline>li {display: inline-block}\n",
              ".list-inline>li:not(:last-child)::after {content: \"\\00b7\"; padding: 0 .5ex}\n",
              "</style>\n",
              "<ol class=list-inline><li>'A'</li><li>'B'</li><li>'A'</li><li>'B'</li><li>'A'</li><li>'B'</li></ol>\n"
            ],
            "text/markdown": "1. 'A'\n2. 'B'\n3. 'A'\n4. 'B'\n5. 'A'\n6. 'B'\n\n\n",
            "text/latex": "\\begin{enumerate*}\n\\item 'A'\n\\item 'B'\n\\item 'A'\n\\item 'B'\n\\item 'A'\n\\item 'B'\n\\end{enumerate*}\n",
            "text/plain": [
              ", , 1\n",
              "\n",
              "     [,1] [,2]\n",
              "[1,] \"A\"  \"B\" \n",
              "\n",
              ", , 2\n",
              "\n",
              "     [,1] [,2]\n",
              "[1,] \"A\"  \"B\" \n",
              "\n",
              ", , 3\n",
              "\n",
              "     [,1] [,2]\n",
              "[1,] \"A\"  \"B\" \n"
            ]
          },
          "metadata": {}
        }
      ]
    },
    {
      "cell_type": "code",
      "source": [
        "a <- array(c('A','B'),dim = c(2,1,5))\n",
        "a"
      ],
      "metadata": {
        "colab": {
          "base_uri": "https://localhost:8080/",
          "height": 34
        },
        "id": "vu_EDLfslHw6",
        "outputId": "06e0ebae-cd59-4a8e-e75a-959a4cf4e531"
      },
      "execution_count": 45,
      "outputs": [
        {
          "output_type": "display_data",
          "data": {
            "text/html": [
              "<style>\n",
              ".list-inline {list-style: none; margin:0; padding: 0}\n",
              ".list-inline>li {display: inline-block}\n",
              ".list-inline>li:not(:last-child)::after {content: \"\\00b7\"; padding: 0 .5ex}\n",
              "</style>\n",
              "<ol class=list-inline><li>'A'</li><li>'B'</li><li>'A'</li><li>'B'</li><li>'A'</li><li>'B'</li><li>'A'</li><li>'B'</li><li>'A'</li><li>'B'</li></ol>\n"
            ],
            "text/markdown": "1. 'A'\n2. 'B'\n3. 'A'\n4. 'B'\n5. 'A'\n6. 'B'\n7. 'A'\n8. 'B'\n9. 'A'\n10. 'B'\n\n\n",
            "text/latex": "\\begin{enumerate*}\n\\item 'A'\n\\item 'B'\n\\item 'A'\n\\item 'B'\n\\item 'A'\n\\item 'B'\n\\item 'A'\n\\item 'B'\n\\item 'A'\n\\item 'B'\n\\end{enumerate*}\n",
            "text/plain": [
              ", , 1\n",
              "\n",
              "     [,1]\n",
              "[1,] \"A\" \n",
              "[2,] \"B\" \n",
              "\n",
              ", , 2\n",
              "\n",
              "     [,1]\n",
              "[1,] \"A\" \n",
              "[2,] \"B\" \n",
              "\n",
              ", , 3\n",
              "\n",
              "     [,1]\n",
              "[1,] \"A\" \n",
              "[2,] \"B\" \n",
              "\n",
              ", , 4\n",
              "\n",
              "     [,1]\n",
              "[1,] \"A\" \n",
              "[2,] \"B\" \n",
              "\n",
              ", , 5\n",
              "\n",
              "     [,1]\n",
              "[1,] \"A\" \n",
              "[2,] \"B\" \n"
            ]
          },
          "metadata": {}
        }
      ]
    },
    {
      "cell_type": "code",
      "source": [
        "a <- array(c('A','B'),dim = c(1,2,5))\n",
        "a"
      ],
      "metadata": {
        "colab": {
          "base_uri": "https://localhost:8080/",
          "height": 34
        },
        "id": "x7UKJ6K4lMf3",
        "outputId": "92a24f9d-bd10-49f9-940a-0a4207e4c860"
      },
      "execution_count": 46,
      "outputs": [
        {
          "output_type": "display_data",
          "data": {
            "text/html": [
              "<style>\n",
              ".list-inline {list-style: none; margin:0; padding: 0}\n",
              ".list-inline>li {display: inline-block}\n",
              ".list-inline>li:not(:last-child)::after {content: \"\\00b7\"; padding: 0 .5ex}\n",
              "</style>\n",
              "<ol class=list-inline><li>'A'</li><li>'B'</li><li>'A'</li><li>'B'</li><li>'A'</li><li>'B'</li><li>'A'</li><li>'B'</li><li>'A'</li><li>'B'</li></ol>\n"
            ],
            "text/markdown": "1. 'A'\n2. 'B'\n3. 'A'\n4. 'B'\n5. 'A'\n6. 'B'\n7. 'A'\n8. 'B'\n9. 'A'\n10. 'B'\n\n\n",
            "text/latex": "\\begin{enumerate*}\n\\item 'A'\n\\item 'B'\n\\item 'A'\n\\item 'B'\n\\item 'A'\n\\item 'B'\n\\item 'A'\n\\item 'B'\n\\item 'A'\n\\item 'B'\n\\end{enumerate*}\n",
            "text/plain": [
              ", , 1\n",
              "\n",
              "     [,1] [,2]\n",
              "[1,] \"A\"  \"B\" \n",
              "\n",
              ", , 2\n",
              "\n",
              "     [,1] [,2]\n",
              "[1,] \"A\"  \"B\" \n",
              "\n",
              ", , 3\n",
              "\n",
              "     [,1] [,2]\n",
              "[1,] \"A\"  \"B\" \n",
              "\n",
              ", , 4\n",
              "\n",
              "     [,1] [,2]\n",
              "[1,] \"A\"  \"B\" \n",
              "\n",
              ", , 5\n",
              "\n",
              "     [,1] [,2]\n",
              "[1,] \"A\"  \"B\" \n"
            ]
          },
          "metadata": {}
        }
      ]
    },
    {
      "cell_type": "code",
      "source": [
        "x <- 2"
      ],
      "metadata": {
        "id": "Gb5kX4g2nYPs"
      },
      "execution_count": 47,
      "outputs": []
    },
    {
      "cell_type": "code",
      "source": [
        "class(x)"
      ],
      "metadata": {
        "colab": {
          "base_uri": "https://localhost:8080/",
          "height": 34
        },
        "id": "gosjow1OoLWU",
        "outputId": "cde824ca-6ed6-43be-f7d3-01f7f44a1480"
      },
      "execution_count": 48,
      "outputs": [
        {
          "output_type": "display_data",
          "data": {
            "text/html": [
              "'numeric'"
            ],
            "text/markdown": "'numeric'",
            "text/latex": "'numeric'",
            "text/plain": [
              "[1] \"numeric\""
            ]
          },
          "metadata": {}
        }
      ]
    },
    {
      "cell_type": "code",
      "source": [
        "y=as.integer(x)"
      ],
      "metadata": {
        "id": "sZLm0KHQoFRI"
      },
      "execution_count": 49,
      "outputs": []
    },
    {
      "cell_type": "code",
      "source": [
        "y"
      ],
      "metadata": {
        "colab": {
          "base_uri": "https://localhost:8080/",
          "height": 34
        },
        "id": "LAfV_Qf6oJz4",
        "outputId": "8a5cf58f-784f-4774-ed8e-f41ae518b1d3"
      },
      "execution_count": 50,
      "outputs": [
        {
          "output_type": "display_data",
          "data": {
            "text/html": [
              "2"
            ],
            "text/markdown": "2",
            "text/latex": "2",
            "text/plain": [
              "[1] 2"
            ]
          },
          "metadata": {}
        }
      ]
    },
    {
      "cell_type": "code",
      "source": [
        "class(y)"
      ],
      "metadata": {
        "colab": {
          "base_uri": "https://localhost:8080/",
          "height": 34
        },
        "id": "Jq4KrOkhoKJl",
        "outputId": "c7725444-3e4f-400d-e0fd-2f1a9db0781c"
      },
      "execution_count": 51,
      "outputs": [
        {
          "output_type": "display_data",
          "data": {
            "text/html": [
              "'integer'"
            ],
            "text/markdown": "'integer'",
            "text/latex": "'integer'",
            "text/plain": [
              "[1] \"integer\""
            ]
          },
          "metadata": {}
        }
      ]
    },
    {
      "cell_type": "code",
      "source": [
        "x <- 2.65"
      ],
      "metadata": {
        "id": "BaigOY5uoKr7"
      },
      "execution_count": 52,
      "outputs": []
    },
    {
      "cell_type": "code",
      "source": [
        "y=as.integer(x)"
      ],
      "metadata": {
        "id": "-KJmb-2yoSKS"
      },
      "execution_count": 53,
      "outputs": []
    },
    {
      "cell_type": "code",
      "source": [
        "y"
      ],
      "metadata": {
        "colab": {
          "base_uri": "https://localhost:8080/",
          "height": 34
        },
        "id": "EcV1ug9UoTSF",
        "outputId": "41cf36e6-f947-4bee-b5ae-2398a024a076"
      },
      "execution_count": 54,
      "outputs": [
        {
          "output_type": "display_data",
          "data": {
            "text/html": [
              "2"
            ],
            "text/markdown": "2",
            "text/latex": "2",
            "text/plain": [
              "[1] 2"
            ]
          },
          "metadata": {}
        }
      ]
    },
    {
      "cell_type": "code",
      "source": [
        "x <- \"2\"\n",
        "y=as.integer(x)\n",
        "y"
      ],
      "metadata": {
        "colab": {
          "base_uri": "https://localhost:8080/",
          "height": 34
        },
        "id": "qRtuytfvoTne",
        "outputId": "799effc7-30ea-4352-d0f0-f31fc0747f43"
      },
      "execution_count": 55,
      "outputs": [
        {
          "output_type": "display_data",
          "data": {
            "text/html": [
              "2"
            ],
            "text/markdown": "2",
            "text/latex": "2",
            "text/plain": [
              "[1] 2"
            ]
          },
          "metadata": {}
        }
      ]
    },
    {
      "cell_type": "code",
      "source": [
        "class(y)"
      ],
      "metadata": {
        "colab": {
          "base_uri": "https://localhost:8080/",
          "height": 34
        },
        "id": "wK031ZkEoY-f",
        "outputId": "632b4805-4181-4f02-8c55-290266ae642d"
      },
      "execution_count": 56,
      "outputs": [
        {
          "output_type": "display_data",
          "data": {
            "text/html": [
              "'integer'"
            ],
            "text/markdown": "'integer'",
            "text/latex": "'integer'",
            "text/plain": [
              "[1] \"integer\""
            ]
          },
          "metadata": {}
        }
      ]
    },
    {
      "cell_type": "code",
      "source": [
        "x.1=10"
      ],
      "metadata": {
        "id": "5Rm5w2IqoaW_"
      },
      "execution_count": 57,
      "outputs": []
    },
    {
      "cell_type": "code",
      "source": [
        "x.1"
      ],
      "metadata": {
        "colab": {
          "base_uri": "https://localhost:8080/",
          "height": 34
        },
        "id": "rQu0xJ9lolTg",
        "outputId": "a9fd2c23-4080-41fb-e1c5-4c71eb874312"
      },
      "execution_count": 58,
      "outputs": [
        {
          "output_type": "display_data",
          "data": {
            "text/html": [
              "10"
            ],
            "text/markdown": "10",
            "text/latex": "10",
            "text/plain": [
              "[1] 10"
            ]
          },
          "metadata": {}
        }
      ]
    },
    {
      "cell_type": "code",
      "source": [
        "x<- \"World\"\n",
        "cat(\" Hello \",x,\"\\n\")"
      ],
      "metadata": {
        "colab": {
          "base_uri": "https://localhost:8080/"
        },
        "id": "4Erxf8xzomHB",
        "outputId": "fc47d236-b8e4-4542-ca9a-0b216cbaa681"
      },
      "execution_count": 59,
      "outputs": [
        {
          "output_type": "stream",
          "name": "stdout",
          "text": [
            " Hello  World \n"
          ]
        }
      ]
    },
    {
      "cell_type": "code",
      "source": [
        "x"
      ],
      "metadata": {
        "colab": {
          "base_uri": "https://localhost:8080/",
          "height": 34
        },
        "id": "cvpoBfaiov_T",
        "outputId": "5643af98-32eb-4a99-f624-7113d0deeaaa"
      },
      "execution_count": 60,
      "outputs": [
        {
          "output_type": "display_data",
          "data": {
            "text/html": [
              "'World'"
            ],
            "text/markdown": "'World'",
            "text/latex": "'World'",
            "text/plain": [
              "[1] \"World\""
            ]
          },
          "metadata": {}
        }
      ]
    },
    {
      "cell_type": "code",
      "source": [
        "rm(x)"
      ],
      "metadata": {
        "id": "BQlslmGMo6TY"
      },
      "execution_count": 61,
      "outputs": []
    },
    {
      "cell_type": "code",
      "source": [
        "x"
      ],
      "metadata": {
        "colab": {
          "base_uri": "https://localhost:8080/",
          "height": 101
        },
        "id": "vrnEsS09o8u4",
        "outputId": "14da41db-9abf-4741-f958-2a55693f7ec3"
      },
      "execution_count": 62,
      "outputs": [
        {
          "output_type": "error",
          "ename": "ERROR",
          "evalue": "ignored",
          "traceback": [
            "Error in eval(expr, envir, enclos): object 'x' not found\nTraceback:\n"
          ]
        }
      ]
    },
    {
      "cell_type": "code",
      "source": [
        ""
      ],
      "metadata": {
        "id": "wX0IC5qSo9NQ"
      },
      "execution_count": null,
      "outputs": []
    }
  ]
}