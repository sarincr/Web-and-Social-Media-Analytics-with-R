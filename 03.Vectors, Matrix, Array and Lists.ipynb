{
  "nbformat": 4,
  "nbformat_minor": 0,
  "metadata": {
    "colab": {
      "name": "03.Vectors and Lists.ipynb",
      "provenance": []
    },
    "kernelspec": {
      "name": "ir",
      "display_name": "R"
    },
    "language_info": {
      "name": "R"
    }
  },
  "cells": [
    {
      "cell_type": "code",
      "source": [
        "x<- c(1, 2, 3)"
      ],
      "metadata": {
        "id": "DNO7s8VlthAw"
      },
      "execution_count": 1,
      "outputs": []
    },
    {
      "cell_type": "code",
      "source": [
        "x"
      ],
      "metadata": {
        "colab": {
          "base_uri": "https://localhost:8080/",
          "height": 34
        },
        "id": "N49Fv5LxuY-B",
        "outputId": "44f3b023-ce4d-40fa-ed17-1f35541f9481"
      },
      "execution_count": 2,
      "outputs": [
        {
          "output_type": "display_data",
          "data": {
            "text/html": [
              "<style>\n",
              ".list-inline {list-style: none; margin:0; padding: 0}\n",
              ".list-inline>li {display: inline-block}\n",
              ".list-inline>li:not(:last-child)::after {content: \"\\00b7\"; padding: 0 .5ex}\n",
              "</style>\n",
              "<ol class=list-inline><li>1</li><li>2</li><li>3</li></ol>\n"
            ],
            "text/markdown": "1. 1\n2. 2\n3. 3\n\n\n",
            "text/latex": "\\begin{enumerate*}\n\\item 1\n\\item 2\n\\item 3\n\\end{enumerate*}\n",
            "text/plain": [
              "[1] 1 2 3"
            ]
          },
          "metadata": {}
        }
      ]
    },
    {
      "cell_type": "code",
      "source": [
        "class(x[0])"
      ],
      "metadata": {
        "colab": {
          "base_uri": "https://localhost:8080/",
          "height": 34
        },
        "id": "ms60DMEmurpT",
        "outputId": "7ca8b135-e8a1-4a65-b8cc-a7303129f688"
      },
      "execution_count": 3,
      "outputs": [
        {
          "output_type": "display_data",
          "data": {
            "text/html": [
              "'numeric'"
            ],
            "text/markdown": "'numeric'",
            "text/latex": "'numeric'",
            "text/plain": [
              "[1] \"numeric\""
            ]
          },
          "metadata": {}
        }
      ]
    },
    {
      "cell_type": "code",
      "source": [
        "x<- c(1, 2, 3, \"Id\")"
      ],
      "metadata": {
        "id": "vi89WzG0uZMx"
      },
      "execution_count": 4,
      "outputs": []
    },
    {
      "cell_type": "code",
      "source": [
        "x"
      ],
      "metadata": {
        "colab": {
          "base_uri": "https://localhost:8080/",
          "height": 34
        },
        "id": "tYKk87sluh1p",
        "outputId": "2bbc89e3-cb7b-4b73-bc6c-f2c6cd6b6382"
      },
      "execution_count": 5,
      "outputs": [
        {
          "output_type": "display_data",
          "data": {
            "text/html": [
              "<style>\n",
              ".list-inline {list-style: none; margin:0; padding: 0}\n",
              ".list-inline>li {display: inline-block}\n",
              ".list-inline>li:not(:last-child)::after {content: \"\\00b7\"; padding: 0 .5ex}\n",
              "</style>\n",
              "<ol class=list-inline><li>'1'</li><li>'2'</li><li>'3'</li><li>'Id'</li></ol>\n"
            ],
            "text/markdown": "1. '1'\n2. '2'\n3. '3'\n4. 'Id'\n\n\n",
            "text/latex": "\\begin{enumerate*}\n\\item '1'\n\\item '2'\n\\item '3'\n\\item 'Id'\n\\end{enumerate*}\n",
            "text/plain": [
              "[1] \"1\"  \"2\"  \"3\"  \"Id\""
            ]
          },
          "metadata": {}
        }
      ]
    },
    {
      "cell_type": "code",
      "source": [
        "class(x[0])"
      ],
      "metadata": {
        "colab": {
          "base_uri": "https://localhost:8080/",
          "height": 34
        },
        "id": "ROlIEsYWuj_R",
        "outputId": "054e8531-6bb9-4a4e-de27-480f42f4c279"
      },
      "execution_count": 6,
      "outputs": [
        {
          "output_type": "display_data",
          "data": {
            "text/html": [
              "'character'"
            ],
            "text/markdown": "'character'",
            "text/latex": "'character'",
            "text/plain": [
              "[1] \"character\""
            ]
          },
          "metadata": {}
        }
      ]
    },
    {
      "cell_type": "code",
      "source": [
        "x<- list(1, 2, 3)\n",
        "x"
      ],
      "metadata": {
        "colab": {
          "base_uri": "https://localhost:8080/",
          "height": 97
        },
        "id": "VEzOjEpOupax",
        "outputId": "ce364191-b83d-481b-846d-a7d16dc9e2bc"
      },
      "execution_count": 7,
      "outputs": [
        {
          "output_type": "display_data",
          "data": {
            "text/html": [
              "<ol>\n",
              "\t<li>1</li>\n",
              "\t<li>2</li>\n",
              "\t<li>3</li>\n",
              "</ol>\n"
            ],
            "text/markdown": "1. 1\n2. 2\n3. 3\n\n\n",
            "text/latex": "\\begin{enumerate}\n\\item 1\n\\item 2\n\\item 3\n\\end{enumerate}\n",
            "text/plain": [
              "[[1]]\n",
              "[1] 1\n",
              "\n",
              "[[2]]\n",
              "[1] 2\n",
              "\n",
              "[[3]]\n",
              "[1] 3\n"
            ]
          },
          "metadata": {}
        }
      ]
    },
    {
      "cell_type": "code",
      "source": [
        "class(x[0])"
      ],
      "metadata": {
        "colab": {
          "base_uri": "https://localhost:8080/",
          "height": 34
        },
        "id": "JevycjEqvu0C",
        "outputId": "69284678-1183-4bd0-c997-e19e8add3bce"
      },
      "execution_count": 8,
      "outputs": [
        {
          "output_type": "display_data",
          "data": {
            "text/html": [
              "'list'"
            ],
            "text/markdown": "'list'",
            "text/latex": "'list'",
            "text/plain": [
              "[1] \"list\""
            ]
          },
          "metadata": {}
        }
      ]
    },
    {
      "cell_type": "code",
      "source": [
        "x<- list(1, 2, 3, \"Id\")"
      ],
      "metadata": {
        "id": "1L0VmYlLvvKi"
      },
      "execution_count": 9,
      "outputs": []
    },
    {
      "cell_type": "code",
      "source": [
        "x"
      ],
      "metadata": {
        "colab": {
          "base_uri": "https://localhost:8080/",
          "height": 114
        },
        "id": "52XXte2CvxkM",
        "outputId": "d2d12fd6-d027-48eb-880f-dc295605de8f"
      },
      "execution_count": 10,
      "outputs": [
        {
          "output_type": "display_data",
          "data": {
            "text/html": [
              "<ol>\n",
              "\t<li>1</li>\n",
              "\t<li>2</li>\n",
              "\t<li>3</li>\n",
              "\t<li>'Id'</li>\n",
              "</ol>\n"
            ],
            "text/markdown": "1. 1\n2. 2\n3. 3\n4. 'Id'\n\n\n",
            "text/latex": "\\begin{enumerate}\n\\item 1\n\\item 2\n\\item 3\n\\item 'Id'\n\\end{enumerate}\n",
            "text/plain": [
              "[[1]]\n",
              "[1] 1\n",
              "\n",
              "[[2]]\n",
              "[1] 2\n",
              "\n",
              "[[3]]\n",
              "[1] 3\n",
              "\n",
              "[[4]]\n",
              "[1] \"Id\"\n"
            ]
          },
          "metadata": {}
        }
      ]
    },
    {
      "cell_type": "code",
      "source": [
        "class(x[0])"
      ],
      "metadata": {
        "colab": {
          "base_uri": "https://localhost:8080/",
          "height": 34
        },
        "id": "aGsZb-4CvykP",
        "outputId": "e96f0326-303e-44d4-abe9-8d0550ad0dea"
      },
      "execution_count": 11,
      "outputs": [
        {
          "output_type": "display_data",
          "data": {
            "text/html": [
              "'list'"
            ],
            "text/markdown": "'list'",
            "text/latex": "'list'",
            "text/plain": [
              "[1] \"list\""
            ]
          },
          "metadata": {}
        }
      ]
    },
    {
      "cell_type": "code",
      "source": [
        "x<-1.5:7.9"
      ],
      "metadata": {
        "id": "giXBbnqUvy0d"
      },
      "execution_count": 12,
      "outputs": []
    },
    {
      "cell_type": "code",
      "source": [
        "x"
      ],
      "metadata": {
        "colab": {
          "base_uri": "https://localhost:8080/",
          "height": 34
        },
        "id": "9ff6GWE_xyUs",
        "outputId": "4f60824b-a23b-43d5-f3a5-08b27dc577b1"
      },
      "execution_count": 13,
      "outputs": [
        {
          "output_type": "display_data",
          "data": {
            "text/html": [
              "<style>\n",
              ".list-inline {list-style: none; margin:0; padding: 0}\n",
              ".list-inline>li {display: inline-block}\n",
              ".list-inline>li:not(:last-child)::after {content: \"\\00b7\"; padding: 0 .5ex}\n",
              "</style>\n",
              "<ol class=list-inline><li>1.5</li><li>2.5</li><li>3.5</li><li>4.5</li><li>5.5</li><li>6.5</li><li>7.5</li></ol>\n"
            ],
            "text/markdown": "1. 1.5\n2. 2.5\n3. 3.5\n4. 4.5\n5. 5.5\n6. 6.5\n7. 7.5\n\n\n",
            "text/latex": "\\begin{enumerate*}\n\\item 1.5\n\\item 2.5\n\\item 3.5\n\\item 4.5\n\\item 5.5\n\\item 6.5\n\\item 7.5\n\\end{enumerate*}\n",
            "text/plain": [
              "[1] 1.5 2.5 3.5 4.5 5.5 6.5 7.5"
            ]
          },
          "metadata": {}
        }
      ]
    },
    {
      "cell_type": "code",
      "source": [
        "length(x)"
      ],
      "metadata": {
        "colab": {
          "base_uri": "https://localhost:8080/",
          "height": 34
        },
        "id": "L8WRVuTcxypd",
        "outputId": "86f07927-d72a-435b-f0f4-d084cba6cea4"
      },
      "execution_count": 14,
      "outputs": [
        {
          "output_type": "display_data",
          "data": {
            "text/html": [
              "7"
            ],
            "text/markdown": "7",
            "text/latex": "7",
            "text/plain": [
              "[1] 7"
            ]
          },
          "metadata": {}
        }
      ]
    },
    {
      "cell_type": "code",
      "source": [
        "x<-c(5,7,3,5,6,6.2,5,6,7,2,3,5,9,0)\n",
        "x"
      ],
      "metadata": {
        "colab": {
          "base_uri": "https://localhost:8080/",
          "height": 34
        },
        "id": "5yUotBnwx25m",
        "outputId": "749af86e-b52c-4fea-f814-f9c8c5e74fe3"
      },
      "execution_count": 15,
      "outputs": [
        {
          "output_type": "display_data",
          "data": {
            "text/html": [
              "<style>\n",
              ".list-inline {list-style: none; margin:0; padding: 0}\n",
              ".list-inline>li {display: inline-block}\n",
              ".list-inline>li:not(:last-child)::after {content: \"\\00b7\"; padding: 0 .5ex}\n",
              "</style>\n",
              "<ol class=list-inline><li>5</li><li>7</li><li>3</li><li>5</li><li>6</li><li>6.2</li><li>5</li><li>6</li><li>7</li><li>2</li><li>3</li><li>5</li><li>9</li><li>0</li></ol>\n"
            ],
            "text/markdown": "1. 5\n2. 7\n3. 3\n4. 5\n5. 6\n6. 6.2\n7. 5\n8. 6\n9. 7\n10. 2\n11. 3\n12. 5\n13. 9\n14. 0\n\n\n",
            "text/latex": "\\begin{enumerate*}\n\\item 5\n\\item 7\n\\item 3\n\\item 5\n\\item 6\n\\item 6.2\n\\item 5\n\\item 6\n\\item 7\n\\item 2\n\\item 3\n\\item 5\n\\item 9\n\\item 0\n\\end{enumerate*}\n",
            "text/plain": [
              " [1] 5.0 7.0 3.0 5.0 6.0 6.2 5.0 6.0 7.0 2.0 3.0 5.0 9.0 0.0"
            ]
          },
          "metadata": {}
        }
      ]
    },
    {
      "cell_type": "code",
      "source": [
        "sort(x)"
      ],
      "metadata": {
        "colab": {
          "base_uri": "https://localhost:8080/",
          "height": 34
        },
        "id": "nZxxm-GzyGZJ",
        "outputId": "09d3409d-e024-47f2-cee3-4d1869174e64"
      },
      "execution_count": 16,
      "outputs": [
        {
          "output_type": "display_data",
          "data": {
            "text/html": [
              "<style>\n",
              ".list-inline {list-style: none; margin:0; padding: 0}\n",
              ".list-inline>li {display: inline-block}\n",
              ".list-inline>li:not(:last-child)::after {content: \"\\00b7\"; padding: 0 .5ex}\n",
              "</style>\n",
              "<ol class=list-inline><li>0</li><li>2</li><li>3</li><li>3</li><li>5</li><li>5</li><li>5</li><li>5</li><li>6</li><li>6</li><li>6.2</li><li>7</li><li>7</li><li>9</li></ol>\n"
            ],
            "text/markdown": "1. 0\n2. 2\n3. 3\n4. 3\n5. 5\n6. 5\n7. 5\n8. 5\n9. 6\n10. 6\n11. 6.2\n12. 7\n13. 7\n14. 9\n\n\n",
            "text/latex": "\\begin{enumerate*}\n\\item 0\n\\item 2\n\\item 3\n\\item 3\n\\item 5\n\\item 5\n\\item 5\n\\item 5\n\\item 6\n\\item 6\n\\item 6.2\n\\item 7\n\\item 7\n\\item 9\n\\end{enumerate*}\n",
            "text/plain": [
              " [1] 0.0 2.0 3.0 3.0 5.0 5.0 5.0 5.0 6.0 6.0 6.2 7.0 7.0 9.0"
            ]
          },
          "metadata": {}
        }
      ]
    },
    {
      "cell_type": "code",
      "source": [
        "sort(x, decreasing = TRUE)"
      ],
      "metadata": {
        "colab": {
          "base_uri": "https://localhost:8080/",
          "height": 34
        },
        "id": "rV6tc_Tn551d",
        "outputId": "5797c3ab-893a-4457-affc-1353633addf7"
      },
      "execution_count": 17,
      "outputs": [
        {
          "output_type": "display_data",
          "data": {
            "text/html": [
              "<style>\n",
              ".list-inline {list-style: none; margin:0; padding: 0}\n",
              ".list-inline>li {display: inline-block}\n",
              ".list-inline>li:not(:last-child)::after {content: \"\\00b7\"; padding: 0 .5ex}\n",
              "</style>\n",
              "<ol class=list-inline><li>9</li><li>7</li><li>7</li><li>6.2</li><li>6</li><li>6</li><li>5</li><li>5</li><li>5</li><li>5</li><li>3</li><li>3</li><li>2</li><li>0</li></ol>\n"
            ],
            "text/markdown": "1. 9\n2. 7\n3. 7\n4. 6.2\n5. 6\n6. 6\n7. 5\n8. 5\n9. 5\n10. 5\n11. 3\n12. 3\n13. 2\n14. 0\n\n\n",
            "text/latex": "\\begin{enumerate*}\n\\item 9\n\\item 7\n\\item 7\n\\item 6.2\n\\item 6\n\\item 6\n\\item 5\n\\item 5\n\\item 5\n\\item 5\n\\item 3\n\\item 3\n\\item 2\n\\item 0\n\\end{enumerate*}\n",
            "text/plain": [
              " [1] 9.0 7.0 7.0 6.2 6.0 6.0 5.0 5.0 5.0 5.0 3.0 3.0 2.0 0.0"
            ]
          },
          "metadata": {}
        }
      ]
    },
    {
      "cell_type": "code",
      "source": [
        "x"
      ],
      "metadata": {
        "colab": {
          "base_uri": "https://localhost:8080/",
          "height": 34
        },
        "id": "LL744b8EyHVq",
        "outputId": "64438f9e-3bee-40fc-9702-f079bfa5e325"
      },
      "execution_count": 18,
      "outputs": [
        {
          "output_type": "display_data",
          "data": {
            "text/html": [
              "<style>\n",
              ".list-inline {list-style: none; margin:0; padding: 0}\n",
              ".list-inline>li {display: inline-block}\n",
              ".list-inline>li:not(:last-child)::after {content: \"\\00b7\"; padding: 0 .5ex}\n",
              "</style>\n",
              "<ol class=list-inline><li>5</li><li>7</li><li>3</li><li>5</li><li>6</li><li>6.2</li><li>5</li><li>6</li><li>7</li><li>2</li><li>3</li><li>5</li><li>9</li><li>0</li></ol>\n"
            ],
            "text/markdown": "1. 5\n2. 7\n3. 3\n4. 5\n5. 6\n6. 6.2\n7. 5\n8. 6\n9. 7\n10. 2\n11. 3\n12. 5\n13. 9\n14. 0\n\n\n",
            "text/latex": "\\begin{enumerate*}\n\\item 5\n\\item 7\n\\item 3\n\\item 5\n\\item 6\n\\item 6.2\n\\item 5\n\\item 6\n\\item 7\n\\item 2\n\\item 3\n\\item 5\n\\item 9\n\\item 0\n\\end{enumerate*}\n",
            "text/plain": [
              " [1] 5.0 7.0 3.0 5.0 6.0 6.2 5.0 6.0 7.0 2.0 3.0 5.0 9.0 0.0"
            ]
          },
          "metadata": {}
        }
      ]
    },
    {
      "cell_type": "code",
      "source": [
        "x=sort(x)"
      ],
      "metadata": {
        "id": "MeiNbs0EyIVa"
      },
      "execution_count": 19,
      "outputs": []
    },
    {
      "cell_type": "code",
      "source": [
        "x"
      ],
      "metadata": {
        "colab": {
          "base_uri": "https://localhost:8080/",
          "height": 34
        },
        "id": "7PHlo8NJyJ_C",
        "outputId": "dd6cdfb0-ec9f-48e8-8bb2-728d9e55ff95"
      },
      "execution_count": 20,
      "outputs": [
        {
          "output_type": "display_data",
          "data": {
            "text/html": [
              "<style>\n",
              ".list-inline {list-style: none; margin:0; padding: 0}\n",
              ".list-inline>li {display: inline-block}\n",
              ".list-inline>li:not(:last-child)::after {content: \"\\00b7\"; padding: 0 .5ex}\n",
              "</style>\n",
              "<ol class=list-inline><li>0</li><li>2</li><li>3</li><li>3</li><li>5</li><li>5</li><li>5</li><li>5</li><li>6</li><li>6</li><li>6.2</li><li>7</li><li>7</li><li>9</li></ol>\n"
            ],
            "text/markdown": "1. 0\n2. 2\n3. 3\n4. 3\n5. 5\n6. 5\n7. 5\n8. 5\n9. 6\n10. 6\n11. 6.2\n12. 7\n13. 7\n14. 9\n\n\n",
            "text/latex": "\\begin{enumerate*}\n\\item 0\n\\item 2\n\\item 3\n\\item 3\n\\item 5\n\\item 5\n\\item 5\n\\item 5\n\\item 6\n\\item 6\n\\item 6.2\n\\item 7\n\\item 7\n\\item 9\n\\end{enumerate*}\n",
            "text/plain": [
              " [1] 0.0 2.0 3.0 3.0 5.0 5.0 5.0 5.0 6.0 6.0 6.2 7.0 7.0 9.0"
            ]
          },
          "metadata": {}
        }
      ]
    },
    {
      "cell_type": "code",
      "source": [
        "x<- c(\"Adam\", \"John\", \"Joseph\")\n",
        "sort(x)"
      ],
      "metadata": {
        "colab": {
          "base_uri": "https://localhost:8080/",
          "height": 34
        },
        "id": "-IjOKcOVyShn",
        "outputId": "a56bf8bd-ba67-4358-a215-be12e875ac57"
      },
      "execution_count": 21,
      "outputs": [
        {
          "output_type": "display_data",
          "data": {
            "text/html": [
              "<style>\n",
              ".list-inline {list-style: none; margin:0; padding: 0}\n",
              ".list-inline>li {display: inline-block}\n",
              ".list-inline>li:not(:last-child)::after {content: \"\\00b7\"; padding: 0 .5ex}\n",
              "</style>\n",
              "<ol class=list-inline><li>'Adam'</li><li>'John'</li><li>'Joseph'</li></ol>\n"
            ],
            "text/markdown": "1. 'Adam'\n2. 'John'\n3. 'Joseph'\n\n\n",
            "text/latex": "\\begin{enumerate*}\n\\item 'Adam'\n\\item 'John'\n\\item 'Joseph'\n\\end{enumerate*}\n",
            "text/plain": [
              "[1] \"Adam\"   \"John\"   \"Joseph\""
            ]
          },
          "metadata": {}
        }
      ]
    },
    {
      "cell_type": "code",
      "source": [
        "x<-c(5,7,3,5,6,6.2,5,6,7,2,3,5,9,0)\n",
        "x[1:3]"
      ],
      "metadata": {
        "colab": {
          "base_uri": "https://localhost:8080/",
          "height": 34
        },
        "id": "u4MrM8O4yccu",
        "outputId": "372285a5-6d6f-4f8d-b778-3d015e859b40"
      },
      "execution_count": 22,
      "outputs": [
        {
          "output_type": "display_data",
          "data": {
            "text/html": [
              "<style>\n",
              ".list-inline {list-style: none; margin:0; padding: 0}\n",
              ".list-inline>li {display: inline-block}\n",
              ".list-inline>li:not(:last-child)::after {content: \"\\00b7\"; padding: 0 .5ex}\n",
              "</style>\n",
              "<ol class=list-inline><li>5</li><li>7</li><li>3</li></ol>\n"
            ],
            "text/markdown": "1. 5\n2. 7\n3. 3\n\n\n",
            "text/latex": "\\begin{enumerate*}\n\\item 5\n\\item 7\n\\item 3\n\\end{enumerate*}\n",
            "text/plain": [
              "[1] 5 7 3"
            ]
          },
          "metadata": {}
        }
      ]
    },
    {
      "cell_type": "code",
      "source": [
        "x[3:5]"
      ],
      "metadata": {
        "colab": {
          "base_uri": "https://localhost:8080/",
          "height": 34
        },
        "id": "8kfb9rvXylnm",
        "outputId": "e293b769-09f3-46e1-9b4a-ad210a893f32"
      },
      "execution_count": 23,
      "outputs": [
        {
          "output_type": "display_data",
          "data": {
            "text/html": [
              "<style>\n",
              ".list-inline {list-style: none; margin:0; padding: 0}\n",
              ".list-inline>li {display: inline-block}\n",
              ".list-inline>li:not(:last-child)::after {content: \"\\00b7\"; padding: 0 .5ex}\n",
              "</style>\n",
              "<ol class=list-inline><li>3</li><li>5</li><li>6</li></ol>\n"
            ],
            "text/markdown": "1. 3\n2. 5\n3. 6\n\n\n",
            "text/latex": "\\begin{enumerate*}\n\\item 3\n\\item 5\n\\item 6\n\\end{enumerate*}\n",
            "text/plain": [
              "[1] 3 5 6"
            ]
          },
          "metadata": {}
        }
      ]
    },
    {
      "cell_type": "code",
      "source": [
        "x[c(1, 3)] "
      ],
      "metadata": {
        "colab": {
          "base_uri": "https://localhost:8080/",
          "height": 34
        },
        "id": "PK2Lv-QzypGQ",
        "outputId": "9c89805a-8893-491e-d305-7f7ba3f43244"
      },
      "execution_count": 24,
      "outputs": [
        {
          "output_type": "display_data",
          "data": {
            "text/html": [
              "<style>\n",
              ".list-inline {list-style: none; margin:0; padding: 0}\n",
              ".list-inline>li {display: inline-block}\n",
              ".list-inline>li:not(:last-child)::after {content: \"\\00b7\"; padding: 0 .5ex}\n",
              "</style>\n",
              "<ol class=list-inline><li>5</li><li>3</li></ol>\n"
            ],
            "text/markdown": "1. 5\n2. 3\n\n\n",
            "text/latex": "\\begin{enumerate*}\n\\item 5\n\\item 3\n\\end{enumerate*}\n",
            "text/plain": [
              "[1] 5 3"
            ]
          },
          "metadata": {}
        }
      ]
    },
    {
      "cell_type": "code",
      "source": [
        "y<-1:4"
      ],
      "metadata": {
        "id": "Jr8qoJLVyxmw"
      },
      "execution_count": 25,
      "outputs": []
    },
    {
      "cell_type": "code",
      "source": [
        "x[y]"
      ],
      "metadata": {
        "colab": {
          "base_uri": "https://localhost:8080/",
          "height": 34
        },
        "id": "GPxMzPaQy-Wn",
        "outputId": "91863b26-cb02-4b61-c3ec-b4ea0530eed0"
      },
      "execution_count": 26,
      "outputs": [
        {
          "output_type": "display_data",
          "data": {
            "text/html": [
              "<style>\n",
              ".list-inline {list-style: none; margin:0; padding: 0}\n",
              ".list-inline>li {display: inline-block}\n",
              ".list-inline>li:not(:last-child)::after {content: \"\\00b7\"; padding: 0 .5ex}\n",
              "</style>\n",
              "<ol class=list-inline><li>5</li><li>7</li><li>3</li><li>5</li></ol>\n"
            ],
            "text/markdown": "1. 5\n2. 7\n3. 3\n4. 5\n\n\n",
            "text/latex": "\\begin{enumerate*}\n\\item 5\n\\item 7\n\\item 3\n\\item 5\n\\end{enumerate*}\n",
            "text/plain": [
              "[1] 5 7 3 5"
            ]
          },
          "metadata": {}
        }
      ]
    },
    {
      "cell_type": "code",
      "source": [
        "x[c(-1)] "
      ],
      "metadata": {
        "colab": {
          "base_uri": "https://localhost:8080/",
          "height": 34
        },
        "id": "ob_Ky8I-3cv_",
        "outputId": "2e76fdaf-d959-4bdb-f03a-fbb6aab74df1"
      },
      "execution_count": 27,
      "outputs": [
        {
          "output_type": "display_data",
          "data": {
            "text/html": [
              "<style>\n",
              ".list-inline {list-style: none; margin:0; padding: 0}\n",
              ".list-inline>li {display: inline-block}\n",
              ".list-inline>li:not(:last-child)::after {content: \"\\00b7\"; padding: 0 .5ex}\n",
              "</style>\n",
              "<ol class=list-inline><li>7</li><li>3</li><li>5</li><li>6</li><li>6.2</li><li>5</li><li>6</li><li>7</li><li>2</li><li>3</li><li>5</li><li>9</li><li>0</li></ol>\n"
            ],
            "text/markdown": "1. 7\n2. 3\n3. 5\n4. 6\n5. 6.2\n6. 5\n7. 6\n8. 7\n9. 2\n10. 3\n11. 5\n12. 9\n13. 0\n\n\n",
            "text/latex": "\\begin{enumerate*}\n\\item 7\n\\item 3\n\\item 5\n\\item 6\n\\item 6.2\n\\item 5\n\\item 6\n\\item 7\n\\item 2\n\\item 3\n\\item 5\n\\item 9\n\\item 0\n\\end{enumerate*}\n",
            "text/plain": [
              " [1] 7.0 3.0 5.0 6.0 6.2 5.0 6.0 7.0 2.0 3.0 5.0 9.0 0.0"
            ]
          },
          "metadata": {}
        }
      ]
    },
    {
      "cell_type": "code",
      "source": [
        "x[c(-1:-3)] "
      ],
      "metadata": {
        "colab": {
          "base_uri": "https://localhost:8080/",
          "height": 34
        },
        "id": "UU6whf5YzFlT",
        "outputId": "089ff71e-8fa1-4c73-97de-a804568efc33"
      },
      "execution_count": 28,
      "outputs": [
        {
          "output_type": "display_data",
          "data": {
            "text/html": [
              "<style>\n",
              ".list-inline {list-style: none; margin:0; padding: 0}\n",
              ".list-inline>li {display: inline-block}\n",
              ".list-inline>li:not(:last-child)::after {content: \"\\00b7\"; padding: 0 .5ex}\n",
              "</style>\n",
              "<ol class=list-inline><li>5</li><li>6</li><li>6.2</li><li>5</li><li>6</li><li>7</li><li>2</li><li>3</li><li>5</li><li>9</li><li>0</li></ol>\n"
            ],
            "text/markdown": "1. 5\n2. 6\n3. 6.2\n4. 5\n5. 6\n6. 7\n7. 2\n8. 3\n9. 5\n10. 9\n11. 0\n\n\n",
            "text/latex": "\\begin{enumerate*}\n\\item 5\n\\item 6\n\\item 6.2\n\\item 5\n\\item 6\n\\item 7\n\\item 2\n\\item 3\n\\item 5\n\\item 9\n\\item 0\n\\end{enumerate*}\n",
            "text/plain": [
              " [1] 5.0 6.0 6.2 5.0 6.0 7.0 2.0 3.0 5.0 9.0 0.0"
            ]
          },
          "metadata": {}
        }
      ]
    },
    {
      "cell_type": "code",
      "source": [
        "x[c(-2,-5)]"
      ],
      "metadata": {
        "colab": {
          "base_uri": "https://localhost:8080/",
          "height": 34
        },
        "id": "VYzgGiJF4km7",
        "outputId": "4c0a3d83-e7be-4c2d-a517-dad44699bb81"
      },
      "execution_count": 29,
      "outputs": [
        {
          "output_type": "display_data",
          "data": {
            "text/html": [
              "<style>\n",
              ".list-inline {list-style: none; margin:0; padding: 0}\n",
              ".list-inline>li {display: inline-block}\n",
              ".list-inline>li:not(:last-child)::after {content: \"\\00b7\"; padding: 0 .5ex}\n",
              "</style>\n",
              "<ol class=list-inline><li>5</li><li>3</li><li>5</li><li>6.2</li><li>5</li><li>6</li><li>7</li><li>2</li><li>3</li><li>5</li><li>9</li><li>0</li></ol>\n"
            ],
            "text/markdown": "1. 5\n2. 3\n3. 5\n4. 6.2\n5. 5\n6. 6\n7. 7\n8. 2\n9. 3\n10. 5\n11. 9\n12. 0\n\n\n",
            "text/latex": "\\begin{enumerate*}\n\\item 5\n\\item 3\n\\item 5\n\\item 6.2\n\\item 5\n\\item 6\n\\item 7\n\\item 2\n\\item 3\n\\item 5\n\\item 9\n\\item 0\n\\end{enumerate*}\n",
            "text/plain": [
              " [1] 5.0 3.0 5.0 6.2 5.0 6.0 7.0 2.0 3.0 5.0 9.0 0.0"
            ]
          },
          "metadata": {}
        }
      ]
    },
    {
      "cell_type": "code",
      "source": [
        "x"
      ],
      "metadata": {
        "colab": {
          "base_uri": "https://localhost:8080/",
          "height": 34
        },
        "id": "EnWgw4VE3nrL",
        "outputId": "8d1b6e75-d208-43c7-ebc8-374e024765f8"
      },
      "execution_count": 30,
      "outputs": [
        {
          "output_type": "display_data",
          "data": {
            "text/html": [
              "<style>\n",
              ".list-inline {list-style: none; margin:0; padding: 0}\n",
              ".list-inline>li {display: inline-block}\n",
              ".list-inline>li:not(:last-child)::after {content: \"\\00b7\"; padding: 0 .5ex}\n",
              "</style>\n",
              "<ol class=list-inline><li>5</li><li>7</li><li>3</li><li>5</li><li>6</li><li>6.2</li><li>5</li><li>6</li><li>7</li><li>2</li><li>3</li><li>5</li><li>9</li><li>0</li></ol>\n"
            ],
            "text/markdown": "1. 5\n2. 7\n3. 3\n4. 5\n5. 6\n6. 6.2\n7. 5\n8. 6\n9. 7\n10. 2\n11. 3\n12. 5\n13. 9\n14. 0\n\n\n",
            "text/latex": "\\begin{enumerate*}\n\\item 5\n\\item 7\n\\item 3\n\\item 5\n\\item 6\n\\item 6.2\n\\item 5\n\\item 6\n\\item 7\n\\item 2\n\\item 3\n\\item 5\n\\item 9\n\\item 0\n\\end{enumerate*}\n",
            "text/plain": [
              " [1] 5.0 7.0 3.0 5.0 6.0 6.2 5.0 6.0 7.0 2.0 3.0 5.0 9.0 0.0"
            ]
          },
          "metadata": {}
        }
      ]
    },
    {
      "cell_type": "code",
      "source": [
        "x[1]<-10"
      ],
      "metadata": {
        "id": "tXxeXmP_3wMX"
      },
      "execution_count": 31,
      "outputs": []
    },
    {
      "cell_type": "code",
      "source": [
        "x"
      ],
      "metadata": {
        "colab": {
          "base_uri": "https://localhost:8080/",
          "height": 34
        },
        "id": "gOkJ7soU3yUz",
        "outputId": "24370521-031a-4119-a28f-e1a8a55f532f"
      },
      "execution_count": 32,
      "outputs": [
        {
          "output_type": "display_data",
          "data": {
            "text/html": [
              "<style>\n",
              ".list-inline {list-style: none; margin:0; padding: 0}\n",
              ".list-inline>li {display: inline-block}\n",
              ".list-inline>li:not(:last-child)::after {content: \"\\00b7\"; padding: 0 .5ex}\n",
              "</style>\n",
              "<ol class=list-inline><li>10</li><li>7</li><li>3</li><li>5</li><li>6</li><li>6.2</li><li>5</li><li>6</li><li>7</li><li>2</li><li>3</li><li>5</li><li>9</li><li>0</li></ol>\n"
            ],
            "text/markdown": "1. 10\n2. 7\n3. 3\n4. 5\n5. 6\n6. 6.2\n7. 5\n8. 6\n9. 7\n10. 2\n11. 3\n12. 5\n13. 9\n14. 0\n\n\n",
            "text/latex": "\\begin{enumerate*}\n\\item 10\n\\item 7\n\\item 3\n\\item 5\n\\item 6\n\\item 6.2\n\\item 5\n\\item 6\n\\item 7\n\\item 2\n\\item 3\n\\item 5\n\\item 9\n\\item 0\n\\end{enumerate*}\n",
            "text/plain": [
              " [1] 10.0  7.0  3.0  5.0  6.0  6.2  5.0  6.0  7.0  2.0  3.0  5.0  9.0  0.0"
            ]
          },
          "metadata": {}
        }
      ]
    },
    {
      "cell_type": "code",
      "source": [
        "x<- rep(c(1,2,3), each = 3)"
      ],
      "metadata": {
        "id": "z0_A2n463ygo"
      },
      "execution_count": 33,
      "outputs": []
    },
    {
      "cell_type": "code",
      "source": [
        "x"
      ],
      "metadata": {
        "colab": {
          "base_uri": "https://localhost:8080/",
          "height": 34
        },
        "id": "fhGR-NDL33-v",
        "outputId": "f2183ae6-9bc2-4df4-d1bb-6ba4b4032ad7"
      },
      "execution_count": 34,
      "outputs": [
        {
          "output_type": "display_data",
          "data": {
            "text/html": [
              "<style>\n",
              ".list-inline {list-style: none; margin:0; padding: 0}\n",
              ".list-inline>li {display: inline-block}\n",
              ".list-inline>li:not(:last-child)::after {content: \"\\00b7\"; padding: 0 .5ex}\n",
              "</style>\n",
              "<ol class=list-inline><li>1</li><li>1</li><li>1</li><li>2</li><li>2</li><li>2</li><li>3</li><li>3</li><li>3</li></ol>\n"
            ],
            "text/markdown": "1. 1\n2. 1\n3. 1\n4. 2\n5. 2\n6. 2\n7. 3\n8. 3\n9. 3\n\n\n",
            "text/latex": "\\begin{enumerate*}\n\\item 1\n\\item 1\n\\item 1\n\\item 2\n\\item 2\n\\item 2\n\\item 3\n\\item 3\n\\item 3\n\\end{enumerate*}\n",
            "text/plain": [
              "[1] 1 1 1 2 2 2 3 3 3"
            ]
          },
          "metadata": {}
        }
      ]
    },
    {
      "cell_type": "code",
      "source": [
        "x<- rep(c(1,2,3), times = 3)\n",
        "x"
      ],
      "metadata": {
        "colab": {
          "base_uri": "https://localhost:8080/",
          "height": 34
        },
        "id": "vFgf8ZDB3_N9",
        "outputId": "4cbee4e0-70af-4fd7-badf-63885b00c878"
      },
      "execution_count": 35,
      "outputs": [
        {
          "output_type": "display_data",
          "data": {
            "text/html": [
              "<style>\n",
              ".list-inline {list-style: none; margin:0; padding: 0}\n",
              ".list-inline>li {display: inline-block}\n",
              ".list-inline>li:not(:last-child)::after {content: \"\\00b7\"; padding: 0 .5ex}\n",
              "</style>\n",
              "<ol class=list-inline><li>1</li><li>2</li><li>3</li><li>1</li><li>2</li><li>3</li><li>1</li><li>2</li><li>3</li></ol>\n"
            ],
            "text/markdown": "1. 1\n2. 2\n3. 3\n4. 1\n5. 2\n6. 3\n7. 1\n8. 2\n9. 3\n\n\n",
            "text/latex": "\\begin{enumerate*}\n\\item 1\n\\item 2\n\\item 3\n\\item 1\n\\item 2\n\\item 3\n\\item 1\n\\item 2\n\\item 3\n\\end{enumerate*}\n",
            "text/plain": [
              "[1] 1 2 3 1 2 3 1 2 3"
            ]
          },
          "metadata": {}
        }
      ]
    },
    {
      "cell_type": "code",
      "source": [
        "x<- rep(c(1,2,3), times = c(4,2,3))"
      ],
      "metadata": {
        "id": "4pkyuXyA4ESu"
      },
      "execution_count": 36,
      "outputs": []
    },
    {
      "cell_type": "code",
      "source": [
        "x"
      ],
      "metadata": {
        "colab": {
          "base_uri": "https://localhost:8080/",
          "height": 34
        },
        "id": "Vw55EngW4JRH",
        "outputId": "ce41a85a-51de-4c20-92e5-53281fce90e7"
      },
      "execution_count": 37,
      "outputs": [
        {
          "output_type": "display_data",
          "data": {
            "text/html": [
              "<style>\n",
              ".list-inline {list-style: none; margin:0; padding: 0}\n",
              ".list-inline>li {display: inline-block}\n",
              ".list-inline>li:not(:last-child)::after {content: \"\\00b7\"; padding: 0 .5ex}\n",
              "</style>\n",
              "<ol class=list-inline><li>1</li><li>1</li><li>1</li><li>1</li><li>2</li><li>2</li><li>3</li><li>3</li><li>3</li></ol>\n"
            ],
            "text/markdown": "1. 1\n2. 1\n3. 1\n4. 1\n5. 2\n6. 2\n7. 3\n8. 3\n9. 3\n\n\n",
            "text/latex": "\\begin{enumerate*}\n\\item 1\n\\item 1\n\\item 1\n\\item 1\n\\item 2\n\\item 2\n\\item 3\n\\item 3\n\\item 3\n\\end{enumerate*}\n",
            "text/plain": [
              "[1] 1 1 1 1 2 2 3 3 3"
            ]
          },
          "metadata": {}
        }
      ]
    },
    {
      "cell_type": "code",
      "source": [
        "x<- seq(from = 0, to = 10, by = 2)"
      ],
      "metadata": {
        "id": "syjHF7mh4KER"
      },
      "execution_count": 38,
      "outputs": []
    },
    {
      "cell_type": "code",
      "source": [
        "x"
      ],
      "metadata": {
        "colab": {
          "base_uri": "https://localhost:8080/",
          "height": 34
        },
        "id": "8bDPjtOf4PVK",
        "outputId": "bcc2c7ea-251f-4895-c9cc-6c06a4da6933"
      },
      "execution_count": 39,
      "outputs": [
        {
          "output_type": "display_data",
          "data": {
            "text/html": [
              "<style>\n",
              ".list-inline {list-style: none; margin:0; padding: 0}\n",
              ".list-inline>li {display: inline-block}\n",
              ".list-inline>li:not(:last-child)::after {content: \"\\00b7\"; padding: 0 .5ex}\n",
              "</style>\n",
              "<ol class=list-inline><li>0</li><li>2</li><li>4</li><li>6</li><li>8</li><li>10</li></ol>\n"
            ],
            "text/markdown": "1. 0\n2. 2\n3. 4\n4. 6\n5. 8\n6. 10\n\n\n",
            "text/latex": "\\begin{enumerate*}\n\\item 0\n\\item 2\n\\item 4\n\\item 6\n\\item 8\n\\item 10\n\\end{enumerate*}\n",
            "text/plain": [
              "[1]  0  2  4  6  8 10"
            ]
          },
          "metadata": {}
        }
      ]
    },
    {
      "cell_type": "code",
      "source": [
        "x<-seq(1,4,length.out=6)  \n",
        "x"
      ],
      "metadata": {
        "colab": {
          "base_uri": "https://localhost:8080/",
          "height": 34
        },
        "id": "fUV2ESAy4QCv",
        "outputId": "367444d4-6312-449d-f22f-3fcb88b77765"
      },
      "execution_count": 40,
      "outputs": [
        {
          "output_type": "display_data",
          "data": {
            "text/html": [
              "<style>\n",
              ".list-inline {list-style: none; margin:0; padding: 0}\n",
              ".list-inline>li {display: inline-block}\n",
              ".list-inline>li:not(:last-child)::after {content: \"\\00b7\"; padding: 0 .5ex}\n",
              "</style>\n",
              "<ol class=list-inline><li>1</li><li>1.6</li><li>2.2</li><li>2.8</li><li>3.4</li><li>4</li></ol>\n"
            ],
            "text/markdown": "1. 1\n2. 1.6\n3. 2.2\n4. 2.8\n5. 3.4\n6. 4\n\n\n",
            "text/latex": "\\begin{enumerate*}\n\\item 1\n\\item 1.6\n\\item 2.2\n\\item 2.8\n\\item 3.4\n\\item 4\n\\end{enumerate*}\n",
            "text/plain": [
              "[1] 1.0 1.6 2.2 2.8 3.4 4.0"
            ]
          },
          "metadata": {}
        }
      ]
    },
    {
      "cell_type": "code",
      "source": [
        "x<-c(\"ID1\"=45,\"ID2\"=55,\"ID3\"=44)  \n",
        "x[\"ID1\"]"
      ],
      "metadata": {
        "colab": {
          "base_uri": "https://localhost:8080/",
          "height": 34
        },
        "id": "wAfZtWa-6LjK",
        "outputId": "8e3ce65c-a1d9-4b6c-f8c9-3206248f0f15"
      },
      "execution_count": 41,
      "outputs": [
        {
          "output_type": "display_data",
          "data": {
            "text/html": [
              "<strong>ID1:</strong> 45"
            ],
            "text/markdown": "**ID1:** 45",
            "text/latex": "\\textbf{ID1:} 45",
            "text/plain": [
              "ID1 \n",
              " 45 "
            ]
          },
          "metadata": {}
        }
      ]
    },
    {
      "cell_type": "code",
      "source": [
        "    x<-c(1,2,3,4,5,6)  \n",
        "    x[c(TRUE,FALSE,TRUE,TRUE,FALSE,TRUE)]  "
      ],
      "metadata": {
        "colab": {
          "base_uri": "https://localhost:8080/",
          "height": 34
        },
        "id": "jeYuYz7V6cmM",
        "outputId": "981cdadd-0b5a-47fc-87f2-a1d54967742b"
      },
      "execution_count": 42,
      "outputs": [
        {
          "output_type": "display_data",
          "data": {
            "text/html": [
              "<style>\n",
              ".list-inline {list-style: none; margin:0; padding: 0}\n",
              ".list-inline>li {display: inline-block}\n",
              ".list-inline>li:not(:last-child)::after {content: \"\\00b7\"; padding: 0 .5ex}\n",
              "</style>\n",
              "<ol class=list-inline><li>1</li><li>3</li><li>4</li><li>6</li></ol>\n"
            ],
            "text/markdown": "1. 1\n2. 3\n3. 4\n4. 6\n\n\n",
            "text/latex": "\\begin{enumerate*}\n\\item 1\n\\item 3\n\\item 4\n\\item 6\n\\end{enumerate*}\n",
            "text/plain": [
              "[1] 1 3 4 6"
            ]
          },
          "metadata": {}
        }
      ]
    },
    {
      "cell_type": "code",
      "source": [
        "x<- seq(from = 0, to = 10, by = 2)\n",
        "y<- seq(from = 0, to = 20, by = 2)"
      ],
      "metadata": {
        "id": "zdbq68_f6n31"
      },
      "execution_count": 43,
      "outputs": []
    },
    {
      "cell_type": "code",
      "source": [
        "x"
      ],
      "metadata": {
        "colab": {
          "base_uri": "https://localhost:8080/",
          "height": 34
        },
        "id": "OI4saVTL6ywo",
        "outputId": "170c774c-b7b8-4336-a01c-ac718acb828f"
      },
      "execution_count": 44,
      "outputs": [
        {
          "output_type": "display_data",
          "data": {
            "text/html": [
              "<style>\n",
              ".list-inline {list-style: none; margin:0; padding: 0}\n",
              ".list-inline>li {display: inline-block}\n",
              ".list-inline>li:not(:last-child)::after {content: \"\\00b7\"; padding: 0 .5ex}\n",
              "</style>\n",
              "<ol class=list-inline><li>0</li><li>2</li><li>4</li><li>6</li><li>8</li><li>10</li></ol>\n"
            ],
            "text/markdown": "1. 0\n2. 2\n3. 4\n4. 6\n5. 8\n6. 10\n\n\n",
            "text/latex": "\\begin{enumerate*}\n\\item 0\n\\item 2\n\\item 4\n\\item 6\n\\item 8\n\\item 10\n\\end{enumerate*}\n",
            "text/plain": [
              "[1]  0  2  4  6  8 10"
            ]
          },
          "metadata": {}
        }
      ]
    },
    {
      "cell_type": "code",
      "source": [
        "y"
      ],
      "metadata": {
        "colab": {
          "base_uri": "https://localhost:8080/",
          "height": 34
        },
        "id": "W7EUsMr37CqX",
        "outputId": "afe5a494-7b15-439c-cc8e-aa8f3df1ff62"
      },
      "execution_count": 45,
      "outputs": [
        {
          "output_type": "display_data",
          "data": {
            "text/html": [
              "<style>\n",
              ".list-inline {list-style: none; margin:0; padding: 0}\n",
              ".list-inline>li {display: inline-block}\n",
              ".list-inline>li:not(:last-child)::after {content: \"\\00b7\"; padding: 0 .5ex}\n",
              "</style>\n",
              "<ol class=list-inline><li>0</li><li>2</li><li>4</li><li>6</li><li>8</li><li>10</li><li>12</li><li>14</li><li>16</li><li>18</li><li>20</li></ol>\n"
            ],
            "text/markdown": "1. 0\n2. 2\n3. 4\n4. 6\n5. 8\n6. 10\n7. 12\n8. 14\n9. 16\n10. 18\n11. 20\n\n\n",
            "text/latex": "\\begin{enumerate*}\n\\item 0\n\\item 2\n\\item 4\n\\item 6\n\\item 8\n\\item 10\n\\item 12\n\\item 14\n\\item 16\n\\item 18\n\\item 20\n\\end{enumerate*}\n",
            "text/plain": [
              " [1]  0  2  4  6  8 10 12 14 16 18 20"
            ]
          },
          "metadata": {}
        }
      ]
    },
    {
      "cell_type": "code",
      "source": [
        "z<-c(x,y)  \n",
        "z"
      ],
      "metadata": {
        "colab": {
          "base_uri": "https://localhost:8080/",
          "height": 34
        },
        "id": "s4VIuT8v7C70",
        "outputId": "cc1253e0-bea4-45a7-9703-76dfa7abe145"
      },
      "execution_count": 46,
      "outputs": [
        {
          "output_type": "display_data",
          "data": {
            "text/html": [
              "<style>\n",
              ".list-inline {list-style: none; margin:0; padding: 0}\n",
              ".list-inline>li {display: inline-block}\n",
              ".list-inline>li:not(:last-child)::after {content: \"\\00b7\"; padding: 0 .5ex}\n",
              "</style>\n",
              "<ol class=list-inline><li>0</li><li>2</li><li>4</li><li>6</li><li>8</li><li>10</li><li>0</li><li>2</li><li>4</li><li>6</li><li>8</li><li>10</li><li>12</li><li>14</li><li>16</li><li>18</li><li>20</li></ol>\n"
            ],
            "text/markdown": "1. 0\n2. 2\n3. 4\n4. 6\n5. 8\n6. 10\n7. 0\n8. 2\n9. 4\n10. 6\n11. 8\n12. 10\n13. 12\n14. 14\n15. 16\n16. 18\n17. 20\n\n\n",
            "text/latex": "\\begin{enumerate*}\n\\item 0\n\\item 2\n\\item 4\n\\item 6\n\\item 8\n\\item 10\n\\item 0\n\\item 2\n\\item 4\n\\item 6\n\\item 8\n\\item 10\n\\item 12\n\\item 14\n\\item 16\n\\item 18\n\\item 20\n\\end{enumerate*}\n",
            "text/plain": [
              " [1]  0  2  4  6  8 10  0  2  4  6  8 10 12 14 16 18 20"
            ]
          },
          "metadata": {}
        }
      ]
    },
    {
      "cell_type": "code",
      "source": [
        "x+y"
      ],
      "metadata": {
        "colab": {
          "base_uri": "https://localhost:8080/",
          "height": 71
        },
        "id": "F3AhhRAq7Dis",
        "outputId": "933e7863-f358-400c-e50d-067270ba5ac8"
      },
      "execution_count": 47,
      "outputs": [
        {
          "output_type": "stream",
          "name": "stderr",
          "text": [
            "Warning message in x + y:\n",
            "“longer object length is not a multiple of shorter object length”\n"
          ]
        },
        {
          "output_type": "display_data",
          "data": {
            "text/html": [
              "<style>\n",
              ".list-inline {list-style: none; margin:0; padding: 0}\n",
              ".list-inline>li {display: inline-block}\n",
              ".list-inline>li:not(:last-child)::after {content: \"\\00b7\"; padding: 0 .5ex}\n",
              "</style>\n",
              "<ol class=list-inline><li>0</li><li>4</li><li>8</li><li>12</li><li>16</li><li>20</li><li>12</li><li>16</li><li>20</li><li>24</li><li>28</li></ol>\n"
            ],
            "text/markdown": "1. 0\n2. 4\n3. 8\n4. 12\n5. 16\n6. 20\n7. 12\n8. 16\n9. 20\n10. 24\n11. 28\n\n\n",
            "text/latex": "\\begin{enumerate*}\n\\item 0\n\\item 4\n\\item 8\n\\item 12\n\\item 16\n\\item 20\n\\item 12\n\\item 16\n\\item 20\n\\item 24\n\\item 28\n\\end{enumerate*}\n",
            "text/plain": [
              " [1]  0  4  8 12 16 20 12 16 20 24 28"
            ]
          },
          "metadata": {}
        }
      ]
    },
    {
      "cell_type": "code",
      "source": [
        "x<- seq(from = 0, to = 10, by = 2)\n",
        "y<- seq(from = 10, to = 20, by = 2)"
      ],
      "metadata": {
        "id": "C7QlQHjZ7KjE"
      },
      "execution_count": 48,
      "outputs": []
    },
    {
      "cell_type": "code",
      "source": [
        "x+y"
      ],
      "metadata": {
        "colab": {
          "base_uri": "https://localhost:8080/",
          "height": 34
        },
        "id": "S5eUCR5w7HZC",
        "outputId": "7a7eef9d-742f-491e-f5ea-ac0c4338b464"
      },
      "execution_count": 49,
      "outputs": [
        {
          "output_type": "display_data",
          "data": {
            "text/html": [
              "<style>\n",
              ".list-inline {list-style: none; margin:0; padding: 0}\n",
              ".list-inline>li {display: inline-block}\n",
              ".list-inline>li:not(:last-child)::after {content: \"\\00b7\"; padding: 0 .5ex}\n",
              "</style>\n",
              "<ol class=list-inline><li>10</li><li>14</li><li>18</li><li>22</li><li>26</li><li>30</li></ol>\n"
            ],
            "text/markdown": "1. 10\n2. 14\n3. 18\n4. 22\n5. 26\n6. 30\n\n\n",
            "text/latex": "\\begin{enumerate*}\n\\item 10\n\\item 14\n\\item 18\n\\item 22\n\\item 26\n\\item 30\n\\end{enumerate*}\n",
            "text/plain": [
              "[1] 10 14 18 22 26 30"
            ]
          },
          "metadata": {}
        }
      ]
    },
    {
      "cell_type": "code",
      "source": [
        "x*y"
      ],
      "metadata": {
        "colab": {
          "base_uri": "https://localhost:8080/",
          "height": 34
        },
        "id": "cqY28eg37MzE",
        "outputId": "8f6ea2f7-3160-4b7b-abbd-0d2244debbd6"
      },
      "execution_count": 50,
      "outputs": [
        {
          "output_type": "display_data",
          "data": {
            "text/html": [
              "<style>\n",
              ".list-inline {list-style: none; margin:0; padding: 0}\n",
              ".list-inline>li {display: inline-block}\n",
              ".list-inline>li:not(:last-child)::after {content: \"\\00b7\"; padding: 0 .5ex}\n",
              "</style>\n",
              "<ol class=list-inline><li>0</li><li>24</li><li>56</li><li>96</li><li>144</li><li>200</li></ol>\n"
            ],
            "text/markdown": "1. 0\n2. 24\n3. 56\n4. 96\n5. 144\n6. 200\n\n\n",
            "text/latex": "\\begin{enumerate*}\n\\item 0\n\\item 24\n\\item 56\n\\item 96\n\\item 144\n\\item 200\n\\end{enumerate*}\n",
            "text/plain": [
              "[1]   0  24  56  96 144 200"
            ]
          },
          "metadata": {}
        }
      ]
    },
    {
      "cell_type": "code",
      "source": [
        "x/y"
      ],
      "metadata": {
        "colab": {
          "base_uri": "https://localhost:8080/",
          "height": 34
        },
        "id": "KP6-gGdp7QX2",
        "outputId": "a03eb362-6c41-4fd4-a646-932a1f31399e"
      },
      "execution_count": 51,
      "outputs": [
        {
          "output_type": "display_data",
          "data": {
            "text/html": [
              "<style>\n",
              ".list-inline {list-style: none; margin:0; padding: 0}\n",
              ".list-inline>li {display: inline-block}\n",
              ".list-inline>li:not(:last-child)::after {content: \"\\00b7\"; padding: 0 .5ex}\n",
              "</style>\n",
              "<ol class=list-inline><li>0</li><li>0.166666666666667</li><li>0.285714285714286</li><li>0.375</li><li>0.444444444444444</li><li>0.5</li></ol>\n"
            ],
            "text/markdown": "1. 0\n2. 0.166666666666667\n3. 0.285714285714286\n4. 0.375\n5. 0.444444444444444\n6. 0.5\n\n\n",
            "text/latex": "\\begin{enumerate*}\n\\item 0\n\\item 0.166666666666667\n\\item 0.285714285714286\n\\item 0.375\n\\item 0.444444444444444\n\\item 0.5\n\\end{enumerate*}\n",
            "text/plain": [
              "[1] 0.0000000 0.1666667 0.2857143 0.3750000 0.4444444 0.5000000"
            ]
          },
          "metadata": {}
        }
      ]
    },
    {
      "cell_type": "code",
      "source": [
        "x-y"
      ],
      "metadata": {
        "colab": {
          "base_uri": "https://localhost:8080/",
          "height": 34
        },
        "id": "Py6EXlmp7Qzg",
        "outputId": "051fb2eb-491c-4461-cc4f-50ae3df5e2f2"
      },
      "execution_count": 52,
      "outputs": [
        {
          "output_type": "display_data",
          "data": {
            "text/html": [
              "<style>\n",
              ".list-inline {list-style: none; margin:0; padding: 0}\n",
              ".list-inline>li {display: inline-block}\n",
              ".list-inline>li:not(:last-child)::after {content: \"\\00b7\"; padding: 0 .5ex}\n",
              "</style>\n",
              "<ol class=list-inline><li>-10</li><li>-10</li><li>-10</li><li>-10</li><li>-10</li><li>-10</li></ol>\n"
            ],
            "text/markdown": "1. -10\n2. -10\n3. -10\n4. -10\n5. -10\n6. -10\n\n\n",
            "text/latex": "\\begin{enumerate*}\n\\item -10\n\\item -10\n\\item -10\n\\item -10\n\\item -10\n\\item -10\n\\end{enumerate*}\n",
            "text/plain": [
              "[1] -10 -10 -10 -10 -10 -10"
            ]
          },
          "metadata": {}
        }
      ]
    },
    {
      "cell_type": "code",
      "source": [
        "x<- seq(from = 0, to = 10, by = 2)\n",
        "y<- seq(from = 1, to = 20, by = 1)"
      ],
      "metadata": {
        "id": "-XtqW-Wb7Rke"
      },
      "execution_count": 53,
      "outputs": []
    },
    {
      "cell_type": "code",
      "source": [
        "x"
      ],
      "metadata": {
        "colab": {
          "base_uri": "https://localhost:8080/",
          "height": 34
        },
        "id": "9mLjYVpF7YWC",
        "outputId": "40cc5a7b-e3d0-4fd7-c67f-5fd664f15aed"
      },
      "execution_count": 54,
      "outputs": [
        {
          "output_type": "display_data",
          "data": {
            "text/html": [
              "<style>\n",
              ".list-inline {list-style: none; margin:0; padding: 0}\n",
              ".list-inline>li {display: inline-block}\n",
              ".list-inline>li:not(:last-child)::after {content: \"\\00b7\"; padding: 0 .5ex}\n",
              "</style>\n",
              "<ol class=list-inline><li>0</li><li>2</li><li>4</li><li>6</li><li>8</li><li>10</li></ol>\n"
            ],
            "text/markdown": "1. 0\n2. 2\n3. 4\n4. 6\n5. 8\n6. 10\n\n\n",
            "text/latex": "\\begin{enumerate*}\n\\item 0\n\\item 2\n\\item 4\n\\item 6\n\\item 8\n\\item 10\n\\end{enumerate*}\n",
            "text/plain": [
              "[1]  0  2  4  6  8 10"
            ]
          },
          "metadata": {}
        }
      ]
    },
    {
      "cell_type": "code",
      "source": [
        "y"
      ],
      "metadata": {
        "colab": {
          "base_uri": "https://localhost:8080/",
          "height": 34
        },
        "id": "PHGeDWeo7Yo6",
        "outputId": "3dcb33e0-7f7e-440b-83eb-a13df9ab33cc"
      },
      "execution_count": 55,
      "outputs": [
        {
          "output_type": "display_data",
          "data": {
            "text/html": [
              "<style>\n",
              ".list-inline {list-style: none; margin:0; padding: 0}\n",
              ".list-inline>li {display: inline-block}\n",
              ".list-inline>li:not(:last-child)::after {content: \"\\00b7\"; padding: 0 .5ex}\n",
              "</style>\n",
              "<ol class=list-inline><li>1</li><li>2</li><li>3</li><li>4</li><li>5</li><li>6</li><li>7</li><li>8</li><li>9</li><li>10</li><li>11</li><li>12</li><li>13</li><li>14</li><li>15</li><li>16</li><li>17</li><li>18</li><li>19</li><li>20</li></ol>\n"
            ],
            "text/markdown": "1. 1\n2. 2\n3. 3\n4. 4\n5. 5\n6. 6\n7. 7\n8. 8\n9. 9\n10. 10\n11. 11\n12. 12\n13. 13\n14. 14\n15. 15\n16. 16\n17. 17\n18. 18\n19. 19\n20. 20\n\n\n",
            "text/latex": "\\begin{enumerate*}\n\\item 1\n\\item 2\n\\item 3\n\\item 4\n\\item 5\n\\item 6\n\\item 7\n\\item 8\n\\item 9\n\\item 10\n\\item 11\n\\item 12\n\\item 13\n\\item 14\n\\item 15\n\\item 16\n\\item 17\n\\item 18\n\\item 19\n\\item 20\n\\end{enumerate*}\n",
            "text/plain": [
              " [1]  1  2  3  4  5  6  7  8  9 10 11 12 13 14 15 16 17 18 19 20"
            ]
          },
          "metadata": {}
        }
      ]
    },
    {
      "cell_type": "code",
      "source": [
        "x[x %in% y] "
      ],
      "metadata": {
        "colab": {
          "base_uri": "https://localhost:8080/",
          "height": 34
        },
        "id": "Dl8cSgLMc6FG",
        "outputId": "990d9bb8-a505-4065-fd6e-213c98c32354"
      },
      "execution_count": 56,
      "outputs": [
        {
          "output_type": "display_data",
          "data": {
            "text/html": [
              "<style>\n",
              ".list-inline {list-style: none; margin:0; padding: 0}\n",
              ".list-inline>li {display: inline-block}\n",
              ".list-inline>li:not(:last-child)::after {content: \"\\00b7\"; padding: 0 .5ex}\n",
              "</style>\n",
              "<ol class=list-inline><li>2</li><li>4</li><li>6</li><li>8</li><li>10</li></ol>\n"
            ],
            "text/markdown": "1. 2\n2. 4\n3. 6\n4. 8\n5. 10\n\n\n",
            "text/latex": "\\begin{enumerate*}\n\\item 2\n\\item 4\n\\item 6\n\\item 8\n\\item 10\n\\end{enumerate*}\n",
            "text/plain": [
              "[1]  2  4  6  8 10"
            ]
          },
          "metadata": {}
        }
      ]
    },
    {
      "cell_type": "code",
      "source": [
        "all(x %in% y)"
      ],
      "metadata": {
        "colab": {
          "base_uri": "https://localhost:8080/",
          "height": 34
        },
        "id": "QiCYtrApdCID",
        "outputId": "bec538fa-0c13-4c7f-e0b3-be9b286cec24"
      },
      "execution_count": 57,
      "outputs": [
        {
          "output_type": "display_data",
          "data": {
            "text/html": [
              "FALSE"
            ],
            "text/markdown": "FALSE",
            "text/latex": "FALSE",
            "text/plain": [
              "[1] FALSE"
            ]
          },
          "metadata": {}
        }
      ]
    },
    {
      "cell_type": "code",
      "source": [
        "x[y[1]]"
      ],
      "metadata": {
        "colab": {
          "base_uri": "https://localhost:8080/",
          "height": 34
        },
        "id": "9alrR7vj7Y55",
        "outputId": "1e88a750-1b32-46cb-c897-1dfb7fd064b9"
      },
      "execution_count": 58,
      "outputs": [
        {
          "output_type": "display_data",
          "data": {
            "text/html": [
              "0"
            ],
            "text/markdown": "0",
            "text/latex": "0",
            "text/plain": [
              "[1] 0"
            ]
          },
          "metadata": {}
        }
      ]
    },
    {
      "cell_type": "code",
      "source": [
        "x"
      ],
      "metadata": {
        "colab": {
          "base_uri": "https://localhost:8080/",
          "height": 34
        },
        "id": "IZS_mR8h7cl-",
        "outputId": "fc64c516-3409-476f-cc8a-b647b23d6669"
      },
      "execution_count": 59,
      "outputs": [
        {
          "output_type": "display_data",
          "data": {
            "text/html": [
              "<style>\n",
              ".list-inline {list-style: none; margin:0; padding: 0}\n",
              ".list-inline>li {display: inline-block}\n",
              ".list-inline>li:not(:last-child)::after {content: \"\\00b7\"; padding: 0 .5ex}\n",
              "</style>\n",
              "<ol class=list-inline><li>0</li><li>2</li><li>4</li><li>6</li><li>8</li><li>10</li></ol>\n"
            ],
            "text/markdown": "1. 0\n2. 2\n3. 4\n4. 6\n5. 8\n6. 10\n\n\n",
            "text/latex": "\\begin{enumerate*}\n\\item 0\n\\item 2\n\\item 4\n\\item 6\n\\item 8\n\\item 10\n\\end{enumerate*}\n",
            "text/plain": [
              "[1]  0  2  4  6  8 10"
            ]
          },
          "metadata": {}
        }
      ]
    },
    {
      "cell_type": "code",
      "source": [
        "x[order(x)] "
      ],
      "metadata": {
        "colab": {
          "base_uri": "https://localhost:8080/",
          "height": 34
        },
        "id": "IMoLnRFqRfn_",
        "outputId": "3b90ce97-96a0-441c-ca93-41eef9f2dcf9"
      },
      "execution_count": 60,
      "outputs": [
        {
          "output_type": "display_data",
          "data": {
            "text/html": [
              "<style>\n",
              ".list-inline {list-style: none; margin:0; padding: 0}\n",
              ".list-inline>li {display: inline-block}\n",
              ".list-inline>li:not(:last-child)::after {content: \"\\00b7\"; padding: 0 .5ex}\n",
              "</style>\n",
              "<ol class=list-inline><li>0</li><li>2</li><li>4</li><li>6</li><li>8</li><li>10</li></ol>\n"
            ],
            "text/markdown": "1. 0\n2. 2\n3. 4\n4. 6\n5. 8\n6. 10\n\n\n",
            "text/latex": "\\begin{enumerate*}\n\\item 0\n\\item 2\n\\item 4\n\\item 6\n\\item 8\n\\item 10\n\\end{enumerate*}\n",
            "text/plain": [
              "[1]  0  2  4  6  8 10"
            ]
          },
          "metadata": {}
        }
      ]
    },
    {
      "cell_type": "code",
      "source": [
        "x"
      ],
      "metadata": {
        "colab": {
          "base_uri": "https://localhost:8080/",
          "height": 34
        },
        "id": "iN2exDHWRhCq",
        "outputId": "e5a9123c-351c-4a47-ca71-dcdc7a980dcd"
      },
      "execution_count": 61,
      "outputs": [
        {
          "output_type": "display_data",
          "data": {
            "text/html": [
              "<style>\n",
              ".list-inline {list-style: none; margin:0; padding: 0}\n",
              ".list-inline>li {display: inline-block}\n",
              ".list-inline>li:not(:last-child)::after {content: \"\\00b7\"; padding: 0 .5ex}\n",
              "</style>\n",
              "<ol class=list-inline><li>0</li><li>2</li><li>4</li><li>6</li><li>8</li><li>10</li></ol>\n"
            ],
            "text/markdown": "1. 0\n2. 2\n3. 4\n4. 6\n5. 8\n6. 10\n\n\n",
            "text/latex": "\\begin{enumerate*}\n\\item 0\n\\item 2\n\\item 4\n\\item 6\n\\item 8\n\\item 10\n\\end{enumerate*}\n",
            "text/plain": [
              "[1]  0  2  4  6  8 10"
            ]
          },
          "metadata": {}
        }
      ]
    },
    {
      "cell_type": "code",
      "source": [
        "rev(x)"
      ],
      "metadata": {
        "colab": {
          "base_uri": "https://localhost:8080/",
          "height": 34
        },
        "id": "hXWMTIwJcRVS",
        "outputId": "41156709-ef49-4ba6-d61b-517d1360d543"
      },
      "execution_count": 62,
      "outputs": [
        {
          "output_type": "display_data",
          "data": {
            "text/html": [
              "<style>\n",
              ".list-inline {list-style: none; margin:0; padding: 0}\n",
              ".list-inline>li {display: inline-block}\n",
              ".list-inline>li:not(:last-child)::after {content: \"\\00b7\"; padding: 0 .5ex}\n",
              "</style>\n",
              "<ol class=list-inline><li>10</li><li>8</li><li>6</li><li>4</li><li>2</li><li>0</li></ol>\n"
            ],
            "text/markdown": "1. 10\n2. 8\n3. 6\n4. 4\n5. 2\n6. 0\n\n\n",
            "text/latex": "\\begin{enumerate*}\n\\item 10\n\\item 8\n\\item 6\n\\item 4\n\\item 2\n\\item 0\n\\end{enumerate*}\n",
            "text/plain": [
              "[1] 10  8  6  4  2  0"
            ]
          },
          "metadata": {}
        }
      ]
    },
    {
      "cell_type": "code",
      "source": [
        "x<-list(\"A\",\"B\",c(1,2,3,4,5),TRUE,FALSE,45.5,4L)  \n",
        "print(x)  "
      ],
      "metadata": {
        "colab": {
          "base_uri": "https://localhost:8080/"
        },
        "id": "a4Rf9ahARhVv",
        "outputId": "5d1d6b6b-0df8-434a-f21e-f0a25b86cead"
      },
      "execution_count": 63,
      "outputs": [
        {
          "output_type": "stream",
          "name": "stdout",
          "text": [
            "[[1]]\n",
            "[1] \"A\"\n",
            "\n",
            "[[2]]\n",
            "[1] \"B\"\n",
            "\n",
            "[[3]]\n",
            "[1] 1 2 3 4 5\n",
            "\n",
            "[[4]]\n",
            "[1] TRUE\n",
            "\n",
            "[[5]]\n",
            "[1] FALSE\n",
            "\n",
            "[[6]]\n",
            "[1] 45.5\n",
            "\n",
            "[[7]]\n",
            "[1] 4\n",
            "\n"
          ]
        }
      ]
    },
    {
      "cell_type": "code",
      "source": [
        "x[[1]]"
      ],
      "metadata": {
        "colab": {
          "base_uri": "https://localhost:8080/",
          "height": 34
        },
        "id": "vDfMY9ntXo7A",
        "outputId": "98ae9c1b-fb23-4de9-de7f-f44f13e22edc"
      },
      "execution_count": 64,
      "outputs": [
        {
          "output_type": "display_data",
          "data": {
            "text/html": [
              "'A'"
            ],
            "text/markdown": "'A'",
            "text/latex": "'A'",
            "text/plain": [
              "[1] \"A\""
            ]
          },
          "metadata": {}
        }
      ]
    },
    {
      "cell_type": "code",
      "source": [
        "x[[3]][1]"
      ],
      "metadata": {
        "colab": {
          "base_uri": "https://localhost:8080/",
          "height": 34
        },
        "id": "XujCIHvEX8Gv",
        "outputId": "567a6029-8921-4624-daa9-e656433550fe"
      },
      "execution_count": 65,
      "outputs": [
        {
          "output_type": "display_data",
          "data": {
            "text/html": [
              "1"
            ],
            "text/markdown": "1",
            "text/latex": "1",
            "text/plain": [
              "[1] 1"
            ]
          },
          "metadata": {}
        }
      ]
    },
    {
      "cell_type": "code",
      "source": [
        "x[[3]][3]"
      ],
      "metadata": {
        "colab": {
          "base_uri": "https://localhost:8080/",
          "height": 34
        },
        "id": "EaUMvlb-X_nT",
        "outputId": "54efc18d-3865-4775-9f79-5b7140168212"
      },
      "execution_count": 66,
      "outputs": [
        {
          "output_type": "display_data",
          "data": {
            "text/html": [
              "3"
            ],
            "text/markdown": "3",
            "text/latex": "3",
            "text/plain": [
              "[1] 3"
            ]
          },
          "metadata": {}
        }
      ]
    },
    {
      "cell_type": "code",
      "source": [
        "x[1]"
      ],
      "metadata": {
        "colab": {
          "base_uri": "https://localhost:8080/",
          "height": 62
        },
        "id": "MJUhP_oBYLvT",
        "outputId": "a8117334-344f-421d-ff48-8499088e1c6c"
      },
      "execution_count": 67,
      "outputs": [
        {
          "output_type": "display_data",
          "data": {
            "text/html": [
              "<ol>\n",
              "\t<li>'A'</li>\n",
              "</ol>\n"
            ],
            "text/markdown": "1. 'A'\n\n\n",
            "text/latex": "\\begin{enumerate}\n\\item 'A'\n\\end{enumerate}\n",
            "text/plain": [
              "[[1]]\n",
              "[1] \"A\"\n"
            ]
          },
          "metadata": {}
        }
      ]
    },
    {
      "cell_type": "code",
      "source": [
        "x[3]=10"
      ],
      "metadata": {
        "id": "cKr78xyKYXjv"
      },
      "execution_count": 68,
      "outputs": []
    },
    {
      "cell_type": "code",
      "source": [
        "x"
      ],
      "metadata": {
        "colab": {
          "base_uri": "https://localhost:8080/",
          "height": 167
        },
        "id": "HQq2nJ91Yg8R",
        "outputId": "ea8fb86f-9865-4069-f8fe-082b8a9d10a8"
      },
      "execution_count": 69,
      "outputs": [
        {
          "output_type": "display_data",
          "data": {
            "text/html": [
              "<ol>\n",
              "\t<li>'A'</li>\n",
              "\t<li>'B'</li>\n",
              "\t<li>10</li>\n",
              "\t<li>TRUE</li>\n",
              "\t<li>FALSE</li>\n",
              "\t<li>45.5</li>\n",
              "\t<li>4</li>\n",
              "</ol>\n"
            ],
            "text/markdown": "1. 'A'\n2. 'B'\n3. 10\n4. TRUE\n5. FALSE\n6. 45.5\n7. 4\n\n\n",
            "text/latex": "\\begin{enumerate}\n\\item 'A'\n\\item 'B'\n\\item 10\n\\item TRUE\n\\item FALSE\n\\item 45.5\n\\item 4\n\\end{enumerate}\n",
            "text/plain": [
              "[[1]]\n",
              "[1] \"A\"\n",
              "\n",
              "[[2]]\n",
              "[1] \"B\"\n",
              "\n",
              "[[3]]\n",
              "[1] 10\n",
              "\n",
              "[[4]]\n",
              "[1] TRUE\n",
              "\n",
              "[[5]]\n",
              "[1] FALSE\n",
              "\n",
              "[[6]]\n",
              "[1] 45.5\n",
              "\n",
              "[[7]]\n",
              "[1] 4\n"
            ]
          },
          "metadata": {}
        }
      ]
    },
    {
      "cell_type": "code",
      "source": [
        "x=rnorm(5, mean = 0, sd = 1)\n",
        "x"
      ],
      "metadata": {
        "colab": {
          "base_uri": "https://localhost:8080/",
          "height": 34
        },
        "id": "O7c4a_e8YhI5",
        "outputId": "2c56b570-4fc3-4ba9-9b6f-50d4dfc947cf"
      },
      "execution_count": 70,
      "outputs": [
        {
          "output_type": "display_data",
          "data": {
            "text/html": [
              "<style>\n",
              ".list-inline {list-style: none; margin:0; padding: 0}\n",
              ".list-inline>li {display: inline-block}\n",
              ".list-inline>li:not(:last-child)::after {content: \"\\00b7\"; padding: 0 .5ex}\n",
              "</style>\n",
              "<ol class=list-inline><li>0.24258194399927</li><li>0.335778525147809</li><li>1.21177267327836</li><li>0.676491519682715</li><li>0.39129399925285</li></ol>\n"
            ],
            "text/markdown": "1. 0.24258194399927\n2. 0.335778525147809\n3. 1.21177267327836\n4. 0.676491519682715\n5. 0.39129399925285\n\n\n",
            "text/latex": "\\begin{enumerate*}\n\\item 0.24258194399927\n\\item 0.335778525147809\n\\item 1.21177267327836\n\\item 0.676491519682715\n\\item 0.39129399925285\n\\end{enumerate*}\n",
            "text/plain": [
              "[1] 0.2425819 0.3357785 1.2117727 0.6764915 0.3912940"
            ]
          },
          "metadata": {}
        }
      ]
    },
    {
      "cell_type": "code",
      "source": [
        "x=runif(5, min = 2, max = 10)\n",
        "x"
      ],
      "metadata": {
        "colab": {
          "base_uri": "https://localhost:8080/",
          "height": 34
        },
        "id": "OKTZDjXJdYEO",
        "outputId": "60115a46-c37a-4438-da9f-60528dcca9a8"
      },
      "execution_count": 71,
      "outputs": [
        {
          "output_type": "display_data",
          "data": {
            "text/html": [
              "<style>\n",
              ".list-inline {list-style: none; margin:0; padding: 0}\n",
              ".list-inline>li {display: inline-block}\n",
              ".list-inline>li:not(:last-child)::after {content: \"\\00b7\"; padding: 0 .5ex}\n",
              "</style>\n",
              "<ol class=list-inline><li>3.05568227171898</li><li>2.26355037838221</li><li>7.96770056895912</li><li>4.28971822932363</li><li>5.56702377274632</li></ol>\n"
            ],
            "text/markdown": "1. 3.05568227171898\n2. 2.26355037838221\n3. 7.96770056895912\n4. 4.28971822932363\n5. 5.56702377274632\n\n\n",
            "text/latex": "\\begin{enumerate*}\n\\item 3.05568227171898\n\\item 2.26355037838221\n\\item 7.96770056895912\n\\item 4.28971822932363\n\\item 5.56702377274632\n\\end{enumerate*}\n",
            "text/plain": [
              "[1] 3.055682 2.263550 7.967701 4.289718 5.567024"
            ]
          },
          "metadata": {}
        }
      ]
    },
    {
      "cell_type": "code",
      "source": [
        "set.seed(5)\n",
        "x=runif(5, min = 2, max = 10)\n",
        "x"
      ],
      "metadata": {
        "colab": {
          "base_uri": "https://localhost:8080/",
          "height": 34
        },
        "id": "h70YxVX3dba5",
        "outputId": "fdb1b164-03b9-4061-a50f-a45f09fd9508"
      },
      "execution_count": 72,
      "outputs": [
        {
          "output_type": "display_data",
          "data": {
            "text/html": [
              "<style>\n",
              ".list-inline {list-style: none; margin:0; padding: 0}\n",
              ".list-inline>li {display: inline-block}\n",
              ".list-inline>li:not(:last-child)::after {content: \"\\00b7\"; padding: 0 .5ex}\n",
              "</style>\n",
              "<ol class=list-inline><li>3.60171562060714</li><li>7.48174876533449</li><li>9.33500619605184</li><li>4.27519565820694</li><li>2.83720102347434</li></ol>\n"
            ],
            "text/markdown": "1. 3.60171562060714\n2. 7.48174876533449\n3. 9.33500619605184\n4. 4.27519565820694\n5. 2.83720102347434\n\n\n",
            "text/latex": "\\begin{enumerate*}\n\\item 3.60171562060714\n\\item 7.48174876533449\n\\item 9.33500619605184\n\\item 4.27519565820694\n\\item 2.83720102347434\n\\end{enumerate*}\n",
            "text/plain": [
              "[1] 3.601716 7.481749 9.335006 4.275196 2.837201"
            ]
          },
          "metadata": {}
        }
      ]
    },
    {
      "cell_type": "code",
      "source": [
        "invest <- seq(from = 1, to = 12000, by = 1000)\n",
        "\n",
        "month <- c(\"January\", \"February\", \"March\", \"April\", \"May\", \"June\",\n",
        "           \"July\", \"August\", \"September\", \"October\", \"November\", \"December\")"
      ],
      "metadata": {
        "id": "t1JQ28Judj7W"
      },
      "execution_count": 73,
      "outputs": []
    },
    {
      "cell_type": "code",
      "source": [
        "month[invest > 7000] "
      ],
      "metadata": {
        "colab": {
          "base_uri": "https://localhost:8080/",
          "height": 34
        },
        "id": "gWB37ZCHd8sV",
        "outputId": "d65bfd2b-4502-40f1-a007-a3c43b6fd0f8"
      },
      "execution_count": 74,
      "outputs": [
        {
          "output_type": "display_data",
          "data": {
            "text/html": [
              "<style>\n",
              ".list-inline {list-style: none; margin:0; padding: 0}\n",
              ".list-inline>li {display: inline-block}\n",
              ".list-inline>li:not(:last-child)::after {content: \"\\00b7\"; padding: 0 .5ex}\n",
              "</style>\n",
              "<ol class=list-inline><li>'August'</li><li>'September'</li><li>'October'</li><li>'November'</li><li>'December'</li></ol>\n"
            ],
            "text/markdown": "1. 'August'\n2. 'September'\n3. 'October'\n4. 'November'\n5. 'December'\n\n\n",
            "text/latex": "\\begin{enumerate*}\n\\item 'August'\n\\item 'September'\n\\item 'October'\n\\item 'November'\n\\item 'December'\n\\end{enumerate*}\n",
            "text/plain": [
              "[1] \"August\"    \"September\" \"October\"   \"November\"  \"December\" "
            ]
          },
          "metadata": {}
        }
      ]
    },
    {
      "cell_type": "code",
      "source": [
        "month[invest > 7000 | invest<3000] "
      ],
      "metadata": {
        "colab": {
          "base_uri": "https://localhost:8080/",
          "height": 34
        },
        "id": "gX45HZAEeJIO",
        "outputId": "6c901abc-bf11-46df-cf9b-b287d8b304ba"
      },
      "execution_count": 75,
      "outputs": [
        {
          "output_type": "display_data",
          "data": {
            "text/html": [
              "<style>\n",
              ".list-inline {list-style: none; margin:0; padding: 0}\n",
              ".list-inline>li {display: inline-block}\n",
              ".list-inline>li:not(:last-child)::after {content: \"\\00b7\"; padding: 0 .5ex}\n",
              "</style>\n",
              "<ol class=list-inline><li>'January'</li><li>'February'</li><li>'March'</li><li>'August'</li><li>'September'</li><li>'October'</li><li>'November'</li><li>'December'</li></ol>\n"
            ],
            "text/markdown": "1. 'January'\n2. 'February'\n3. 'March'\n4. 'August'\n5. 'September'\n6. 'October'\n7. 'November'\n8. 'December'\n\n\n",
            "text/latex": "\\begin{enumerate*}\n\\item 'January'\n\\item 'February'\n\\item 'March'\n\\item 'August'\n\\item 'September'\n\\item 'October'\n\\item 'November'\n\\item 'December'\n\\end{enumerate*}\n",
            "text/plain": [
              "[1] \"January\"   \"February\"  \"March\"     \"August\"    \"September\" \"October\"  \n",
              "[7] \"November\"  \"December\" "
            ]
          },
          "metadata": {}
        }
      ]
    },
    {
      "cell_type": "code",
      "source": [
        "x<- seq(from = 0, to = 10, by = 2)\n",
        "y<- seq(from = 0, to = 20, by = 2)"
      ],
      "metadata": {
        "id": "Tr_yl6_Nea2h"
      },
      "execution_count": 76,
      "outputs": []
    },
    {
      "cell_type": "code",
      "source": [
        "x"
      ],
      "metadata": {
        "colab": {
          "base_uri": "https://localhost:8080/",
          "height": 34
        },
        "id": "5rbJJgI1e4EP",
        "outputId": "02f498b4-da04-4dbf-c61c-9202f0432a08"
      },
      "execution_count": 77,
      "outputs": [
        {
          "output_type": "display_data",
          "data": {
            "text/html": [
              "<style>\n",
              ".list-inline {list-style: none; margin:0; padding: 0}\n",
              ".list-inline>li {display: inline-block}\n",
              ".list-inline>li:not(:last-child)::after {content: \"\\00b7\"; padding: 0 .5ex}\n",
              "</style>\n",
              "<ol class=list-inline><li>0</li><li>2</li><li>4</li><li>6</li><li>8</li><li>10</li></ol>\n"
            ],
            "text/markdown": "1. 0\n2. 2\n3. 4\n4. 6\n5. 8\n6. 10\n\n\n",
            "text/latex": "\\begin{enumerate*}\n\\item 0\n\\item 2\n\\item 4\n\\item 6\n\\item 8\n\\item 10\n\\end{enumerate*}\n",
            "text/plain": [
              "[1]  0  2  4  6  8 10"
            ]
          },
          "metadata": {}
        }
      ]
    },
    {
      "cell_type": "code",
      "source": [
        "y"
      ],
      "metadata": {
        "colab": {
          "base_uri": "https://localhost:8080/",
          "height": 34
        },
        "id": "Ufk-5CVHe5FE",
        "outputId": "d79b9dba-85d8-4e65-89e0-fee0af1addb2"
      },
      "execution_count": 78,
      "outputs": [
        {
          "output_type": "display_data",
          "data": {
            "text/html": [
              "<style>\n",
              ".list-inline {list-style: none; margin:0; padding: 0}\n",
              ".list-inline>li {display: inline-block}\n",
              ".list-inline>li:not(:last-child)::after {content: \"\\00b7\"; padding: 0 .5ex}\n",
              "</style>\n",
              "<ol class=list-inline><li>0</li><li>2</li><li>4</li><li>6</li><li>8</li><li>10</li><li>12</li><li>14</li><li>16</li><li>18</li><li>20</li></ol>\n"
            ],
            "text/markdown": "1. 0\n2. 2\n3. 4\n4. 6\n5. 8\n6. 10\n7. 12\n8. 14\n9. 16\n10. 18\n11. 20\n\n\n",
            "text/latex": "\\begin{enumerate*}\n\\item 0\n\\item 2\n\\item 4\n\\item 6\n\\item 8\n\\item 10\n\\item 12\n\\item 14\n\\item 16\n\\item 18\n\\item 20\n\\end{enumerate*}\n",
            "text/plain": [
              " [1]  0  2  4  6  8 10 12 14 16 18 20"
            ]
          },
          "metadata": {}
        }
      ]
    },
    {
      "cell_type": "code",
      "source": [
        "z=list(x,y)"
      ],
      "metadata": {
        "id": "p2avS7kBe1xZ"
      },
      "execution_count": 79,
      "outputs": []
    },
    {
      "cell_type": "code",
      "source": [
        "z"
      ],
      "metadata": {
        "colab": {
          "base_uri": "https://localhost:8080/",
          "height": 80
        },
        "id": "5uBRZyEle50L",
        "outputId": "4605ab22-178c-46e1-c72f-fba5ee30ef2f"
      },
      "execution_count": 80,
      "outputs": [
        {
          "output_type": "display_data",
          "data": {
            "text/html": [
              "<ol>\n",
              "\t<li><style>\n",
              ".list-inline {list-style: none; margin:0; padding: 0}\n",
              ".list-inline>li {display: inline-block}\n",
              ".list-inline>li:not(:last-child)::after {content: \"\\00b7\"; padding: 0 .5ex}\n",
              "</style>\n",
              "<ol class=list-inline><li>0</li><li>2</li><li>4</li><li>6</li><li>8</li><li>10</li></ol>\n",
              "</li>\n",
              "\t<li><style>\n",
              ".list-inline {list-style: none; margin:0; padding: 0}\n",
              ".list-inline>li {display: inline-block}\n",
              ".list-inline>li:not(:last-child)::after {content: \"\\00b7\"; padding: 0 .5ex}\n",
              "</style>\n",
              "<ol class=list-inline><li>0</li><li>2</li><li>4</li><li>6</li><li>8</li><li>10</li><li>12</li><li>14</li><li>16</li><li>18</li><li>20</li></ol>\n",
              "</li>\n",
              "</ol>\n"
            ],
            "text/markdown": "1. 1. 0\n2. 2\n3. 4\n4. 6\n5. 8\n6. 10\n\n\n\n2. 1. 0\n2. 2\n3. 4\n4. 6\n5. 8\n6. 10\n7. 12\n8. 14\n9. 16\n10. 18\n11. 20\n\n\n\n\n\n",
            "text/latex": "\\begin{enumerate}\n\\item \\begin{enumerate*}\n\\item 0\n\\item 2\n\\item 4\n\\item 6\n\\item 8\n\\item 10\n\\end{enumerate*}\n\n\\item \\begin{enumerate*}\n\\item 0\n\\item 2\n\\item 4\n\\item 6\n\\item 8\n\\item 10\n\\item 12\n\\item 14\n\\item 16\n\\item 18\n\\item 20\n\\end{enumerate*}\n\n\\end{enumerate}\n",
            "text/plain": [
              "[[1]]\n",
              "[1]  0  2  4  6  8 10\n",
              "\n",
              "[[2]]\n",
              " [1]  0  2  4  6  8 10 12 14 16 18 20\n"
            ]
          },
          "metadata": {}
        }
      ]
    },
    {
      "cell_type": "code",
      "source": [
        "x<- seq(from = 0, to = 10, by = 2)\n",
        "2 %in% x"
      ],
      "metadata": {
        "colab": {
          "base_uri": "https://localhost:8080/",
          "height": 34
        },
        "id": "TdQuFWCKe6cA",
        "outputId": "bfeec008-f1d6-4668-8f93-cdcffdb30cea"
      },
      "execution_count": 81,
      "outputs": [
        {
          "output_type": "display_data",
          "data": {
            "text/html": [
              "TRUE"
            ],
            "text/markdown": "TRUE",
            "text/latex": "TRUE",
            "text/plain": [
              "[1] TRUE"
            ]
          },
          "metadata": {}
        }
      ]
    },
    {
      "cell_type": "code",
      "source": [
        "x"
      ],
      "metadata": {
        "colab": {
          "base_uri": "https://localhost:8080/",
          "height": 34
        },
        "id": "fAB-1q4hgbnz",
        "outputId": "554f034d-0e25-4794-e54b-a16773b416b6"
      },
      "execution_count": 82,
      "outputs": [
        {
          "output_type": "display_data",
          "data": {
            "text/html": [
              "<style>\n",
              ".list-inline {list-style: none; margin:0; padding: 0}\n",
              ".list-inline>li {display: inline-block}\n",
              ".list-inline>li:not(:last-child)::after {content: \"\\00b7\"; padding: 0 .5ex}\n",
              "</style>\n",
              "<ol class=list-inline><li>0</li><li>2</li><li>4</li><li>6</li><li>8</li><li>10</li></ol>\n"
            ],
            "text/markdown": "1. 0\n2. 2\n3. 4\n4. 6\n5. 8\n6. 10\n\n\n",
            "text/latex": "\\begin{enumerate*}\n\\item 0\n\\item 2\n\\item 4\n\\item 6\n\\item 8\n\\item 10\n\\end{enumerate*}\n",
            "text/plain": [
              "[1]  0  2  4  6  8 10"
            ]
          },
          "metadata": {}
        }
      ]
    },
    {
      "cell_type": "code",
      "source": [
        "x=append(x,15)"
      ],
      "metadata": {
        "id": "Nhpn1M3mfFjV"
      },
      "execution_count": 83,
      "outputs": []
    },
    {
      "cell_type": "code",
      "source": [
        "x"
      ],
      "metadata": {
        "colab": {
          "base_uri": "https://localhost:8080/",
          "height": 34
        },
        "id": "KhIV_U_PfMXY",
        "outputId": "18c86b2b-e696-4bdd-9178-4590af2bac3f"
      },
      "execution_count": 84,
      "outputs": [
        {
          "output_type": "display_data",
          "data": {
            "text/html": [
              "<style>\n",
              ".list-inline {list-style: none; margin:0; padding: 0}\n",
              ".list-inline>li {display: inline-block}\n",
              ".list-inline>li:not(:last-child)::after {content: \"\\00b7\"; padding: 0 .5ex}\n",
              "</style>\n",
              "<ol class=list-inline><li>0</li><li>2</li><li>4</li><li>6</li><li>8</li><li>10</li><li>15</li></ol>\n"
            ],
            "text/markdown": "1. 0\n2. 2\n3. 4\n4. 6\n5. 8\n6. 10\n7. 15\n\n\n",
            "text/latex": "\\begin{enumerate*}\n\\item 0\n\\item 2\n\\item 4\n\\item 6\n\\item 8\n\\item 10\n\\item 15\n\\end{enumerate*}\n",
            "text/plain": [
              "[1]  0  2  4  6  8 10 15"
            ]
          },
          "metadata": {}
        }
      ]
    },
    {
      "cell_type": "code",
      "source": [
        "x=append(x,20, after=2)\n",
        "x"
      ],
      "metadata": {
        "colab": {
          "base_uri": "https://localhost:8080/",
          "height": 34
        },
        "id": "HFsFtr4Igd2-",
        "outputId": "34f45767-df40-446b-fa63-9e1d23eef6cb"
      },
      "execution_count": 85,
      "outputs": [
        {
          "output_type": "display_data",
          "data": {
            "text/html": [
              "<style>\n",
              ".list-inline {list-style: none; margin:0; padding: 0}\n",
              ".list-inline>li {display: inline-block}\n",
              ".list-inline>li:not(:last-child)::after {content: \"\\00b7\"; padding: 0 .5ex}\n",
              "</style>\n",
              "<ol class=list-inline><li>0</li><li>2</li><li>20</li><li>4</li><li>6</li><li>8</li><li>10</li><li>15</li></ol>\n"
            ],
            "text/markdown": "1. 0\n2. 2\n3. 20\n4. 4\n5. 6\n6. 8\n7. 10\n8. 15\n\n\n",
            "text/latex": "\\begin{enumerate*}\n\\item 0\n\\item 2\n\\item 20\n\\item 4\n\\item 6\n\\item 8\n\\item 10\n\\item 15\n\\end{enumerate*}\n",
            "text/plain": [
              "[1]  0  2 20  4  6  8 10 15"
            ]
          },
          "metadata": {}
        }
      ]
    },
    {
      "cell_type": "code",
      "source": [
        "seq(from = 1, to = 90, by = 3)"
      ],
      "metadata": {
        "colab": {
          "base_uri": "https://localhost:8080/",
          "height": 34
        },
        "id": "wMRj9T1EjEh4",
        "outputId": "73543246-4c42-4d35-e28f-7076c257dd8e"
      },
      "execution_count": 86,
      "outputs": [
        {
          "output_type": "display_data",
          "data": {
            "text/html": [
              "<style>\n",
              ".list-inline {list-style: none; margin:0; padding: 0}\n",
              ".list-inline>li {display: inline-block}\n",
              ".list-inline>li:not(:last-child)::after {content: \"\\00b7\"; padding: 0 .5ex}\n",
              "</style>\n",
              "<ol class=list-inline><li>1</li><li>4</li><li>7</li><li>10</li><li>13</li><li>16</li><li>19</li><li>22</li><li>25</li><li>28</li><li>31</li><li>34</li><li>37</li><li>40</li><li>43</li><li>46</li><li>49</li><li>52</li><li>55</li><li>58</li><li>61</li><li>64</li><li>67</li><li>70</li><li>73</li><li>76</li><li>79</li><li>82</li><li>85</li><li>88</li></ol>\n"
            ],
            "text/markdown": "1. 1\n2. 4\n3. 7\n4. 10\n5. 13\n6. 16\n7. 19\n8. 22\n9. 25\n10. 28\n11. 31\n12. 34\n13. 37\n14. 40\n15. 43\n16. 46\n17. 49\n18. 52\n19. 55\n20. 58\n21. 61\n22. 64\n23. 67\n24. 70\n25. 73\n26. 76\n27. 79\n28. 82\n29. 85\n30. 88\n\n\n",
            "text/latex": "\\begin{enumerate*}\n\\item 1\n\\item 4\n\\item 7\n\\item 10\n\\item 13\n\\item 16\n\\item 19\n\\item 22\n\\item 25\n\\item 28\n\\item 31\n\\item 34\n\\item 37\n\\item 40\n\\item 43\n\\item 46\n\\item 49\n\\item 52\n\\item 55\n\\item 58\n\\item 61\n\\item 64\n\\item 67\n\\item 70\n\\item 73\n\\item 76\n\\item 79\n\\item 82\n\\item 85\n\\item 88\n\\end{enumerate*}\n",
            "text/plain": [
              " [1]  1  4  7 10 13 16 19 22 25 28 31 34 37 40 43 46 49 52 55 58 61 64 67 70 73\n",
              "[26] 76 79 82 85 88"
            ]
          },
          "metadata": {}
        }
      ]
    },
    {
      "cell_type": "code",
      "source": [
        "length(seq(from = 1, to = 90, by = 3))"
      ],
      "metadata": {
        "colab": {
          "base_uri": "https://localhost:8080/",
          "height": 34
        },
        "id": "Vn_1uC4AihJK",
        "outputId": "5966aa26-a969-4e04-b2c0-fdd1a7a60064"
      },
      "execution_count": 87,
      "outputs": [
        {
          "output_type": "display_data",
          "data": {
            "text/html": [
              "30"
            ],
            "text/markdown": "30",
            "text/latex": "30",
            "text/plain": [
              "[1] 30"
            ]
          },
          "metadata": {}
        }
      ]
    },
    {
      "cell_type": "code",
      "source": [
        "x <- matrix(seq(from = 1, to = 90, by = 3), nrow = 5, ncol = 6)\n",
        "x"
      ],
      "metadata": {
        "colab": {
          "base_uri": "https://localhost:8080/",
          "height": 191
        },
        "id": "LCU4Fa6Kgmbv",
        "outputId": "15765975-2b2d-42a4-e3f0-01f197220722"
      },
      "execution_count": 88,
      "outputs": [
        {
          "output_type": "display_data",
          "data": {
            "text/html": [
              "<table class=\"dataframe\">\n",
              "<caption>A matrix: 5 × 6 of type dbl</caption>\n",
              "<tbody>\n",
              "\t<tr><td> 1</td><td>16</td><td>31</td><td>46</td><td>61</td><td>76</td></tr>\n",
              "\t<tr><td> 4</td><td>19</td><td>34</td><td>49</td><td>64</td><td>79</td></tr>\n",
              "\t<tr><td> 7</td><td>22</td><td>37</td><td>52</td><td>67</td><td>82</td></tr>\n",
              "\t<tr><td>10</td><td>25</td><td>40</td><td>55</td><td>70</td><td>85</td></tr>\n",
              "\t<tr><td>13</td><td>28</td><td>43</td><td>58</td><td>73</td><td>88</td></tr>\n",
              "</tbody>\n",
              "</table>\n"
            ],
            "text/markdown": "\nA matrix: 5 × 6 of type dbl\n\n|  1 | 16 | 31 | 46 | 61 | 76 |\n|  4 | 19 | 34 | 49 | 64 | 79 |\n|  7 | 22 | 37 | 52 | 67 | 82 |\n| 10 | 25 | 40 | 55 | 70 | 85 |\n| 13 | 28 | 43 | 58 | 73 | 88 |\n\n",
            "text/latex": "A matrix: 5 × 6 of type dbl\n\\begin{tabular}{llllll}\n\t  1 & 16 & 31 & 46 & 61 & 76\\\\\n\t  4 & 19 & 34 & 49 & 64 & 79\\\\\n\t  7 & 22 & 37 & 52 & 67 & 82\\\\\n\t 10 & 25 & 40 & 55 & 70 & 85\\\\\n\t 13 & 28 & 43 & 58 & 73 & 88\\\\\n\\end{tabular}\n",
            "text/plain": [
              "     [,1] [,2] [,3] [,4] [,5] [,6]\n",
              "[1,]  1   16   31   46   61   76  \n",
              "[2,]  4   19   34   49   64   79  \n",
              "[3,]  7   22   37   52   67   82  \n",
              "[4,] 10   25   40   55   70   85  \n",
              "[5,] 13   28   43   58   73   88  "
            ]
          },
          "metadata": {}
        }
      ]
    },
    {
      "cell_type": "code",
      "source": [
        "x[1, 2]"
      ],
      "metadata": {
        "colab": {
          "base_uri": "https://localhost:8080/",
          "height": 34
        },
        "id": "XXUMSFz0hW86",
        "outputId": "bf3e5e7f-2431-400a-b0b2-254b5a34aadf"
      },
      "execution_count": 89,
      "outputs": [
        {
          "output_type": "display_data",
          "data": {
            "text/html": [
              "16"
            ],
            "text/markdown": "16",
            "text/latex": "16",
            "text/plain": [
              "[1] 16"
            ]
          },
          "metadata": {}
        }
      ]
    },
    {
      "cell_type": "code",
      "source": [
        "x[,2]"
      ],
      "metadata": {
        "colab": {
          "base_uri": "https://localhost:8080/",
          "height": 34
        },
        "id": "Qi9sNth-hptr",
        "outputId": "39135e70-a403-46ff-b7d0-dae861bf934e"
      },
      "execution_count": 90,
      "outputs": [
        {
          "output_type": "display_data",
          "data": {
            "text/html": [
              "<style>\n",
              ".list-inline {list-style: none; margin:0; padding: 0}\n",
              ".list-inline>li {display: inline-block}\n",
              ".list-inline>li:not(:last-child)::after {content: \"\\00b7\"; padding: 0 .5ex}\n",
              "</style>\n",
              "<ol class=list-inline><li>16</li><li>19</li><li>22</li><li>25</li><li>28</li></ol>\n"
            ],
            "text/markdown": "1. 16\n2. 19\n3. 22\n4. 25\n5. 28\n\n\n",
            "text/latex": "\\begin{enumerate*}\n\\item 16\n\\item 19\n\\item 22\n\\item 25\n\\item 28\n\\end{enumerate*}\n",
            "text/plain": [
              "[1] 16 19 22 25 28"
            ]
          },
          "metadata": {}
        }
      ]
    },
    {
      "cell_type": "code",
      "source": [
        "x[c(1,2),] "
      ],
      "metadata": {
        "colab": {
          "base_uri": "https://localhost:8080/",
          "height": 97
        },
        "id": "El_ml6ZYiAKt",
        "outputId": "b15d9478-8006-4c3e-856f-8f9c4ba4c3bf"
      },
      "execution_count": 91,
      "outputs": [
        {
          "output_type": "display_data",
          "data": {
            "text/html": [
              "<table class=\"dataframe\">\n",
              "<caption>A matrix: 2 × 6 of type dbl</caption>\n",
              "<tbody>\n",
              "\t<tr><td>1</td><td>16</td><td>31</td><td>46</td><td>61</td><td>76</td></tr>\n",
              "\t<tr><td>4</td><td>19</td><td>34</td><td>49</td><td>64</td><td>79</td></tr>\n",
              "</tbody>\n",
              "</table>\n"
            ],
            "text/markdown": "\nA matrix: 2 × 6 of type dbl\n\n| 1 | 16 | 31 | 46 | 61 | 76 |\n| 4 | 19 | 34 | 49 | 64 | 79 |\n\n",
            "text/latex": "A matrix: 2 × 6 of type dbl\n\\begin{tabular}{llllll}\n\t 1 & 16 & 31 & 46 & 61 & 76\\\\\n\t 4 & 19 & 34 & 49 & 64 & 79\\\\\n\\end{tabular}\n",
            "text/plain": [
              "     [,1] [,2] [,3] [,4] [,5] [,6]\n",
              "[1,] 1    16   31   46   61   76  \n",
              "[2,] 4    19   34   49   64   79  "
            ]
          },
          "metadata": {}
        }
      ]
    },
    {
      "cell_type": "code",
      "source": [
        "x[, c(1,2)]"
      ],
      "metadata": {
        "colab": {
          "base_uri": "https://localhost:8080/",
          "height": 226
        },
        "id": "_qnq6E-ViUMQ",
        "outputId": "ec913943-6ac1-4868-d1b1-2306fd57b7b4"
      },
      "execution_count": 92,
      "outputs": [
        {
          "output_type": "display_data",
          "data": {
            "text/html": [
              "<table class=\"dataframe\">\n",
              "<caption>A matrix: 5 × 2 of type dbl</caption>\n",
              "<tbody>\n",
              "\t<tr><td> 1</td><td>16</td></tr>\n",
              "\t<tr><td> 4</td><td>19</td></tr>\n",
              "\t<tr><td> 7</td><td>22</td></tr>\n",
              "\t<tr><td>10</td><td>25</td></tr>\n",
              "\t<tr><td>13</td><td>28</td></tr>\n",
              "</tbody>\n",
              "</table>\n"
            ],
            "text/markdown": "\nA matrix: 5 × 2 of type dbl\n\n|  1 | 16 |\n|  4 | 19 |\n|  7 | 22 |\n| 10 | 25 |\n| 13 | 28 |\n\n",
            "text/latex": "A matrix: 5 × 2 of type dbl\n\\begin{tabular}{ll}\n\t  1 & 16\\\\\n\t  4 & 19\\\\\n\t  7 & 22\\\\\n\t 10 & 25\\\\\n\t 13 & 28\\\\\n\\end{tabular}\n",
            "text/plain": [
              "     [,1] [,2]\n",
              "[1,]  1   16  \n",
              "[2,]  4   19  \n",
              "[3,]  7   22  \n",
              "[4,] 10   25  \n",
              "[5,] 13   28  "
            ]
          },
          "metadata": {}
        }
      ]
    },
    {
      "cell_type": "code",
      "source": [
        "x <- matrix(seq(from = 1, to = 90, by = 3), nrow = 5, ncol = 6)\n",
        "x"
      ],
      "metadata": {
        "colab": {
          "base_uri": "https://localhost:8080/",
          "height": 191
        },
        "id": "v19PTmEGjKR7",
        "outputId": "d8238994-33bd-44a9-f4a9-b60d1592bc0f"
      },
      "execution_count": 93,
      "outputs": [
        {
          "output_type": "display_data",
          "data": {
            "text/html": [
              "<table class=\"dataframe\">\n",
              "<caption>A matrix: 5 × 6 of type dbl</caption>\n",
              "<tbody>\n",
              "\t<tr><td> 1</td><td>16</td><td>31</td><td>46</td><td>61</td><td>76</td></tr>\n",
              "\t<tr><td> 4</td><td>19</td><td>34</td><td>49</td><td>64</td><td>79</td></tr>\n",
              "\t<tr><td> 7</td><td>22</td><td>37</td><td>52</td><td>67</td><td>82</td></tr>\n",
              "\t<tr><td>10</td><td>25</td><td>40</td><td>55</td><td>70</td><td>85</td></tr>\n",
              "\t<tr><td>13</td><td>28</td><td>43</td><td>58</td><td>73</td><td>88</td></tr>\n",
              "</tbody>\n",
              "</table>\n"
            ],
            "text/markdown": "\nA matrix: 5 × 6 of type dbl\n\n|  1 | 16 | 31 | 46 | 61 | 76 |\n|  4 | 19 | 34 | 49 | 64 | 79 |\n|  7 | 22 | 37 | 52 | 67 | 82 |\n| 10 | 25 | 40 | 55 | 70 | 85 |\n| 13 | 28 | 43 | 58 | 73 | 88 |\n\n",
            "text/latex": "A matrix: 5 × 6 of type dbl\n\\begin{tabular}{llllll}\n\t  1 & 16 & 31 & 46 & 61 & 76\\\\\n\t  4 & 19 & 34 & 49 & 64 & 79\\\\\n\t  7 & 22 & 37 & 52 & 67 & 82\\\\\n\t 10 & 25 & 40 & 55 & 70 & 85\\\\\n\t 13 & 28 & 43 & 58 & 73 & 88\\\\\n\\end{tabular}\n",
            "text/plain": [
              "     [,1] [,2] [,3] [,4] [,5] [,6]\n",
              "[1,]  1   16   31   46   61   76  \n",
              "[2,]  4   19   34   49   64   79  \n",
              "[3,]  7   22   37   52   67   82  \n",
              "[4,] 10   25   40   55   70   85  \n",
              "[5,] 13   28   43   58   73   88  "
            ]
          },
          "metadata": {}
        }
      ]
    },
    {
      "cell_type": "code",
      "source": [
        "y <- matrix(seq(from = 0, to = 89, by = 3), nrow = 5, ncol = 6)\n",
        "y"
      ],
      "metadata": {
        "colab": {
          "base_uri": "https://localhost:8080/",
          "height": 191
        },
        "id": "ZP9ZfQ-KjiKD",
        "outputId": "44d00ed1-9575-44b3-8457-12572e25c96c"
      },
      "execution_count": 94,
      "outputs": [
        {
          "output_type": "display_data",
          "data": {
            "text/html": [
              "<table class=\"dataframe\">\n",
              "<caption>A matrix: 5 × 6 of type dbl</caption>\n",
              "<tbody>\n",
              "\t<tr><td> 0</td><td>15</td><td>30</td><td>45</td><td>60</td><td>75</td></tr>\n",
              "\t<tr><td> 3</td><td>18</td><td>33</td><td>48</td><td>63</td><td>78</td></tr>\n",
              "\t<tr><td> 6</td><td>21</td><td>36</td><td>51</td><td>66</td><td>81</td></tr>\n",
              "\t<tr><td> 9</td><td>24</td><td>39</td><td>54</td><td>69</td><td>84</td></tr>\n",
              "\t<tr><td>12</td><td>27</td><td>42</td><td>57</td><td>72</td><td>87</td></tr>\n",
              "</tbody>\n",
              "</table>\n"
            ],
            "text/markdown": "\nA matrix: 5 × 6 of type dbl\n\n|  0 | 15 | 30 | 45 | 60 | 75 |\n|  3 | 18 | 33 | 48 | 63 | 78 |\n|  6 | 21 | 36 | 51 | 66 | 81 |\n|  9 | 24 | 39 | 54 | 69 | 84 |\n| 12 | 27 | 42 | 57 | 72 | 87 |\n\n",
            "text/latex": "A matrix: 5 × 6 of type dbl\n\\begin{tabular}{llllll}\n\t  0 & 15 & 30 & 45 & 60 & 75\\\\\n\t  3 & 18 & 33 & 48 & 63 & 78\\\\\n\t  6 & 21 & 36 & 51 & 66 & 81\\\\\n\t  9 & 24 & 39 & 54 & 69 & 84\\\\\n\t 12 & 27 & 42 & 57 & 72 & 87\\\\\n\\end{tabular}\n",
            "text/plain": [
              "     [,1] [,2] [,3] [,4] [,5] [,6]\n",
              "[1,]  0   15   30   45   60   75  \n",
              "[2,]  3   18   33   48   63   78  \n",
              "[3,]  6   21   36   51   66   81  \n",
              "[4,]  9   24   39   54   69   84  \n",
              "[5,] 12   27   42   57   72   87  "
            ]
          },
          "metadata": {}
        }
      ]
    },
    {
      "cell_type": "code",
      "source": [
        "z=rbind(x,y)\n",
        "z"
      ],
      "metadata": {
        "colab": {
          "base_uri": "https://localhost:8080/",
          "height": 348
        },
        "id": "zIXirB-Ijm7h",
        "outputId": "d81e34e2-3bc3-4d15-daec-48dcd4e0b9ce"
      },
      "execution_count": 95,
      "outputs": [
        {
          "output_type": "display_data",
          "data": {
            "text/html": [
              "<table class=\"dataframe\">\n",
              "<caption>A matrix: 10 × 6 of type dbl</caption>\n",
              "<tbody>\n",
              "\t<tr><td> 1</td><td>16</td><td>31</td><td>46</td><td>61</td><td>76</td></tr>\n",
              "\t<tr><td> 4</td><td>19</td><td>34</td><td>49</td><td>64</td><td>79</td></tr>\n",
              "\t<tr><td> 7</td><td>22</td><td>37</td><td>52</td><td>67</td><td>82</td></tr>\n",
              "\t<tr><td>10</td><td>25</td><td>40</td><td>55</td><td>70</td><td>85</td></tr>\n",
              "\t<tr><td>13</td><td>28</td><td>43</td><td>58</td><td>73</td><td>88</td></tr>\n",
              "\t<tr><td> 0</td><td>15</td><td>30</td><td>45</td><td>60</td><td>75</td></tr>\n",
              "\t<tr><td> 3</td><td>18</td><td>33</td><td>48</td><td>63</td><td>78</td></tr>\n",
              "\t<tr><td> 6</td><td>21</td><td>36</td><td>51</td><td>66</td><td>81</td></tr>\n",
              "\t<tr><td> 9</td><td>24</td><td>39</td><td>54</td><td>69</td><td>84</td></tr>\n",
              "\t<tr><td>12</td><td>27</td><td>42</td><td>57</td><td>72</td><td>87</td></tr>\n",
              "</tbody>\n",
              "</table>\n"
            ],
            "text/markdown": "\nA matrix: 10 × 6 of type dbl\n\n|  1 | 16 | 31 | 46 | 61 | 76 |\n|  4 | 19 | 34 | 49 | 64 | 79 |\n|  7 | 22 | 37 | 52 | 67 | 82 |\n| 10 | 25 | 40 | 55 | 70 | 85 |\n| 13 | 28 | 43 | 58 | 73 | 88 |\n|  0 | 15 | 30 | 45 | 60 | 75 |\n|  3 | 18 | 33 | 48 | 63 | 78 |\n|  6 | 21 | 36 | 51 | 66 | 81 |\n|  9 | 24 | 39 | 54 | 69 | 84 |\n| 12 | 27 | 42 | 57 | 72 | 87 |\n\n",
            "text/latex": "A matrix: 10 × 6 of type dbl\n\\begin{tabular}{llllll}\n\t  1 & 16 & 31 & 46 & 61 & 76\\\\\n\t  4 & 19 & 34 & 49 & 64 & 79\\\\\n\t  7 & 22 & 37 & 52 & 67 & 82\\\\\n\t 10 & 25 & 40 & 55 & 70 & 85\\\\\n\t 13 & 28 & 43 & 58 & 73 & 88\\\\\n\t  0 & 15 & 30 & 45 & 60 & 75\\\\\n\t  3 & 18 & 33 & 48 & 63 & 78\\\\\n\t  6 & 21 & 36 & 51 & 66 & 81\\\\\n\t  9 & 24 & 39 & 54 & 69 & 84\\\\\n\t 12 & 27 & 42 & 57 & 72 & 87\\\\\n\\end{tabular}\n",
            "text/plain": [
              "      [,1] [,2] [,3] [,4] [,5] [,6]\n",
              " [1,]  1   16   31   46   61   76  \n",
              " [2,]  4   19   34   49   64   79  \n",
              " [3,]  7   22   37   52   67   82  \n",
              " [4,] 10   25   40   55   70   85  \n",
              " [5,] 13   28   43   58   73   88  \n",
              " [6,]  0   15   30   45   60   75  \n",
              " [7,]  3   18   33   48   63   78  \n",
              " [8,]  6   21   36   51   66   81  \n",
              " [9,]  9   24   39   54   69   84  \n",
              "[10,] 12   27   42   57   72   87  "
            ]
          },
          "metadata": {}
        }
      ]
    },
    {
      "cell_type": "code",
      "source": [
        "x"
      ],
      "metadata": {
        "colab": {
          "base_uri": "https://localhost:8080/",
          "height": 191
        },
        "id": "ZHdrfMNijtak",
        "outputId": "c281cddc-6c9f-4f3a-f52d-1e06de490b18"
      },
      "execution_count": 96,
      "outputs": [
        {
          "output_type": "display_data",
          "data": {
            "text/html": [
              "<table class=\"dataframe\">\n",
              "<caption>A matrix: 5 × 6 of type dbl</caption>\n",
              "<tbody>\n",
              "\t<tr><td> 1</td><td>16</td><td>31</td><td>46</td><td>61</td><td>76</td></tr>\n",
              "\t<tr><td> 4</td><td>19</td><td>34</td><td>49</td><td>64</td><td>79</td></tr>\n",
              "\t<tr><td> 7</td><td>22</td><td>37</td><td>52</td><td>67</td><td>82</td></tr>\n",
              "\t<tr><td>10</td><td>25</td><td>40</td><td>55</td><td>70</td><td>85</td></tr>\n",
              "\t<tr><td>13</td><td>28</td><td>43</td><td>58</td><td>73</td><td>88</td></tr>\n",
              "</tbody>\n",
              "</table>\n"
            ],
            "text/markdown": "\nA matrix: 5 × 6 of type dbl\n\n|  1 | 16 | 31 | 46 | 61 | 76 |\n|  4 | 19 | 34 | 49 | 64 | 79 |\n|  7 | 22 | 37 | 52 | 67 | 82 |\n| 10 | 25 | 40 | 55 | 70 | 85 |\n| 13 | 28 | 43 | 58 | 73 | 88 |\n\n",
            "text/latex": "A matrix: 5 × 6 of type dbl\n\\begin{tabular}{llllll}\n\t  1 & 16 & 31 & 46 & 61 & 76\\\\\n\t  4 & 19 & 34 & 49 & 64 & 79\\\\\n\t  7 & 22 & 37 & 52 & 67 & 82\\\\\n\t 10 & 25 & 40 & 55 & 70 & 85\\\\\n\t 13 & 28 & 43 & 58 & 73 & 88\\\\\n\\end{tabular}\n",
            "text/plain": [
              "     [,1] [,2] [,3] [,4] [,5] [,6]\n",
              "[1,]  1   16   31   46   61   76  \n",
              "[2,]  4   19   34   49   64   79  \n",
              "[3,]  7   22   37   52   67   82  \n",
              "[4,] 10   25   40   55   70   85  \n",
              "[5,] 13   28   43   58   73   88  "
            ]
          },
          "metadata": {}
        }
      ]
    },
    {
      "cell_type": "code",
      "source": [
        "x[-c(1), -c(1)]"
      ],
      "metadata": {
        "colab": {
          "base_uri": "https://localhost:8080/",
          "height": 177
        },
        "id": "Is08YrxVj7v2",
        "outputId": "42480277-f0b1-4e46-afd5-257bc9010e7f"
      },
      "execution_count": 97,
      "outputs": [
        {
          "output_type": "display_data",
          "data": {
            "text/html": [
              "<table class=\"dataframe\">\n",
              "<caption>A matrix: 4 × 5 of type dbl</caption>\n",
              "<tbody>\n",
              "\t<tr><td>19</td><td>34</td><td>49</td><td>64</td><td>79</td></tr>\n",
              "\t<tr><td>22</td><td>37</td><td>52</td><td>67</td><td>82</td></tr>\n",
              "\t<tr><td>25</td><td>40</td><td>55</td><td>70</td><td>85</td></tr>\n",
              "\t<tr><td>28</td><td>43</td><td>58</td><td>73</td><td>88</td></tr>\n",
              "</tbody>\n",
              "</table>\n"
            ],
            "text/markdown": "\nA matrix: 4 × 5 of type dbl\n\n| 19 | 34 | 49 | 64 | 79 |\n| 22 | 37 | 52 | 67 | 82 |\n| 25 | 40 | 55 | 70 | 85 |\n| 28 | 43 | 58 | 73 | 88 |\n\n",
            "text/latex": "A matrix: 4 × 5 of type dbl\n\\begin{tabular}{lllll}\n\t 19 & 34 & 49 & 64 & 79\\\\\n\t 22 & 37 & 52 & 67 & 82\\\\\n\t 25 & 40 & 55 & 70 & 85\\\\\n\t 28 & 43 & 58 & 73 & 88\\\\\n\\end{tabular}\n",
            "text/plain": [
              "     [,1] [,2] [,3] [,4] [,5]\n",
              "[1,] 19   34   49   64   79  \n",
              "[2,] 22   37   52   67   82  \n",
              "[3,] 25   40   55   70   85  \n",
              "[4,] 28   43   58   73   88  "
            ]
          },
          "metadata": {}
        }
      ]
    },
    {
      "cell_type": "code",
      "source": [
        "x"
      ],
      "metadata": {
        "colab": {
          "base_uri": "https://localhost:8080/",
          "height": 191
        },
        "id": "EODQG0LzkJlq",
        "outputId": "e89249e4-53b5-469c-f356-e5f0c7c6e0b1"
      },
      "execution_count": 98,
      "outputs": [
        {
          "output_type": "display_data",
          "data": {
            "text/html": [
              "<table class=\"dataframe\">\n",
              "<caption>A matrix: 5 × 6 of type dbl</caption>\n",
              "<tbody>\n",
              "\t<tr><td> 1</td><td>16</td><td>31</td><td>46</td><td>61</td><td>76</td></tr>\n",
              "\t<tr><td> 4</td><td>19</td><td>34</td><td>49</td><td>64</td><td>79</td></tr>\n",
              "\t<tr><td> 7</td><td>22</td><td>37</td><td>52</td><td>67</td><td>82</td></tr>\n",
              "\t<tr><td>10</td><td>25</td><td>40</td><td>55</td><td>70</td><td>85</td></tr>\n",
              "\t<tr><td>13</td><td>28</td><td>43</td><td>58</td><td>73</td><td>88</td></tr>\n",
              "</tbody>\n",
              "</table>\n"
            ],
            "text/markdown": "\nA matrix: 5 × 6 of type dbl\n\n|  1 | 16 | 31 | 46 | 61 | 76 |\n|  4 | 19 | 34 | 49 | 64 | 79 |\n|  7 | 22 | 37 | 52 | 67 | 82 |\n| 10 | 25 | 40 | 55 | 70 | 85 |\n| 13 | 28 | 43 | 58 | 73 | 88 |\n\n",
            "text/latex": "A matrix: 5 × 6 of type dbl\n\\begin{tabular}{llllll}\n\t  1 & 16 & 31 & 46 & 61 & 76\\\\\n\t  4 & 19 & 34 & 49 & 64 & 79\\\\\n\t  7 & 22 & 37 & 52 & 67 & 82\\\\\n\t 10 & 25 & 40 & 55 & 70 & 85\\\\\n\t 13 & 28 & 43 & 58 & 73 & 88\\\\\n\\end{tabular}\n",
            "text/plain": [
              "     [,1] [,2] [,3] [,4] [,5] [,6]\n",
              "[1,]  1   16   31   46   61   76  \n",
              "[2,]  4   19   34   49   64   79  \n",
              "[3,]  7   22   37   52   67   82  \n",
              "[4,] 10   25   40   55   70   85  \n",
              "[5,] 13   28   43   58   73   88  "
            ]
          },
          "metadata": {}
        }
      ]
    },
    {
      "cell_type": "code",
      "source": [
        "1 %in% x"
      ],
      "metadata": {
        "colab": {
          "base_uri": "https://localhost:8080/",
          "height": 34
        },
        "id": "T73E4lm7j9O2",
        "outputId": "1841295e-2e2a-4edb-ad07-a5c1dfa9d766"
      },
      "execution_count": 99,
      "outputs": [
        {
          "output_type": "display_data",
          "data": {
            "text/html": [
              "TRUE"
            ],
            "text/markdown": "TRUE",
            "text/latex": "TRUE",
            "text/plain": [
              "[1] TRUE"
            ]
          },
          "metadata": {}
        }
      ]
    },
    {
      "cell_type": "code",
      "source": [
        "2 %in% x"
      ],
      "metadata": {
        "colab": {
          "base_uri": "https://localhost:8080/",
          "height": 34
        },
        "id": "VQMYz_b1kHtI",
        "outputId": "d382d1f7-8ffa-453d-bfb1-30547a0e368d"
      },
      "execution_count": 100,
      "outputs": [
        {
          "output_type": "display_data",
          "data": {
            "text/html": [
              "FALSE"
            ],
            "text/markdown": "FALSE",
            "text/latex": "FALSE",
            "text/plain": [
              "[1] FALSE"
            ]
          },
          "metadata": {}
        }
      ]
    },
    {
      "cell_type": "code",
      "source": [
        "dim(x)"
      ],
      "metadata": {
        "colab": {
          "base_uri": "https://localhost:8080/",
          "height": 34
        },
        "id": "_GS_6gvGkG0H",
        "outputId": "84915eb2-a23a-4164-b304-9b785b3aca70"
      },
      "execution_count": 101,
      "outputs": [
        {
          "output_type": "display_data",
          "data": {
            "text/html": [
              "<style>\n",
              ".list-inline {list-style: none; margin:0; padding: 0}\n",
              ".list-inline>li {display: inline-block}\n",
              ".list-inline>li:not(:last-child)::after {content: \"\\00b7\"; padding: 0 .5ex}\n",
              "</style>\n",
              "<ol class=list-inline><li>5</li><li>6</li></ol>\n"
            ],
            "text/markdown": "1. 5\n2. 6\n\n\n",
            "text/latex": "\\begin{enumerate*}\n\\item 5\n\\item 6\n\\end{enumerate*}\n",
            "text/plain": [
              "[1] 5 6"
            ]
          },
          "metadata": {}
        }
      ]
    },
    {
      "cell_type": "code",
      "source": [
        "length(x)"
      ],
      "metadata": {
        "colab": {
          "base_uri": "https://localhost:8080/",
          "height": 34
        },
        "id": "rjZrbnQpkDc2",
        "outputId": "497e4430-5211-4925-b1ef-3d74bcfa3de0"
      },
      "execution_count": 102,
      "outputs": [
        {
          "output_type": "display_data",
          "data": {
            "text/html": [
              "30"
            ],
            "text/markdown": "30",
            "text/latex": "30",
            "text/plain": [
              "[1] 30"
            ]
          },
          "metadata": {}
        }
      ]
    },
    {
      "cell_type": "code",
      "source": [
        "x<- array(seq(from = 0, to = 89, by = 3), dim = c(4, 3, 2))"
      ],
      "metadata": {
        "id": "WZsKA1ZGkT4v"
      },
      "execution_count": 103,
      "outputs": []
    },
    {
      "cell_type": "code",
      "source": [
        "print(x)"
      ],
      "metadata": {
        "colab": {
          "base_uri": "https://localhost:8080/"
        },
        "id": "E2iPtM6qkgWL",
        "outputId": "c0c01877-e582-46a4-fc2b-3f1ce2ff68a4"
      },
      "execution_count": 104,
      "outputs": [
        {
          "output_type": "stream",
          "name": "stdout",
          "text": [
            ", , 1\n",
            "\n",
            "     [,1] [,2] [,3]\n",
            "[1,]    0   12   24\n",
            "[2,]    3   15   27\n",
            "[3,]    6   18   30\n",
            "[4,]    9   21   33\n",
            "\n",
            ", , 2\n",
            "\n",
            "     [,1] [,2] [,3]\n",
            "[1,]   36   48   60\n",
            "[2,]   39   51   63\n",
            "[3,]   42   54   66\n",
            "[4,]   45   57   69\n",
            "\n"
          ]
        }
      ]
    },
    {
      "cell_type": "code",
      "source": [
        "x<- array(seq(from = 0, to = 89, by = 3), dim = c(4, 5, 2))\n",
        "print(x)"
      ],
      "metadata": {
        "colab": {
          "base_uri": "https://localhost:8080/"
        },
        "id": "v6nCQyIPkhCw",
        "outputId": "ba908d65-1d7c-4c84-b753-1f5230694c70"
      },
      "execution_count": 105,
      "outputs": [
        {
          "output_type": "stream",
          "name": "stdout",
          "text": [
            ", , 1\n",
            "\n",
            "     [,1] [,2] [,3] [,4] [,5]\n",
            "[1,]    0   12   24   36   48\n",
            "[2,]    3   15   27   39   51\n",
            "[3,]    6   18   30   42   54\n",
            "[4,]    9   21   33   45   57\n",
            "\n",
            ", , 2\n",
            "\n",
            "     [,1] [,2] [,3] [,4] [,5]\n",
            "[1,]   60   72   84    6   18\n",
            "[2,]   63   75   87    9   21\n",
            "[3,]   66   78    0   12   24\n",
            "[4,]   69   81    3   15   27\n",
            "\n"
          ]
        }
      ]
    },
    {
      "cell_type": "code",
      "source": [
        "x<- array(seq(from = 0, to = 89, by = 3), dim = c(10, 10, 2))\n",
        "print(x)"
      ],
      "metadata": {
        "colab": {
          "base_uri": "https://localhost:8080/"
        },
        "id": "TIBXHtFMkse0",
        "outputId": "2241116f-6d26-4273-b832-5010ed66dcfc"
      },
      "execution_count": 106,
      "outputs": [
        {
          "output_type": "stream",
          "name": "stdout",
          "text": [
            ", , 1\n",
            "\n",
            "      [,1] [,2] [,3] [,4] [,5] [,6] [,7] [,8] [,9] [,10]\n",
            " [1,]    0   30   60    0   30   60    0   30   60     0\n",
            " [2,]    3   33   63    3   33   63    3   33   63     3\n",
            " [3,]    6   36   66    6   36   66    6   36   66     6\n",
            " [4,]    9   39   69    9   39   69    9   39   69     9\n",
            " [5,]   12   42   72   12   42   72   12   42   72    12\n",
            " [6,]   15   45   75   15   45   75   15   45   75    15\n",
            " [7,]   18   48   78   18   48   78   18   48   78    18\n",
            " [8,]   21   51   81   21   51   81   21   51   81    21\n",
            " [9,]   24   54   84   24   54   84   24   54   84    24\n",
            "[10,]   27   57   87   27   57   87   27   57   87    27\n",
            "\n",
            ", , 2\n",
            "\n",
            "      [,1] [,2] [,3] [,4] [,5] [,6] [,7] [,8] [,9] [,10]\n",
            " [1,]   30   60    0   30   60    0   30   60    0    30\n",
            " [2,]   33   63    3   33   63    3   33   63    3    33\n",
            " [3,]   36   66    6   36   66    6   36   66    6    36\n",
            " [4,]   39   69    9   39   69    9   39   69    9    39\n",
            " [5,]   42   72   12   42   72   12   42   72   12    42\n",
            " [6,]   45   75   15   45   75   15   45   75   15    45\n",
            " [7,]   48   78   18   48   78   18   48   78   18    48\n",
            " [8,]   51   81   21   51   81   21   51   81   21    51\n",
            " [9,]   54   84   24   54   84   24   54   84   24    54\n",
            "[10,]   57   87   27   57   87   27   57   87   27    57\n",
            "\n"
          ]
        }
      ]
    },
    {
      "cell_type": "code",
      "source": [
        "x<- array(seq(from = 0, to = 89, by = 3), dim = c(5, 3, 2))\n",
        "print(x)"
      ],
      "metadata": {
        "colab": {
          "base_uri": "https://localhost:8080/"
        },
        "id": "gL238XmIk1Qp",
        "outputId": "bf5c6197-3eec-4ddc-e9cb-3edf5fe24590"
      },
      "execution_count": 107,
      "outputs": [
        {
          "output_type": "stream",
          "name": "stdout",
          "text": [
            ", , 1\n",
            "\n",
            "     [,1] [,2] [,3]\n",
            "[1,]    0   15   30\n",
            "[2,]    3   18   33\n",
            "[3,]    6   21   36\n",
            "[4,]    9   24   39\n",
            "[5,]   12   27   42\n",
            "\n",
            ", , 2\n",
            "\n",
            "     [,1] [,2] [,3]\n",
            "[1,]   45   60   75\n",
            "[2,]   48   63   78\n",
            "[3,]   51   66   81\n",
            "[4,]   54   69   84\n",
            "[5,]   57   72   87\n",
            "\n"
          ]
        }
      ]
    },
    {
      "cell_type": "code",
      "source": [
        "x[2, 3, 1] "
      ],
      "metadata": {
        "colab": {
          "base_uri": "https://localhost:8080/",
          "height": 34
        },
        "id": "OK8uutralC4t",
        "outputId": "06a7571c-e4b3-4fac-bd65-7f65d76511d6"
      },
      "execution_count": 108,
      "outputs": [
        {
          "output_type": "display_data",
          "data": {
            "text/html": [
              "33"
            ],
            "text/markdown": "33",
            "text/latex": "33",
            "text/plain": [
              "[1] 33"
            ]
          },
          "metadata": {}
        }
      ]
    },
    {
      "cell_type": "code",
      "source": [
        "x[,c(1),2]"
      ],
      "metadata": {
        "colab": {
          "base_uri": "https://localhost:8080/",
          "height": 34
        },
        "id": "pa3wxditlFP8",
        "outputId": "e5423633-07de-41c4-ff3e-64727618f364"
      },
      "execution_count": 109,
      "outputs": [
        {
          "output_type": "display_data",
          "data": {
            "text/html": [
              "<style>\n",
              ".list-inline {list-style: none; margin:0; padding: 0}\n",
              ".list-inline>li {display: inline-block}\n",
              ".list-inline>li:not(:last-child)::after {content: \"\\00b7\"; padding: 0 .5ex}\n",
              "</style>\n",
              "<ol class=list-inline><li>45</li><li>48</li><li>51</li><li>54</li><li>57</li></ol>\n"
            ],
            "text/markdown": "1. 45\n2. 48\n3. 51\n4. 54\n5. 57\n\n\n",
            "text/latex": "\\begin{enumerate*}\n\\item 45\n\\item 48\n\\item 51\n\\item 54\n\\item 57\n\\end{enumerate*}\n",
            "text/plain": [
              "[1] 45 48 51 54 57"
            ]
          },
          "metadata": {}
        }
      ]
    },
    {
      "cell_type": "code",
      "source": [
        "x[c(1),,2]"
      ],
      "metadata": {
        "colab": {
          "base_uri": "https://localhost:8080/",
          "height": 34
        },
        "id": "jeLNqfyXlVds",
        "outputId": "57c5b0fc-e3f2-4584-dad3-9a5a3af07ad3"
      },
      "execution_count": 110,
      "outputs": [
        {
          "output_type": "display_data",
          "data": {
            "text/html": [
              "<style>\n",
              ".list-inline {list-style: none; margin:0; padding: 0}\n",
              ".list-inline>li {display: inline-block}\n",
              ".list-inline>li:not(:last-child)::after {content: \"\\00b7\"; padding: 0 .5ex}\n",
              "</style>\n",
              "<ol class=list-inline><li>45</li><li>60</li><li>75</li></ol>\n"
            ],
            "text/markdown": "1. 45\n2. 60\n3. 75\n\n\n",
            "text/latex": "\\begin{enumerate*}\n\\item 45\n\\item 60\n\\item 75\n\\end{enumerate*}\n",
            "text/plain": [
              "[1] 45 60 75"
            ]
          },
          "metadata": {}
        }
      ]
    },
    {
      "cell_type": "code",
      "source": [
        "2 %in% x"
      ],
      "metadata": {
        "colab": {
          "base_uri": "https://localhost:8080/",
          "height": 34
        },
        "id": "6kXSpNL6lhkv",
        "outputId": "317a2483-f35a-4f34-cc7a-a77ecdf4bd51"
      },
      "execution_count": 111,
      "outputs": [
        {
          "output_type": "display_data",
          "data": {
            "text/html": [
              "FALSE"
            ],
            "text/markdown": "FALSE",
            "text/latex": "FALSE",
            "text/plain": [
              "[1] FALSE"
            ]
          },
          "metadata": {}
        }
      ]
    },
    {
      "cell_type": "code",
      "source": [
        "3 %in% x"
      ],
      "metadata": {
        "colab": {
          "base_uri": "https://localhost:8080/",
          "height": 34
        },
        "id": "CRHE8D_ulpHP",
        "outputId": "b8d4e46c-6844-463b-e5b8-9a060a0e746c"
      },
      "execution_count": 112,
      "outputs": [
        {
          "output_type": "display_data",
          "data": {
            "text/html": [
              "TRUE"
            ],
            "text/markdown": "TRUE",
            "text/latex": "TRUE",
            "text/plain": [
              "[1] TRUE"
            ]
          },
          "metadata": {}
        }
      ]
    },
    {
      "cell_type": "code",
      "source": [
        "dim(x)"
      ],
      "metadata": {
        "colab": {
          "base_uri": "https://localhost:8080/",
          "height": 34
        },
        "id": "kj88Q4rolqIS",
        "outputId": "1c5f3d9d-e9e6-4215-d184-03ca9bf584c3"
      },
      "execution_count": 113,
      "outputs": [
        {
          "output_type": "display_data",
          "data": {
            "text/html": [
              "<style>\n",
              ".list-inline {list-style: none; margin:0; padding: 0}\n",
              ".list-inline>li {display: inline-block}\n",
              ".list-inline>li:not(:last-child)::after {content: \"\\00b7\"; padding: 0 .5ex}\n",
              "</style>\n",
              "<ol class=list-inline><li>5</li><li>3</li><li>2</li></ol>\n"
            ],
            "text/markdown": "1. 5\n2. 3\n3. 2\n\n\n",
            "text/latex": "\\begin{enumerate*}\n\\item 5\n\\item 3\n\\item 2\n\\end{enumerate*}\n",
            "text/plain": [
              "[1] 5 3 2"
            ]
          },
          "metadata": {}
        }
      ]
    },
    {
      "cell_type": "code",
      "source": [
        "x <- c(2, 7, 3, 6, 1)\n",
        "y <- c(3, 7, 3, 5, 9)"
      ],
      "metadata": {
        "id": "e13bB77nls7t"
      },
      "execution_count": 114,
      "outputs": []
    },
    {
      "cell_type": "code",
      "source": [
        "x"
      ],
      "metadata": {
        "colab": {
          "base_uri": "https://localhost:8080/",
          "height": 34
        },
        "id": "YhWs118Tl7JE",
        "outputId": "0bdf9b87-582b-438e-9334-cbdd8df6cd62"
      },
      "execution_count": 115,
      "outputs": [
        {
          "output_type": "display_data",
          "data": {
            "text/html": [
              "<style>\n",
              ".list-inline {list-style: none; margin:0; padding: 0}\n",
              ".list-inline>li {display: inline-block}\n",
              ".list-inline>li:not(:last-child)::after {content: \"\\00b7\"; padding: 0 .5ex}\n",
              "</style>\n",
              "<ol class=list-inline><li>2</li><li>7</li><li>3</li><li>6</li><li>1</li></ol>\n"
            ],
            "text/markdown": "1. 2\n2. 7\n3. 3\n4. 6\n5. 1\n\n\n",
            "text/latex": "\\begin{enumerate*}\n\\item 2\n\\item 7\n\\item 3\n\\item 6\n\\item 1\n\\end{enumerate*}\n",
            "text/plain": [
              "[1] 2 7 3 6 1"
            ]
          },
          "metadata": {}
        }
      ]
    },
    {
      "cell_type": "code",
      "source": [
        "y"
      ],
      "metadata": {
        "colab": {
          "base_uri": "https://localhost:8080/",
          "height": 34
        },
        "id": "_i1vw2dll7lY",
        "outputId": "2fa34728-1950-4084-9e1f-cbaecf8dcc10"
      },
      "execution_count": 116,
      "outputs": [
        {
          "output_type": "display_data",
          "data": {
            "text/html": [
              "<style>\n",
              ".list-inline {list-style: none; margin:0; padding: 0}\n",
              ".list-inline>li {display: inline-block}\n",
              ".list-inline>li:not(:last-child)::after {content: \"\\00b7\"; padding: 0 .5ex}\n",
              "</style>\n",
              "<ol class=list-inline><li>3</li><li>7</li><li>3</li><li>5</li><li>9</li></ol>\n"
            ],
            "text/markdown": "1. 3\n2. 7\n3. 3\n4. 5\n5. 9\n\n\n",
            "text/latex": "\\begin{enumerate*}\n\\item 3\n\\item 7\n\\item 3\n\\item 5\n\\item 9\n\\end{enumerate*}\n",
            "text/plain": [
              "[1] 3 7 3 5 9"
            ]
          },
          "metadata": {}
        }
      ]
    },
    {
      "cell_type": "code",
      "source": [
        "rbind(x,y)"
      ],
      "metadata": {
        "colab": {
          "base_uri": "https://localhost:8080/",
          "height": 114
        },
        "id": "MMDzfA1Sl74K",
        "outputId": "f3c9e04b-d874-4e4a-e47b-c17c256d3670"
      },
      "execution_count": 117,
      "outputs": [
        {
          "output_type": "display_data",
          "data": {
            "text/html": [
              "<table class=\"dataframe\">\n",
              "<caption>A matrix: 2 × 5 of type dbl</caption>\n",
              "<tbody>\n",
              "\t<tr><th scope=row>x</th><td>2</td><td>7</td><td>3</td><td>6</td><td>1</td></tr>\n",
              "\t<tr><th scope=row>y</th><td>3</td><td>7</td><td>3</td><td>5</td><td>9</td></tr>\n",
              "</tbody>\n",
              "</table>\n"
            ],
            "text/markdown": "\nA matrix: 2 × 5 of type dbl\n\n| x | 2 | 7 | 3 | 6 | 1 |\n| y | 3 | 7 | 3 | 5 | 9 |\n\n",
            "text/latex": "A matrix: 2 × 5 of type dbl\n\\begin{tabular}{r|lllll}\n\tx & 2 & 7 & 3 & 6 & 1\\\\\n\ty & 3 & 7 & 3 & 5 & 9\\\\\n\\end{tabular}\n",
            "text/plain": [
              "  [,1] [,2] [,3] [,4] [,5]\n",
              "x 2    7    3    6    1   \n",
              "y 3    7    3    5    9   "
            ]
          },
          "metadata": {}
        }
      ]
    },
    {
      "cell_type": "code",
      "source": [
        "cbind(x,y)"
      ],
      "metadata": {
        "colab": {
          "base_uri": "https://localhost:8080/",
          "height": 293
        },
        "id": "9l_Lezgel9CC",
        "outputId": "40dcf472-2002-4297-cb8b-519fd094a099"
      },
      "execution_count": 118,
      "outputs": [
        {
          "output_type": "display_data",
          "data": {
            "text/html": [
              "<table class=\"dataframe\">\n",
              "<caption>A matrix: 5 × 2 of type dbl</caption>\n",
              "<thead>\n",
              "\t<tr><th scope=col>x</th><th scope=col>y</th></tr>\n",
              "</thead>\n",
              "<tbody>\n",
              "\t<tr><td>2</td><td>3</td></tr>\n",
              "\t<tr><td>7</td><td>7</td></tr>\n",
              "\t<tr><td>3</td><td>3</td></tr>\n",
              "\t<tr><td>6</td><td>5</td></tr>\n",
              "\t<tr><td>1</td><td>9</td></tr>\n",
              "</tbody>\n",
              "</table>\n"
            ],
            "text/markdown": "\nA matrix: 5 × 2 of type dbl\n\n| x | y |\n|---|---|\n| 2 | 3 |\n| 7 | 7 |\n| 3 | 3 |\n| 6 | 5 |\n| 1 | 9 |\n\n",
            "text/latex": "A matrix: 5 × 2 of type dbl\n\\begin{tabular}{ll}\n x & y\\\\\n\\hline\n\t 2 & 3\\\\\n\t 7 & 7\\\\\n\t 3 & 3\\\\\n\t 6 & 5\\\\\n\t 1 & 9\\\\\n\\end{tabular}\n",
            "text/plain": [
              "     x y\n",
              "[1,] 2 3\n",
              "[2,] 7 7\n",
              "[3,] 3 3\n",
              "[4,] 6 5\n",
              "[5,] 1 9"
            ]
          },
          "metadata": {}
        }
      ]
    },
    {
      "cell_type": "code",
      "source": [
        "x<- factor(c(\"Jazz\", \"Rock\", \"Classic\", \"Classic\", \"Pop\", \"Jazz\", \"Rock\", \"Jazz\"))\n",
        "x"
      ],
      "metadata": {
        "colab": {
          "base_uri": "https://localhost:8080/",
          "height": 53
        },
        "id": "ck9RMHCZl_E3",
        "outputId": "c6b2794c-7851-4a12-ddee-38f6f8ddef0f"
      },
      "execution_count": 119,
      "outputs": [
        {
          "output_type": "display_data",
          "data": {
            "text/html": [
              "<style>\n",
              ".list-inline {list-style: none; margin:0; padding: 0}\n",
              ".list-inline>li {display: inline-block}\n",
              ".list-inline>li:not(:last-child)::after {content: \"\\00b7\"; padding: 0 .5ex}\n",
              "</style>\n",
              "<ol class=list-inline><li>Jazz</li><li>Rock</li><li>Classic</li><li>Classic</li><li>Pop</li><li>Jazz</li><li>Rock</li><li>Jazz</li></ol>\n",
              "\n",
              "<details>\n",
              "\t<summary style=display:list-item;cursor:pointer>\n",
              "\t\t<strong>Levels</strong>:\n",
              "\t</summary>\n",
              "\t<style>\n",
              "\t.list-inline {list-style: none; margin:0; padding: 0}\n",
              "\t.list-inline>li {display: inline-block}\n",
              "\t.list-inline>li:not(:last-child)::after {content: \"\\00b7\"; padding: 0 .5ex}\n",
              "\t</style>\n",
              "\t<ol class=list-inline><li>'Classic'</li><li>'Jazz'</li><li>'Pop'</li><li>'Rock'</li></ol>\n",
              "</details>"
            ],
            "text/markdown": "1. Jazz\n2. Rock\n3. Classic\n4. Classic\n5. Pop\n6. Jazz\n7. Rock\n8. Jazz\n\n\n\n**Levels**: 1. 'Classic'\n2. 'Jazz'\n3. 'Pop'\n4. 'Rock'\n\n\n",
            "text/latex": "\\begin{enumerate*}\n\\item Jazz\n\\item Rock\n\\item Classic\n\\item Classic\n\\item Pop\n\\item Jazz\n\\item Rock\n\\item Jazz\n\\end{enumerate*}\n\n\\emph{Levels}: \\begin{enumerate*}\n\\item 'Classic'\n\\item 'Jazz'\n\\item 'Pop'\n\\item 'Rock'\n\\end{enumerate*}\n",
            "text/plain": [
              "[1] Jazz    Rock    Classic Classic Pop     Jazz    Rock    Jazz   \n",
              "Levels: Classic Jazz Pop Rock"
            ]
          },
          "metadata": {}
        }
      ]
    },
    {
      "cell_type": "code",
      "source": [
        "levels(x) "
      ],
      "metadata": {
        "colab": {
          "base_uri": "https://localhost:8080/",
          "height": 34
        },
        "id": "xbQ-Hgc_mOf0",
        "outputId": "24ceee25-fc60-4677-8892-6ec623a11abb"
      },
      "execution_count": 120,
      "outputs": [
        {
          "output_type": "display_data",
          "data": {
            "text/html": [
              "<style>\n",
              ".list-inline {list-style: none; margin:0; padding: 0}\n",
              ".list-inline>li {display: inline-block}\n",
              ".list-inline>li:not(:last-child)::after {content: \"\\00b7\"; padding: 0 .5ex}\n",
              "</style>\n",
              "<ol class=list-inline><li>'Classic'</li><li>'Jazz'</li><li>'Pop'</li><li>'Rock'</li></ol>\n"
            ],
            "text/markdown": "1. 'Classic'\n2. 'Jazz'\n3. 'Pop'\n4. 'Rock'\n\n\n",
            "text/latex": "\\begin{enumerate*}\n\\item 'Classic'\n\\item 'Jazz'\n\\item 'Pop'\n\\item 'Rock'\n\\end{enumerate*}\n",
            "text/plain": [
              "[1] \"Classic\" \"Jazz\"    \"Pop\"     \"Rock\"   "
            ]
          },
          "metadata": {}
        }
      ]
    },
    {
      "cell_type": "code",
      "source": [
        ""
      ],
      "metadata": {
        "id": "THn0FWkDmVsz"
      },
      "execution_count": 121,
      "outputs": []
    }
  ]
}