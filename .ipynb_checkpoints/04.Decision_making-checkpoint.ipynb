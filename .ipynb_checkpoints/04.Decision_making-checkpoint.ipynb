{
 "cells": [
  {
   "cell_type": "code",
   "execution_count": 1,
   "metadata": {
    "id": "THn0FWkDmVsz"
   },
   "outputs": [],
   "source": [
    "x<-10"
   ]
  },
  {
   "cell_type": "code",
   "execution_count": 2,
   "metadata": {
    "colab": {
     "base_uri": "https://localhost:8080/"
    },
    "id": "T4KZqsN1DM5z",
    "outputId": "b3ee122f-f71e-4894-a33a-212b41fa81d1"
   },
   "outputs": [
    {
     "name": "stdout",
     "output_type": "stream",
     "text": [
      "You are Major"
     ]
    }
   ],
   "source": [
    "if (x>18){\n",
    "  cat(\"You are Minor\")\n",
    "}else\n",
    "{\n",
    "  cat(\"You are Major\")\n",
    "}"
   ]
  },
  {
   "cell_type": "code",
   "execution_count": 3,
   "metadata": {
    "colab": {
     "base_uri": "https://localhost:8080/"
    },
    "id": "Vz9uQBZsI0BB",
    "outputId": "d3a00cdf-067d-4e2e-fa33-f5a51084d67b"
   },
   "outputs": [
    {
     "name": "stdin",
     "output_type": "stream",
     "text": [
      " 22\n"
     ]
    }
   ],
   "source": [
    "x=readline()"
   ]
  },
  {
   "cell_type": "code",
   "execution_count": 4,
   "metadata": {
    "colab": {
     "base_uri": "https://localhost:8080/",
     "height": 34
    },
    "id": "b00wjDjLVDCw",
    "outputId": "3854fea9-7e13-4db3-f9c0-aa490a8d5520"
   },
   "outputs": [
    {
     "data": {
      "text/html": [
       "'22'"
      ],
      "text/latex": [
       "'22'"
      ],
      "text/markdown": [
       "'22'"
      ],
      "text/plain": [
       "[1] \"22\""
      ]
     },
     "metadata": {},
     "output_type": "display_data"
    }
   ],
   "source": [
    "x"
   ]
  },
  {
   "cell_type": "code",
   "execution_count": 5,
   "metadata": {
    "colab": {
     "base_uri": "https://localhost:8080/",
     "height": 34
    },
    "id": "t7IDb4iOVD6V",
    "outputId": "a26fe94c-a787-4294-c26a-6ff828a00a1e"
   },
   "outputs": [
    {
     "data": {
      "text/html": [
       "'character'"
      ],
      "text/latex": [
       "'character'"
      ],
      "text/markdown": [
       "'character'"
      ],
      "text/plain": [
       "[1] \"character\""
      ]
     },
     "metadata": {},
     "output_type": "display_data"
    }
   ],
   "source": [
    "class(x)"
   ]
  },
  {
   "cell_type": "code",
   "execution_count": 6,
   "metadata": {
    "id": "hiz3tW8qVFrz"
   },
   "outputs": [],
   "source": [
    "age=as.integer(x)"
   ]
  },
  {
   "cell_type": "code",
   "execution_count": 7,
   "metadata": {
    "colab": {
     "base_uri": "https://localhost:8080/"
    },
    "id": "2Y4Kf8COVMlz",
    "outputId": "29e8a631-a542-46b2-858e-9f48a29bb1ef"
   },
   "outputs": [
    {
     "name": "stdout",
     "output_type": "stream",
     "text": [
      "You are Minor"
     ]
    }
   ],
   "source": [
    "if (age>18)\n",
    "{\n",
    "  cat(\"You are Minor\")\n",
    "}else\n",
    "{\n",
    "  cat(\"You are Major\")\n",
    "}"
   ]
  },
  {
   "cell_type": "code",
   "execution_count": 8,
   "metadata": {
    "colab": {
     "base_uri": "https://localhost:8080/"
    },
    "id": "YG7LXkcEVRVt",
    "outputId": "666643d6-0f75-4de7-d614-6bce518a40ec"
   },
   "outputs": [
    {
     "name": "stdin",
     "output_type": "stream",
     "text": [
      " 26\n"
     ]
    },
    {
     "name": "stdout",
     "output_type": "stream",
     "text": [
      "You are Minor"
     ]
    }
   ],
   "source": [
    "x=readline()\n",
    "age=as.integer(x)\n",
    "if (age>18)\n",
    "{\n",
    "  cat(\"You are Minor\")\n",
    "}else\n",
    "{\n",
    "  cat(\"You are Major\")\n",
    "}"
   ]
  },
  {
   "cell_type": "code",
   "execution_count": 9,
   "metadata": {
    "colab": {
     "base_uri": "https://localhost:8080/"
    },
    "id": "1xB4xNTjVWge",
    "outputId": "9c3409bf-e3ed-480e-df4a-ef01b6864fa1"
   },
   "outputs": [
    {
     "name": "stdin",
     "output_type": "stream",
     "text": [
      "Enter you Age 55\n"
     ]
    },
    {
     "name": "stdout",
     "output_type": "stream",
     "text": [
      "You are Minor"
     ]
    }
   ],
   "source": [
    "x=readline(prompt = \"Enter you Age\")\n",
    "age=as.integer(x)\n",
    "if (age>18)\n",
    "{\n",
    "  cat(\"You are Minor\")\n",
    "}else\n",
    "{\n",
    "  cat(\"You are Major\")\n",
    "}"
   ]
  },
  {
   "cell_type": "code",
   "execution_count": 10,
   "metadata": {
    "colab": {
     "base_uri": "https://localhost:8080/"
    },
    "id": "CvkVdxVVVdce",
    "outputId": "cc80a6a3-80cc-4706-e9ad-3bc8c8c3382a"
   },
   "outputs": [
    {
     "name": "stdin",
     "output_type": "stream",
     "text": [
      "Enter you Marks 69\n"
     ]
    },
    {
     "name": "stdout",
     "output_type": "stream",
     "text": [
      "You are Passed"
     ]
    }
   ],
   "source": [
    "x=readline(prompt = \"Enter you Marks\")\n",
    "mark=as.integer(x)\n",
    "if (mark>60)\n",
    "{\n",
    "  cat(\"You are Passed\")\n",
    "}else\n",
    "{\n",
    "  cat(\"You are Failed\")\n",
    "}"
   ]
  },
  {
   "cell_type": "code",
   "execution_count": 11,
   "metadata": {
    "colab": {
     "base_uri": "https://localhost:8080/"
    },
    "id": "96ES54ZCVlMX",
    "outputId": "3f94f466-bfdf-44c3-d09c-c4083b43fd6b"
   },
   "outputs": [
    {
     "name": "stdin",
     "output_type": "stream",
     "text": [
      "Enter you  Salary 2500000\n"
     ]
    },
    {
     "name": "stdout",
     "output_type": "stream",
     "text": [
      "You have to Pay Tax"
     ]
    }
   ],
   "source": [
    "x=readline(prompt = \"Enter you  Salary\")\n",
    "Salary=as.integer(x)\n",
    "if (Salary>250000)\n",
    "{\n",
    "  cat(\"You have to Pay Tax\")\n",
    "}else\n",
    "{\n",
    "  cat(\"You dont have to pay Tax\")\n",
    "}"
   ]
  },
  {
   "cell_type": "code",
   "execution_count": 12,
   "metadata": {
    "colab": {
     "base_uri": "https://localhost:8080/"
    },
    "id": "d6ukx92fWB7u",
    "outputId": "cb53aa32-69e8-467e-b3b0-c3f9c0b11264"
   },
   "outputs": [
    {
     "name": "stdin",
     "output_type": "stream",
     "text": [
      "Enter your Option from 1-4: 1 : + , 2 : -, 3:* , 4 /  1\n",
      "X =  2\n",
      "Y =  3\n"
     ]
    },
    {
     "name": "stdout",
     "output_type": "stream",
     "text": [
      "sum= 5"
     ]
    }
   ],
   "source": [
    "Opt<-readline(prompt=\"Enter your Option from 1-4: 1 : + , 2 : -, 3:* , 4 / \")  \n",
    "x<-readline(prompt=\"X = \")\n",
    "y<-readline(prompt=\"Y = \")\n",
    "x<- as.integer(x)  \n",
    "y<- as.integer(y)  \n",
    "Opt<- as.integer(Opt)  \n",
    "  if(Opt==1)\n",
    "  {\n",
    "  sum <-(x+y) \n",
    "  cat(\"sum=\",sum) \n",
    "  }else if(Opt==2)\n",
    "  {  \n",
    "    sub<-(x-y)\n",
    "    cat(\"sub=\",sub)  \n",
    "  }else if(Opt==3)\n",
    "  { \n",
    "    div<-x/y  \n",
    "    cat(\"Division=\",div)  \n",
    "  }else if(Opt==4)\n",
    "  { \n",
    "    mul<-x*y \n",
    "    cat(\"mul=\",mul)  \n",
    "  }else{ \n",
    "    cat(\"wrong Opt\")  \n",
    "  }  "
   ]
  },
  {
   "cell_type": "code",
   "execution_count": 13,
   "metadata": {
    "colab": {
     "base_uri": "https://localhost:8080/"
    },
    "id": "_zuzdtMHXK64",
    "outputId": "5faf56c2-365e-4c8a-bf2d-18b40681143d"
   },
   "outputs": [
    {
     "name": "stdout",
     "output_type": "stream",
     "text": [
      "Yes, programming in small"
     ]
    }
   ],
   "source": [
    "x <- c(\"R\", \"is\", \"a\", \"programming\" , \"language\", \"for\",  \"statistical computing\")  \n",
    "if(\"Programming\" %in% x) {  \n",
    "   cat(\"Yes, Programming in capital\")  \n",
    "} else if (\"programming\" %in% x) {  \n",
    "   cat(\"Yes, programming in small\")   \n",
    "} else {  \n",
    "   cat(\"No results found\")  \n",
    "}"
   ]
  },
  {
   "cell_type": "code",
   "execution_count": 14,
   "metadata": {
    "colab": {
     "base_uri": "https://localhost:8080/"
    },
    "id": "bDeyAh41XbxQ",
    "outputId": "27852dd5-1f77-45a0-a821-5527628987c6"
   },
   "outputs": [
    {
     "name": "stdin",
     "output_type": "stream",
     "text": [
      "Enter you Marks 69\n"
     ]
    },
    {
     "name": "stdout",
     "output_type": "stream",
     "text": [
      "You are Passed with second class"
     ]
    }
   ],
   "source": [
    "\n",
    "x=readline(prompt = \"Enter you Marks\")\n",
    "mark=as.integer(x)\n",
    "if (mark>60 & mark<70)\n",
    "{\n",
    "  cat(\"You are Passed with second class\")\n",
    "}else if (mark>70 && mark<80){\n",
    "  cat(\"You are Passed with first class\")\n",
    "}else if (mark>80){\n",
    "  cat(\"You are Passed with first class and distingtion\")\n",
    "}else {\n",
    "  cat(\"You are failed\")\n",
    "}"
   ]
  },
  {
   "cell_type": "code",
   "execution_count": 15,
   "metadata": {
    "colab": {
     "base_uri": "https://localhost:8080/"
    },
    "id": "TMI3B8flZd5B",
    "outputId": "4b6ec983-b374-4ba8-b4d1-2bce21425712"
   },
   "outputs": [
    {
     "name": "stdin",
     "output_type": "stream",
     "text": [
      "Enter you Marks for exam 1 16\n",
      "Enter you Marks for exam 2 99\n"
     ]
    },
    {
     "name": "stdout",
     "output_type": "stream",
     "text": [
      "You are failed"
     ]
    }
   ],
   "source": [
    "x=readline(prompt = \"Enter you Marks for exam 1\")\n",
    "mark1=as.integer(x)\n",
    "x=readline(prompt = \"Enter you Marks for exam 2\")\n",
    "mark2=as.integer(x)\n",
    "if (mark1>60 || mark2<70)\n",
    "{\n",
    "  cat(\"You are Passed\")\n",
    "}else {\n",
    "  cat(\"You are failed\")\n",
    "}"
   ]
  },
  {
   "cell_type": "code",
   "execution_count": 16,
   "metadata": {
    "colab": {
     "base_uri": "https://localhost:8080/"
    },
    "id": "xAbR6o9waTIv",
    "outputId": "8bebfdfa-4ad5-4793-95bc-ea2c7aba78e0"
   },
   "outputs": [
    {
     "name": "stdin",
     "output_type": "stream",
     "text": [
      "Enter  Catogory A\n",
      "Enter you Marks for exam 2 2\n"
     ]
    },
    {
     "name": "stdout",
     "output_type": "stream",
     "text": [
      "A vat rate of 8% is applied. The total price is 2.16"
     ]
    }
   ],
   "source": [
    "c <- readline(prompt = \"Enter  Catogory\")\n",
    "x <- readline(prompt = \"Enter you Marks for exam 2\")\n",
    "y=as.integer(x)\n",
    "if (c =='A'){\n",
    "  cat('A vat rate of 8% is applied.','The total price is',y*1.08)  \n",
    "} else if (c =='B'){\n",
    "    cat('A vat rate of 10% is applied.','The total price is',x *1.10)  \n",
    "} else {\n",
    "    cat('A vat rate of 20% is applied.','The total price is',x*1.20)  \n",
    "}"
   ]
  },
  {
   "cell_type": "code",
   "execution_count": 17,
   "metadata": {
    "colab": {
     "base_uri": "https://localhost:8080/"
    },
    "id": "By8p0Gzia_4P",
    "outputId": "26a538ae-2414-4c9d-a6b8-28c22e70e54f"
   },
   "outputs": [
    {
     "name": "stdin",
     "output_type": "stream",
     "text": [
      "Enter a number 100\n"
     ]
    },
    {
     "name": "stdout",
     "output_type": "stream",
     "text": [
      "[1] \"+ve and even\"\n"
     ]
    }
   ],
   "source": [
    "x <- readline(prompt = \"Enter a number\")\n",
    "x=as.integer(x)\n",
    "if (x > 0) {\n",
    "  if (x %% 2 == 0) {\n",
    "    print(\"+ve and even\")\n",
    "  } else {\n",
    "    print(\"+ve and odd number\")\n",
    "  }\n",
    "\n",
    "} else {\n",
    "  if (x %% 2 == 0) {\n",
    "    print(\"-ve and even\")\n",
    "  } else {\n",
    "    print(\"-ve and odd number\")\n",
    "  }\n",
    "}"
   ]
  },
  {
   "cell_type": "code",
   "execution_count": 18,
   "metadata": {
    "colab": {
     "base_uri": "https://localhost:8080/"
    },
    "id": "rJC4wATubaNr",
    "outputId": "81c1b82a-ab85-4bb0-bf7b-8463df3027ae"
   },
   "outputs": [
    {
     "name": "stdin",
     "output_type": "stream",
     "text": [
      "Enter a number 25\n"
     ]
    },
    {
     "name": "stdout",
     "output_type": "stream",
     "text": [
      "NULL\n"
     ]
    }
   ],
   "source": [
    "x <- readline(prompt = \"Enter a number\")\n",
    "x=as.integer(x)    \n",
    "y <- switch(\n",
    "  x,\"A\",\"B\",\"C\",\"D\",\"E\",\"F\"\n",
    ")  \n",
    "print(y)  "
   ]
  }
 ],
 "metadata": {
  "colab": {
   "collapsed_sections": [],
   "name": "04.Decision making.ipynb",
   "provenance": []
  },
  "kernelspec": {
   "display_name": "R",
   "language": "R",
   "name": "ir"
  },
  "language_info": {
   "codemirror_mode": "r",
   "file_extension": ".r",
   "mimetype": "text/x-r-source",
   "name": "R",
   "pygments_lexer": "r",
   "version": "4.1.2"
  }
 },
 "nbformat": 4,
 "nbformat_minor": 4
}
