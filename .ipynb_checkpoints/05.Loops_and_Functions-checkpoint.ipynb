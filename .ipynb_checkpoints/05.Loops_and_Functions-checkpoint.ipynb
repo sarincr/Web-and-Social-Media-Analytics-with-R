{
  "nbformat": 4,
  "nbformat_minor": 0,
  "metadata": {
    "colab": {
      "name": "05.Loops and Functions.ipynb",
      "provenance": [],
      "collapsed_sections": []
    },
    "kernelspec": {
      "name": "ir",
      "display_name": "R"
    },
    "language_info": {
      "name": "R"
    }
  },
  "cells": [
    {
      "cell_type": "code",
      "source": [
        "i <-  0\n",
        "while (i < 10) {\n",
        "  i <- i + 1\n",
        "  cat(\"\\n i=\",i)\n",
        "} "
      ],
      "metadata": {
        "colab": {
          "base_uri": "https://localhost:8080/"
        },
        "id": "k2uPwhI1i-vd",
        "outputId": "00316c83-fe3d-4f52-d002-1b7bafde6829"
      },
      "execution_count": 1,
      "outputs": [
        {
          "output_type": "stream",
          "name": "stdout",
          "text": [
            "\n",
            " i= 1\n",
            " i= 2\n",
            " i= 3\n",
            " i= 4\n",
            " i= 5\n",
            " i= 6\n",
            " i= 7\n",
            " i= 8\n",
            " i= 9\n",
            " i= 10"
          ]
        }
      ]
    },
    {
      "cell_type": "code",
      "source": [
        "i <-  0\n",
        "s <-  0\n",
        "cat(\"\\n i=\",i)\n",
        "cat(\"\\n Sum = \", s)\n",
        "while (i < 100) {\n",
        "  cat(\"\\n i=\",i)\n",
        "  i <- i + 1\n",
        "  cat(\"\\n New i=\",i)\n",
        "  s=s+i\n",
        "  cat(\"\\n New Sum (Sum+i) = \", s)\n",
        "} \n",
        "cat(\"\\n Final Sum = \",s)"
      ],
      "metadata": {
        "colab": {
          "base_uri": "https://localhost:8080/"
        },
        "id": "j1odepKNjMCL",
        "outputId": "e0235a79-523a-4551-eeaf-45204e6ee2a5"
      },
      "execution_count": 2,
      "outputs": [
        {
          "output_type": "stream",
          "name": "stdout",
          "text": [
            "\n",
            " i= 0\n",
            " Sum =  0\n",
            " i= 0\n",
            " New i= 1\n",
            " New Sum (Sum+i) =  1\n",
            " i= 1\n",
            " New i= 2\n",
            " New Sum (Sum+i) =  3\n",
            " i= 2\n",
            " New i= 3\n",
            " New Sum (Sum+i) =  6\n",
            " i= 3\n",
            " New i= 4\n",
            " New Sum (Sum+i) =  10\n",
            " i= 4\n",
            " New i= 5\n",
            " New Sum (Sum+i) =  15\n",
            " i= 5\n",
            " New i= 6\n",
            " New Sum (Sum+i) =  21\n",
            " i= 6\n",
            " New i= 7\n",
            " New Sum (Sum+i) =  28\n",
            " i= 7\n",
            " New i= 8\n",
            " New Sum (Sum+i) =  36\n",
            " i= 8\n",
            " New i= 9\n",
            " New Sum (Sum+i) =  45\n",
            " i= 9\n",
            " New i= 10\n",
            " New Sum (Sum+i) =  55\n",
            " i= 10\n",
            " New i= 11\n",
            " New Sum (Sum+i) =  66\n",
            " i= 11\n",
            " New i= 12\n",
            " New Sum (Sum+i) =  78\n",
            " i= 12\n",
            " New i= 13\n",
            " New Sum (Sum+i) =  91\n",
            " i= 13\n",
            " New i= 14\n",
            " New Sum (Sum+i) =  105\n",
            " i= 14\n",
            " New i= 15\n",
            " New Sum (Sum+i) =  120\n",
            " i= 15\n",
            " New i= 16\n",
            " New Sum (Sum+i) =  136\n",
            " i= 16\n",
            " New i= 17\n",
            " New Sum (Sum+i) =  153\n",
            " i= 17\n",
            " New i= 18\n",
            " New Sum (Sum+i) =  171\n",
            " i= 18\n",
            " New i= 19\n",
            " New Sum (Sum+i) =  190\n",
            " i= 19\n",
            " New i= 20\n",
            " New Sum (Sum+i) =  210\n",
            " i= 20\n",
            " New i= 21\n",
            " New Sum (Sum+i) =  231\n",
            " i= 21\n",
            " New i= 22\n",
            " New Sum (Sum+i) =  253\n",
            " i= 22\n",
            " New i= 23\n",
            " New Sum (Sum+i) =  276\n",
            " i= 23\n",
            " New i= 24\n",
            " New Sum (Sum+i) =  300\n",
            " i= 24\n",
            " New i= 25\n",
            " New Sum (Sum+i) =  325\n",
            " i= 25\n",
            " New i= 26\n",
            " New Sum (Sum+i) =  351\n",
            " i= 26\n",
            " New i= 27\n",
            " New Sum (Sum+i) =  378\n",
            " i= 27\n",
            " New i= 28\n",
            " New Sum (Sum+i) =  406\n",
            " i= 28\n",
            " New i= 29\n",
            " New Sum (Sum+i) =  435\n",
            " i= 29\n",
            " New i= 30\n",
            " New Sum (Sum+i) =  465\n",
            " i= 30\n",
            " New i= 31\n",
            " New Sum (Sum+i) =  496\n",
            " i= 31\n",
            " New i= 32\n",
            " New Sum (Sum+i) =  528\n",
            " i= 32\n",
            " New i= 33\n",
            " New Sum (Sum+i) =  561\n",
            " i= 33\n",
            " New i= 34\n",
            " New Sum (Sum+i) =  595\n",
            " i= 34\n",
            " New i= 35\n",
            " New Sum (Sum+i) =  630\n",
            " i= 35\n",
            " New i= 36\n",
            " New Sum (Sum+i) =  666\n",
            " i= 36\n",
            " New i= 37\n",
            " New Sum (Sum+i) =  703\n",
            " i= 37\n",
            " New i= 38\n",
            " New Sum (Sum+i) =  741\n",
            " i= 38\n",
            " New i= 39\n",
            " New Sum (Sum+i) =  780\n",
            " i= 39\n",
            " New i= 40\n",
            " New Sum (Sum+i) =  820\n",
            " i= 40\n",
            " New i= 41\n",
            " New Sum (Sum+i) =  861\n",
            " i= 41\n",
            " New i= 42\n",
            " New Sum (Sum+i) =  903\n",
            " i= 42\n",
            " New i= 43\n",
            " New Sum (Sum+i) =  946\n",
            " i= 43\n",
            " New i= 44\n",
            " New Sum (Sum+i) =  990\n",
            " i= 44\n",
            " New i= 45\n",
            " New Sum (Sum+i) =  1035\n",
            " i= 45\n",
            " New i= 46\n",
            " New Sum (Sum+i) =  1081\n",
            " i= 46\n",
            " New i= 47\n",
            " New Sum (Sum+i) =  1128\n",
            " i= 47\n",
            " New i= 48\n",
            " New Sum (Sum+i) =  1176\n",
            " i= 48\n",
            " New i= 49\n",
            " New Sum (Sum+i) =  1225\n",
            " i= 49\n",
            " New i= 50\n",
            " New Sum (Sum+i) =  1275\n",
            " i= 50\n",
            " New i= 51\n",
            " New Sum (Sum+i) =  1326\n",
            " i= 51\n",
            " New i= 52\n",
            " New Sum (Sum+i) =  1378\n",
            " i= 52\n",
            " New i= 53\n",
            " New Sum (Sum+i) =  1431\n",
            " i= 53\n",
            " New i= 54\n",
            " New Sum (Sum+i) =  1485\n",
            " i= 54\n",
            " New i= 55\n",
            " New Sum (Sum+i) =  1540\n",
            " i= 55\n",
            " New i= 56\n",
            " New Sum (Sum+i) =  1596\n",
            " i= 56\n",
            " New i= 57\n",
            " New Sum (Sum+i) =  1653\n",
            " i= 57\n",
            " New i= 58\n",
            " New Sum (Sum+i) =  1711\n",
            " i= 58\n",
            " New i= 59\n",
            " New Sum (Sum+i) =  1770\n",
            " i= 59\n",
            " New i= 60\n",
            " New Sum (Sum+i) =  1830\n",
            " i= 60\n",
            " New i= 61\n",
            " New Sum (Sum+i) =  1891\n",
            " i= 61\n",
            " New i= 62\n",
            " New Sum (Sum+i) =  1953\n",
            " i= 62\n",
            " New i= 63\n",
            " New Sum (Sum+i) =  2016\n",
            " i= 63\n",
            " New i= 64\n",
            " New Sum (Sum+i) =  2080\n",
            " i= 64\n",
            " New i= 65\n",
            " New Sum (Sum+i) =  2145\n",
            " i= 65\n",
            " New i= 66\n",
            " New Sum (Sum+i) =  2211\n",
            " i= 66\n",
            " New i= 67\n",
            " New Sum (Sum+i) =  2278\n",
            " i= 67\n",
            " New i= 68\n",
            " New Sum (Sum+i) =  2346\n",
            " i= 68\n",
            " New i= 69\n",
            " New Sum (Sum+i) =  2415\n",
            " i= 69\n",
            " New i= 70\n",
            " New Sum (Sum+i) =  2485\n",
            " i= 70\n",
            " New i= 71\n",
            " New Sum (Sum+i) =  2556\n",
            " i= 71\n",
            " New i= 72\n",
            " New Sum (Sum+i) =  2628\n",
            " i= 72\n",
            " New i= 73\n",
            " New Sum (Sum+i) =  2701\n",
            " i= 73\n",
            " New i= 74\n",
            " New Sum (Sum+i) =  2775\n",
            " i= 74\n",
            " New i= 75\n",
            " New Sum (Sum+i) =  2850\n",
            " i= 75\n",
            " New i= 76\n",
            " New Sum (Sum+i) =  2926\n",
            " i= 76\n",
            " New i= 77\n",
            " New Sum (Sum+i) =  3003\n",
            " i= 77\n",
            " New i= 78\n",
            " New Sum (Sum+i) =  3081\n",
            " i= 78\n",
            " New i= 79\n",
            " New Sum (Sum+i) =  3160\n",
            " i= 79\n",
            " New i= 80\n",
            " New Sum (Sum+i) =  3240\n",
            " i= 80\n",
            " New i= 81\n",
            " New Sum (Sum+i) =  3321\n",
            " i= 81\n",
            " New i= 82\n",
            " New Sum (Sum+i) =  3403\n",
            " i= 82\n",
            " New i= 83\n",
            " New Sum (Sum+i) =  3486\n",
            " i= 83\n",
            " New i= 84\n",
            " New Sum (Sum+i) =  3570\n",
            " i= 84\n",
            " New i= 85\n",
            " New Sum (Sum+i) =  3655\n",
            " i= 85\n",
            " New i= 86\n",
            " New Sum (Sum+i) =  3741\n",
            " i= 86\n",
            " New i= 87\n",
            " New Sum (Sum+i) =  3828\n",
            " i= 87\n",
            " New i= 88\n",
            " New Sum (Sum+i) =  3916\n",
            " i= 88\n",
            " New i= 89\n",
            " New Sum (Sum+i) =  4005\n",
            " i= 89\n",
            " New i= 90\n",
            " New Sum (Sum+i) =  4095\n",
            " i= 90\n",
            " New i= 91\n",
            " New Sum (Sum+i) =  4186\n",
            " i= 91\n",
            " New i= 92\n",
            " New Sum (Sum+i) =  4278\n",
            " i= 92\n",
            " New i= 93\n",
            " New Sum (Sum+i) =  4371\n",
            " i= 93\n",
            " New i= 94\n",
            " New Sum (Sum+i) =  4465\n",
            " i= 94\n",
            " New i= 95\n",
            " New Sum (Sum+i) =  4560\n",
            " i= 95\n",
            " New i= 96\n",
            " New Sum (Sum+i) =  4656\n",
            " i= 96\n",
            " New i= 97\n",
            " New Sum (Sum+i) =  4753\n",
            " i= 97\n",
            " New i= 98\n",
            " New Sum (Sum+i) =  4851\n",
            " i= 98\n",
            " New i= 99\n",
            " New Sum (Sum+i) =  4950\n",
            " i= 99\n",
            " New i= 100\n",
            " New Sum (Sum+i) =  5050\n",
            " Final Sum =  5050"
          ]
        }
      ]
    },
    {
      "cell_type": "code",
      "source": [
        "i <-  0\n",
        "while (i < 10) {\n",
        "  i <- i + 1\n",
        "  cat(\"\\n i=\",i)\n",
        "  if (i==6){\n",
        "    break;\n",
        "  }\n",
        "} "
      ],
      "metadata": {
        "colab": {
          "base_uri": "https://localhost:8080/"
        },
        "id": "4MsKMjIRji9Y",
        "outputId": "e218f690-f580-4aa3-ff6e-446ebd8b3e24"
      },
      "execution_count": 3,
      "outputs": [
        {
          "output_type": "stream",
          "name": "stdout",
          "text": [
            "\n",
            " i= 1\n",
            " i= 2\n",
            " i= 3\n",
            " i= 4\n",
            " i= 5\n",
            " i= 6"
          ]
        }
      ]
    },
    {
      "cell_type": "code",
      "source": [
        "i <-  0\n",
        "while (i < 10) {\n",
        "  i <- i + 1\n",
        "  if (i==6){\n",
        "    next;\n",
        "  }\n",
        "  cat(\"\\n i=\",i)\n",
        "} "
      ],
      "metadata": {
        "colab": {
          "base_uri": "https://localhost:8080/"
        },
        "id": "riEwf4kolUKK",
        "outputId": "aab2bde4-9b80-42dc-e252-2e704f5be863"
      },
      "execution_count": 4,
      "outputs": [
        {
          "output_type": "stream",
          "name": "stdout",
          "text": [
            "\n",
            " i= 1\n",
            " i= 2\n",
            " i= 3\n",
            " i= 4\n",
            " i= 5\n",
            " i= 7\n",
            " i= 8\n",
            " i= 9\n",
            " i= 10"
          ]
        }
      ]
    },
    {
      "cell_type": "code",
      "source": [
        "i <-  0\n",
        "repeat {\n",
        "  i <- i + 1\n",
        "  if (i==6){\n",
        "    break;\n",
        "  }\n",
        "  cat(\"\\n i=\",i)\n",
        "} "
      ],
      "metadata": {
        "colab": {
          "base_uri": "https://localhost:8080/"
        },
        "id": "n-yov8QGlzc8",
        "outputId": "e2ce1b57-3aa9-4d43-8798-71de33dbd5f0"
      },
      "execution_count": 5,
      "outputs": [
        {
          "output_type": "stream",
          "name": "stdout",
          "text": [
            "\n",
            " i= 1\n",
            " i= 2\n",
            " i= 3\n",
            " i= 4\n",
            " i= 5"
          ]
        }
      ]
    },
    {
      "cell_type": "code",
      "source": [
        "for (i in 1:10) {\n",
        "  print(i)\n",
        "} "
      ],
      "metadata": {
        "colab": {
          "base_uri": "https://localhost:8080/"
        },
        "id": "oUknk6sGm1Ky",
        "outputId": "4fcb794b-1e98-4ef8-a34c-cf5f4ee88a0e"
      },
      "execution_count": 6,
      "outputs": [
        {
          "output_type": "stream",
          "name": "stdout",
          "text": [
            "[1] 1\n",
            "[1] 2\n",
            "[1] 3\n",
            "[1] 4\n",
            "[1] 5\n",
            "[1] 6\n",
            "[1] 7\n",
            "[1] 8\n",
            "[1] 9\n",
            "[1] 10\n"
          ]
        }
      ]
    },
    {
      "cell_type": "code",
      "source": [
        "x = c(1, 2, 3, 4, 5)\n",
        "\n",
        "for (i in x) {\n",
        "  print(i)\n",
        "}"
      ],
      "metadata": {
        "colab": {
          "base_uri": "https://localhost:8080/"
        },
        "id": "qMc3KmKCoA3Z",
        "outputId": "85f25ff9-fa89-45f5-fa6e-ba82521bdfe0"
      },
      "execution_count": 7,
      "outputs": [
        {
          "output_type": "stream",
          "name": "stdout",
          "text": [
            "[1] 1\n",
            "[1] 2\n",
            "[1] 3\n",
            "[1] 4\n",
            "[1] 5\n"
          ]
        }
      ]
    },
    {
      "cell_type": "code",
      "source": [
        "x = c(3,4,5,6,33,53,56,52,64)\n",
        "count = 0\n",
        "for (i in x) {\n",
        "  if (i %% 2 == 0) {\n",
        "    count = count + 1\n",
        "  }\n",
        "}\n",
        "print(count)"
      ],
      "metadata": {
        "colab": {
          "base_uri": "https://localhost:8080/"
        },
        "id": "jzGjUYBSoMxY",
        "outputId": "04b0de87-5631-4e11-8d66-66b9c54aa6da"
      },
      "execution_count": 8,
      "outputs": [
        {
          "output_type": "stream",
          "name": "stdout",
          "text": [
            "[1] 5\n"
          ]
        }
      ]
    },
    {
      "cell_type": "code",
      "source": [
        "power <- function(a, b) {\n",
        "    print(paste(\"a raised to the power b is: \", a^b))\n",
        "}"
      ],
      "metadata": {
        "id": "G5SNn87YovCo"
      },
      "execution_count": 9,
      "outputs": []
    },
    {
      "cell_type": "code",
      "source": [
        "power(3,6)"
      ],
      "metadata": {
        "colab": {
          "base_uri": "https://localhost:8080/"
        },
        "id": "HFVAfoAXrH1H",
        "outputId": "f2a6c19a-baa0-4b4b-ca46-7f42d8bfedf6"
      },
      "execution_count": 10,
      "outputs": [
        {
          "output_type": "stream",
          "name": "stdout",
          "text": [
            "[1] \"a raised to the power b is:  729\"\n"
          ]
        }
      ]
    },
    {
      "cell_type": "code",
      "source": [
        "power <- function(a, b) {\n",
        "    z=a+b\n",
        "    return(z)\n",
        "}"
      ],
      "metadata": {
        "id": "Zl6FSdnVrLAo"
      },
      "execution_count": 11,
      "outputs": []
    },
    {
      "cell_type": "code",
      "source": [
        "print(power(3,6))"
      ],
      "metadata": {
        "colab": {
          "base_uri": "https://localhost:8080/"
        },
        "id": "VFCmS4yerWKk",
        "outputId": "5dc4384b-f2d8-4341-f0a5-25beb68f5138"
      },
      "execution_count": 12,
      "outputs": [
        {
          "output_type": "stream",
          "name": "stdout",
          "text": [
            "[1] 9\n"
          ]
        }
      ]
    },
    {
      "cell_type": "code",
      "source": [
        "power <- function(k) {\n",
        "    i <-  0\n",
        "s <-  0\n",
        "cat(\"\\n i=\",i)\n",
        "cat(\"\\n Sum = \", s)\n",
        "while (i < k) {\n",
        "  cat(\"\\n i=\",i)\n",
        "  i <- i + 1\n",
        "  cat(\"\\n New i=\",i)\n",
        "  s=s+i\n",
        "  cat(\"\\n New Sum (Sum+i) = \", s)\n",
        "} \n",
        "\n",
        "return(s)\n",
        "}"
      ],
      "metadata": {
        "id": "23AWX-fIra-j"
      },
      "execution_count": 13,
      "outputs": []
    },
    {
      "cell_type": "code",
      "source": [
        "cat(\"\\n Final Sum = \",power(9)) "
      ],
      "metadata": {
        "colab": {
          "base_uri": "https://localhost:8080/"
        },
        "id": "4lA_s4mHrz8Y",
        "outputId": "29326342-fca3-40fb-b3a3-9cf94030704e"
      },
      "execution_count": 14,
      "outputs": [
        {
          "output_type": "stream",
          "name": "stdout",
          "text": [
            "\n",
            " i= 0\n",
            " Sum =  0\n",
            " i= 0\n",
            " New i= 1\n",
            " New Sum (Sum+i) =  1\n",
            " i= 1\n",
            " New i= 2\n",
            " New Sum (Sum+i) =  3\n",
            " i= 2\n",
            " New i= 3\n",
            " New Sum (Sum+i) =  6\n",
            " i= 3\n",
            " New i= 4\n",
            " New Sum (Sum+i) =  10\n",
            " i= 4\n",
            " New i= 5\n",
            " New Sum (Sum+i) =  15\n",
            " i= 5\n",
            " New i= 6\n",
            " New Sum (Sum+i) =  21\n",
            " i= 6\n",
            " New i= 7\n",
            " New Sum (Sum+i) =  28\n",
            " i= 7\n",
            " New i= 8\n",
            " New Sum (Sum+i) =  36\n",
            " i= 8\n",
            " New i= 9\n",
            " New Sum (Sum+i) =  45\n",
            " Final Sum =  45"
          ]
        }
      ]
    },
    {
      "cell_type": "code",
      "source": [
        "power <- function(k) {\n",
        "    i <-  0\n",
        "s <-  0\n",
        "cat(\"\\n i=\",i)\n",
        "cat(\"\\n Sum = \", s)\n",
        "while (i < 100) {\n",
        "  cat(\"\\n i=\",i)\n",
        "  i <- i + 1\n",
        "  cat(\"\\n New i=\",i)\n",
        "  s=s+i\n",
        "  cat(\"\\n New Sum (Sum+i) = \", s)\n",
        "} \n",
        "\n",
        "return(s)\n",
        "}"
      ],
      "metadata": {
        "id": "CqncL4dnr3fD"
      },
      "execution_count": 15,
      "outputs": []
    },
    {
      "cell_type": "code",
      "source": [
        "power()"
      ],
      "metadata": {
        "colab": {
          "base_uri": "https://localhost:8080/",
          "height": 1000
        },
        "id": "pQhqTfjttiiK",
        "outputId": "d2d795f3-3be5-4f70-9f55-5e7d00c1dac0"
      },
      "execution_count": 16,
      "outputs": [
        {
          "output_type": "stream",
          "name": "stdout",
          "text": [
            "\n",
            " i= 0\n",
            " Sum =  0\n",
            " i= 0\n",
            " New i= 1\n",
            " New Sum (Sum+i) =  1\n",
            " i= 1\n",
            " New i= 2\n",
            " New Sum (Sum+i) =  3\n",
            " i= 2\n",
            " New i= 3\n",
            " New Sum (Sum+i) =  6\n",
            " i= 3\n",
            " New i= 4\n",
            " New Sum (Sum+i) =  10\n",
            " i= 4\n",
            " New i= 5\n",
            " New Sum (Sum+i) =  15\n",
            " i= 5\n",
            " New i= 6\n",
            " New Sum (Sum+i) =  21\n",
            " i= 6\n",
            " New i= 7\n",
            " New Sum (Sum+i) =  28\n",
            " i= 7\n",
            " New i= 8\n",
            " New Sum (Sum+i) =  36\n",
            " i= 8\n",
            " New i= 9\n",
            " New Sum (Sum+i) =  45\n",
            " i= 9\n",
            " New i= 10\n",
            " New Sum (Sum+i) =  55\n",
            " i= 10\n",
            " New i= 11\n",
            " New Sum (Sum+i) =  66\n",
            " i= 11\n",
            " New i= 12\n",
            " New Sum (Sum+i) =  78\n",
            " i= 12\n",
            " New i= 13\n",
            " New Sum (Sum+i) =  91\n",
            " i= 13\n",
            " New i= 14\n",
            " New Sum (Sum+i) =  105\n",
            " i= 14\n",
            " New i= 15\n",
            " New Sum (Sum+i) =  120\n",
            " i= 15\n",
            " New i= 16\n",
            " New Sum (Sum+i) =  136\n",
            " i= 16\n",
            " New i= 17\n",
            " New Sum (Sum+i) =  153\n",
            " i= 17\n",
            " New i= 18\n",
            " New Sum (Sum+i) =  171\n",
            " i= 18\n",
            " New i= 19\n",
            " New Sum (Sum+i) =  190\n",
            " i= 19\n",
            " New i= 20\n",
            " New Sum (Sum+i) =  210\n",
            " i= 20\n",
            " New i= 21\n",
            " New Sum (Sum+i) =  231\n",
            " i= 21\n",
            " New i= 22\n",
            " New Sum (Sum+i) =  253\n",
            " i= 22\n",
            " New i= 23\n",
            " New Sum (Sum+i) =  276\n",
            " i= 23\n",
            " New i= 24\n",
            " New Sum (Sum+i) =  300\n",
            " i= 24\n",
            " New i= 25\n",
            " New Sum (Sum+i) =  325\n",
            " i= 25\n",
            " New i= 26\n",
            " New Sum (Sum+i) =  351\n",
            " i= 26\n",
            " New i= 27\n",
            " New Sum (Sum+i) =  378\n",
            " i= 27\n",
            " New i= 28\n",
            " New Sum (Sum+i) =  406\n",
            " i= 28\n",
            " New i= 29\n",
            " New Sum (Sum+i) =  435\n",
            " i= 29\n",
            " New i= 30\n",
            " New Sum (Sum+i) =  465\n",
            " i= 30\n",
            " New i= 31\n",
            " New Sum (Sum+i) =  496\n",
            " i= 31\n",
            " New i= 32\n",
            " New Sum (Sum+i) =  528\n",
            " i= 32\n",
            " New i= 33\n",
            " New Sum (Sum+i) =  561\n",
            " i= 33\n",
            " New i= 34\n",
            " New Sum (Sum+i) =  595\n",
            " i= 34\n",
            " New i= 35\n",
            " New Sum (Sum+i) =  630\n",
            " i= 35\n",
            " New i= 36\n",
            " New Sum (Sum+i) =  666\n",
            " i= 36\n",
            " New i= 37\n",
            " New Sum (Sum+i) =  703\n",
            " i= 37\n",
            " New i= 38\n",
            " New Sum (Sum+i) =  741\n",
            " i= 38\n",
            " New i= 39\n",
            " New Sum (Sum+i) =  780\n",
            " i= 39\n",
            " New i= 40\n",
            " New Sum (Sum+i) =  820\n",
            " i= 40\n",
            " New i= 41\n",
            " New Sum (Sum+i) =  861\n",
            " i= 41\n",
            " New i= 42\n",
            " New Sum (Sum+i) =  903\n",
            " i= 42\n",
            " New i= 43\n",
            " New Sum (Sum+i) =  946\n",
            " i= 43\n",
            " New i= 44\n",
            " New Sum (Sum+i) =  990\n",
            " i= 44\n",
            " New i= 45\n",
            " New Sum (Sum+i) =  1035\n",
            " i= 45\n",
            " New i= 46\n",
            " New Sum (Sum+i) =  1081\n",
            " i= 46\n",
            " New i= 47\n",
            " New Sum (Sum+i) =  1128\n",
            " i= 47\n",
            " New i= 48\n",
            " New Sum (Sum+i) =  1176\n",
            " i= 48\n",
            " New i= 49\n",
            " New Sum (Sum+i) =  1225\n",
            " i= 49\n",
            " New i= 50\n",
            " New Sum (Sum+i) =  1275\n",
            " i= 50\n",
            " New i= 51\n",
            " New Sum (Sum+i) =  1326\n",
            " i= 51\n",
            " New i= 52\n",
            " New Sum (Sum+i) =  1378\n",
            " i= 52\n",
            " New i= 53\n",
            " New Sum (Sum+i) =  1431\n",
            " i= 53\n",
            " New i= 54\n",
            " New Sum (Sum+i) =  1485\n",
            " i= 54\n",
            " New i= 55\n",
            " New Sum (Sum+i) =  1540\n",
            " i= 55\n",
            " New i= 56\n",
            " New Sum (Sum+i) =  1596\n",
            " i= 56\n",
            " New i= 57\n",
            " New Sum (Sum+i) =  1653\n",
            " i= 57\n",
            " New i= 58\n",
            " New Sum (Sum+i) =  1711\n",
            " i= 58\n",
            " New i= 59\n",
            " New Sum (Sum+i) =  1770\n",
            " i= 59\n",
            " New i= 60\n",
            " New Sum (Sum+i) =  1830\n",
            " i= 60\n",
            " New i= 61\n",
            " New Sum (Sum+i) =  1891\n",
            " i= 61\n",
            " New i= 62\n",
            " New Sum (Sum+i) =  1953\n",
            " i= 62\n",
            " New i= 63\n",
            " New Sum (Sum+i) =  2016\n",
            " i= 63\n",
            " New i= 64\n",
            " New Sum (Sum+i) =  2080\n",
            " i= 64\n",
            " New i= 65\n",
            " New Sum (Sum+i) =  2145\n",
            " i= 65\n",
            " New i= 66\n",
            " New Sum (Sum+i) =  2211\n",
            " i= 66\n",
            " New i= 67\n",
            " New Sum (Sum+i) =  2278\n",
            " i= 67\n",
            " New i= 68\n",
            " New Sum (Sum+i) =  2346\n",
            " i= 68\n",
            " New i= 69\n",
            " New Sum (Sum+i) =  2415\n",
            " i= 69\n",
            " New i= 70\n",
            " New Sum (Sum+i) =  2485\n",
            " i= 70\n",
            " New i= 71\n",
            " New Sum (Sum+i) =  2556\n",
            " i= 71\n",
            " New i= 72\n",
            " New Sum (Sum+i) =  2628\n",
            " i= 72\n",
            " New i= 73\n",
            " New Sum (Sum+i) =  2701\n",
            " i= 73\n",
            " New i= 74\n",
            " New Sum (Sum+i) =  2775\n",
            " i= 74\n",
            " New i= 75\n",
            " New Sum (Sum+i) =  2850\n",
            " i= 75\n",
            " New i= 76\n",
            " New Sum (Sum+i) =  2926\n",
            " i= 76\n",
            " New i= 77\n",
            " New Sum (Sum+i) =  3003\n",
            " i= 77\n",
            " New i= 78\n",
            " New Sum (Sum+i) =  3081\n",
            " i= 78\n",
            " New i= 79\n",
            " New Sum (Sum+i) =  3160\n",
            " i= 79\n",
            " New i= 80\n",
            " New Sum (Sum+i) =  3240\n",
            " i= 80\n",
            " New i= 81\n",
            " New Sum (Sum+i) =  3321\n",
            " i= 81\n",
            " New i= 82\n",
            " New Sum (Sum+i) =  3403\n",
            " i= 82\n",
            " New i= 83\n",
            " New Sum (Sum+i) =  3486\n",
            " i= 83\n",
            " New i= 84\n",
            " New Sum (Sum+i) =  3570\n",
            " i= 84\n",
            " New i= 85\n",
            " New Sum (Sum+i) =  3655\n",
            " i= 85\n",
            " New i= 86\n",
            " New Sum (Sum+i) =  3741\n",
            " i= 86\n",
            " New i= 87\n",
            " New Sum (Sum+i) =  3828\n",
            " i= 87\n",
            " New i= 88\n",
            " New Sum (Sum+i) =  3916\n",
            " i= 88\n",
            " New i= 89\n",
            " New Sum (Sum+i) =  4005\n",
            " i= 89\n",
            " New i= 90\n",
            " New Sum (Sum+i) =  4095\n",
            " i= 90\n",
            " New i= 91\n",
            " New Sum (Sum+i) =  4186\n",
            " i= 91\n",
            " New i= 92\n",
            " New Sum (Sum+i) =  4278\n",
            " i= 92\n",
            " New i= 93\n",
            " New Sum (Sum+i) =  4371\n",
            " i= 93\n",
            " New i= 94\n",
            " New Sum (Sum+i) =  4465\n",
            " i= 94\n",
            " New i= 95\n",
            " New Sum (Sum+i) =  4560\n",
            " i= 95\n",
            " New i= 96\n",
            " New Sum (Sum+i) =  4656\n",
            " i= 96\n",
            " New i= 97\n",
            " New Sum (Sum+i) =  4753\n",
            " i= 97\n",
            " New i= 98\n",
            " New Sum (Sum+i) =  4851\n",
            " i= 98\n",
            " New i= 99\n",
            " New Sum (Sum+i) =  4950\n",
            " i= 99\n",
            " New i= 100\n",
            " New Sum (Sum+i) =  5050"
          ]
        },
        {
          "output_type": "display_data",
          "data": {
            "text/html": [
              "5050"
            ],
            "text/markdown": "5050",
            "text/latex": "5050",
            "text/plain": [
              "[1] 5050"
            ]
          },
          "metadata": {}
        }
      ]
    },
    {
      "cell_type": "code",
      "source": [
        "sum(1:10)"
      ],
      "metadata": {
        "colab": {
          "base_uri": "https://localhost:8080/",
          "height": 34
        },
        "id": "AYQKq18PtjQ1",
        "outputId": "f8220ba9-20d6-410b-ca61-05fdde5ee32b"
      },
      "execution_count": 17,
      "outputs": [
        {
          "output_type": "display_data",
          "data": {
            "text/html": [
              "55"
            ],
            "text/markdown": "55",
            "text/latex": "55",
            "text/plain": [
              "[1] 55"
            ]
          },
          "metadata": {}
        }
      ]
    },
    {
      "cell_type": "code",
      "source": [
        "max(1:10)"
      ],
      "metadata": {
        "colab": {
          "base_uri": "https://localhost:8080/",
          "height": 34
        },
        "id": "BMWhzdnztrpZ",
        "outputId": "2734a2fb-7b37-485b-b695-579a090bb5eb"
      },
      "execution_count": 18,
      "outputs": [
        {
          "output_type": "display_data",
          "data": {
            "text/html": [
              "10"
            ],
            "text/markdown": "10",
            "text/latex": "10",
            "text/plain": [
              "[1] 10"
            ]
          },
          "metadata": {}
        }
      ]
    },
    {
      "cell_type": "code",
      "source": [
        "min(1:10)"
      ],
      "metadata": {
        "colab": {
          "base_uri": "https://localhost:8080/",
          "height": 34
        },
        "id": "OZfRmaLfttUV",
        "outputId": "391beac8-e4fc-409c-aa40-472263065054"
      },
      "execution_count": 19,
      "outputs": [
        {
          "output_type": "display_data",
          "data": {
            "text/html": [
              "1"
            ],
            "text/markdown": "1",
            "text/latex": "1",
            "text/plain": [
              "[1] 1"
            ]
          },
          "metadata": {}
        }
      ]
    },
    {
      "cell_type": "code",
      "source": [
        "x<-c(1,2,5,4,7,4,8,4)"
      ],
      "metadata": {
        "id": "ukwg4vhntuY-"
      },
      "execution_count": 20,
      "outputs": []
    },
    {
      "cell_type": "code",
      "source": [
        "sum(x)"
      ],
      "metadata": {
        "colab": {
          "base_uri": "https://localhost:8080/",
          "height": 34
        },
        "id": "y8UEc3ddtzfj",
        "outputId": "d906073c-64c4-455d-dce5-ef509520c5de"
      },
      "execution_count": 21,
      "outputs": [
        {
          "output_type": "display_data",
          "data": {
            "text/html": [
              "35"
            ],
            "text/markdown": "35",
            "text/latex": "35",
            "text/plain": [
              "[1] 35"
            ]
          },
          "metadata": {}
        }
      ]
    },
    {
      "cell_type": "code",
      "source": [
        "max(x)"
      ],
      "metadata": {
        "colab": {
          "base_uri": "https://localhost:8080/",
          "height": 34
        },
        "id": "bJECIMkjt0Gi",
        "outputId": "11e3d5cb-4b45-44e8-9b2b-bbacf9ad00ce"
      },
      "execution_count": 22,
      "outputs": [
        {
          "output_type": "display_data",
          "data": {
            "text/html": [
              "8"
            ],
            "text/markdown": "8",
            "text/latex": "8",
            "text/plain": [
              "[1] 8"
            ]
          },
          "metadata": {}
        }
      ]
    },
    {
      "cell_type": "code",
      "source": [
        "min(x)"
      ],
      "metadata": {
        "colab": {
          "base_uri": "https://localhost:8080/",
          "height": 34
        },
        "id": "FaYsj7nft1jK",
        "outputId": "dc878556-a3eb-43ef-cf74-79aa65264258"
      },
      "execution_count": 23,
      "outputs": [
        {
          "output_type": "display_data",
          "data": {
            "text/html": [
              "1"
            ],
            "text/markdown": "1",
            "text/latex": "1",
            "text/plain": [
              "[1] 1"
            ]
          },
          "metadata": {}
        }
      ]
    },
    {
      "cell_type": "code",
      "source": [
        "power <- function(a = 2, b) {\n",
        "    print(paste(\"a raised to the power b is: \", a+b))\n",
        "}"
      ],
      "metadata": {
        "id": "2McfJyllt2Kr"
      },
      "execution_count": 24,
      "outputs": []
    },
    {
      "cell_type": "code",
      "source": [
        "power(5,6)"
      ],
      "metadata": {
        "colab": {
          "base_uri": "https://localhost:8080/"
        },
        "id": "pfNkJVEMuRNe",
        "outputId": "2b39eea3-83a8-4cfe-9374-51ca3f4b7d63"
      },
      "execution_count": 25,
      "outputs": [
        {
          "output_type": "stream",
          "name": "stdout",
          "text": [
            "[1] \"a raised to the power b is:  11\"\n"
          ]
        }
      ]
    },
    {
      "cell_type": "code",
      "source": [
        "power(b=3)"
      ],
      "metadata": {
        "colab": {
          "base_uri": "https://localhost:8080/"
        },
        "id": "A2Fyrw3mujfd",
        "outputId": "57fabd01-1e02-43d0-d476-81c54bdd284d"
      },
      "execution_count": 26,
      "outputs": [
        {
          "output_type": "stream",
          "name": "stdout",
          "text": [
            "[1] \"a raised to the power b is:  5\"\n"
          ]
        }
      ]
    },
    {
      "cell_type": "code",
      "source": [
        "add <- function(a, b) {\n",
        "    return (a + b)\n",
        "}"
      ],
      "metadata": {
        "id": "UbzvoMGQvVlT"
      },
      "execution_count": 27,
      "outputs": []
    },
    {
      "cell_type": "code",
      "source": [
        "print(add(add(1, 2), add(3, 4)))"
      ],
      "metadata": {
        "colab": {
          "base_uri": "https://localhost:8080/"
        },
        "id": "y_330BduwnVx",
        "outputId": "c9c574d7-0191-48d5-d5ef-038eb39af662"
      },
      "execution_count": 28,
      "outputs": [
        {
          "output_type": "stream",
          "name": "stdout",
          "text": [
            "[1] 10\n"
          ]
        }
      ]
    },
    {
      "cell_type": "code",
      "source": [
        "add <- function(x,y) {\n",
        "    return (x + y)\n",
        "}"
      ],
      "metadata": {
        "id": "Ze3ZZZHuwp2U"
      },
      "execution_count": 29,
      "outputs": []
    },
    {
      "cell_type": "code",
      "source": [
        "a=10\n",
        "b=20\n",
        "print(add(a,b))"
      ],
      "metadata": {
        "colab": {
          "base_uri": "https://localhost:8080/"
        },
        "id": "0svHofz-wQ3G",
        "outputId": "483d0f8c-390f-4249-bef8-e0d6b191ac26"
      },
      "execution_count": 30,
      "outputs": [
        {
          "output_type": "stream",
          "name": "stdout",
          "text": [
            "[1] 30\n"
          ]
        }
      ]
    },
    {
      "cell_type": "code",
      "source": [
        "add <- function(x, y) {\n",
        "    return (x+ y)\n",
        "}"
      ],
      "metadata": {
        "id": "LrOJvEkewRTV"
      },
      "execution_count": 31,
      "outputs": []
    },
    {
      "cell_type": "code",
      "source": [
        "newfun <- function(a, b) {\n",
        "    z=add(a ,b)\n",
        "    return(z)\n",
        "}"
      ],
      "metadata": {
        "id": "rRDQo9d-y5k0"
      },
      "execution_count": 32,
      "outputs": []
    },
    {
      "cell_type": "code",
      "source": [
        "newfun(2,3)"
      ],
      "metadata": {
        "colab": {
          "base_uri": "https://localhost:8080/",
          "height": 34
        },
        "id": "fNrLJ65wyUwi",
        "outputId": "32cb30f0-c420-44a7-b491-7c7b0e224e78"
      },
      "execution_count": 33,
      "outputs": [
        {
          "output_type": "display_data",
          "data": {
            "text/html": [
              "5"
            ],
            "text/markdown": "5",
            "text/latex": "5",
            "text/plain": [
              "[1] 5"
            ]
          },
          "metadata": {}
        }
      ]
    },
    {
      "cell_type": "code",
      "source": [
        ""
      ],
      "metadata": {
        "id": "D-6c62p5y8Vc"
      },
      "execution_count": 34,
      "outputs": []
    }
  ]
}