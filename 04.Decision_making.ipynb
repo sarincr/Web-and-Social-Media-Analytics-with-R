{
  "nbformat": 4,
  "nbformat_minor": 0,
  "metadata": {
    "colab": {
      "name": "04.Decision making.ipynb",
      "provenance": [],
      "collapsed_sections": []
    },
    "kernelspec": {
      "name": "ir",
      "display_name": "R"
    },
    "language_info": {
      "name": "R"
    }
  },
  "cells": [
    {
      "cell_type": "code",
      "source": [
        "x<-10"
      ],
      "metadata": {
        "id": "THn0FWkDmVsz"
      },
      "execution_count": 1,
      "outputs": []
    },
    {
      "cell_type": "code",
      "source": [
        "if (x>18){\n",
        "  cat(\"You are Minor\")\n",
        "}else\n",
        "{\n",
        "  cat(\"You are Major\")\n",
        "}"
      ],
      "metadata": {
        "colab": {
          "base_uri": "https://localhost:8080/"
        },
        "id": "T4KZqsN1DM5z",
        "outputId": "b3ee122f-f71e-4894-a33a-212b41fa81d1"
      },
      "execution_count": 2,
      "outputs": [
        {
          "output_type": "stream",
          "name": "stdout",
          "text": [
            "You are Major"
          ]
        }
      ]
    },
    {
      "cell_type": "code",
      "source": [
        "x=readline()"
      ],
      "metadata": {
        "colab": {
          "base_uri": "https://localhost:8080/"
        },
        "id": "Vz9uQBZsI0BB",
        "outputId": "d3a00cdf-067d-4e2e-fa33-f5a51084d67b"
      },
      "execution_count": 3,
      "outputs": [
        {
          "name": "stdout",
          "output_type": "stream",
          "text": [
            "10\n"
          ]
        }
      ]
    },
    {
      "cell_type": "code",
      "source": [
        "x"
      ],
      "metadata": {
        "colab": {
          "base_uri": "https://localhost:8080/",
          "height": 34
        },
        "id": "b00wjDjLVDCw",
        "outputId": "3854fea9-7e13-4db3-f9c0-aa490a8d5520"
      },
      "execution_count": 4,
      "outputs": [
        {
          "output_type": "display_data",
          "data": {
            "text/html": [
              "'10'"
            ],
            "text/markdown": "'10'",
            "text/latex": "'10'",
            "text/plain": [
              "[1] \"10\""
            ]
          },
          "metadata": {}
        }
      ]
    },
    {
      "cell_type": "code",
      "source": [
        "class(x)"
      ],
      "metadata": {
        "colab": {
          "base_uri": "https://localhost:8080/",
          "height": 34
        },
        "id": "t7IDb4iOVD6V",
        "outputId": "a26fe94c-a787-4294-c26a-6ff828a00a1e"
      },
      "execution_count": 5,
      "outputs": [
        {
          "output_type": "display_data",
          "data": {
            "text/html": [
              "'character'"
            ],
            "text/markdown": "'character'",
            "text/latex": "'character'",
            "text/plain": [
              "[1] \"character\""
            ]
          },
          "metadata": {}
        }
      ]
    },
    {
      "cell_type": "code",
      "source": [
        "age=as.integer(x)"
      ],
      "metadata": {
        "id": "hiz3tW8qVFrz"
      },
      "execution_count": 6,
      "outputs": []
    },
    {
      "cell_type": "code",
      "source": [
        "if (age>18)\n",
        "{\n",
        "  cat(\"You are Minor\")\n",
        "}else\n",
        "{\n",
        "  cat(\"You are Major\")\n",
        "}"
      ],
      "metadata": {
        "colab": {
          "base_uri": "https://localhost:8080/"
        },
        "id": "2Y4Kf8COVMlz",
        "outputId": "29e8a631-a542-46b2-858e-9f48a29bb1ef"
      },
      "execution_count": 7,
      "outputs": [
        {
          "output_type": "stream",
          "name": "stdout",
          "text": [
            "You are Major"
          ]
        }
      ]
    },
    {
      "cell_type": "code",
      "source": [
        "x=readline()\n",
        "age=as.integer(x)\n",
        "if (age>18)\n",
        "{\n",
        "  cat(\"You are Minor\")\n",
        "}else\n",
        "{\n",
        "  cat(\"You are Major\")\n",
        "}"
      ],
      "metadata": {
        "colab": {
          "base_uri": "https://localhost:8080/"
        },
        "id": "YG7LXkcEVRVt",
        "outputId": "666643d6-0f75-4de7-d614-6bce518a40ec"
      },
      "execution_count": 8,
      "outputs": [
        {
          "output_type": "stream",
          "name": "stdout",
          "text": [
            "25\n",
            "You are Minor"
          ]
        }
      ]
    },
    {
      "cell_type": "code",
      "source": [
        "x=readline(prompt = \"Enter you Age\")\n",
        "age=as.integer(x)\n",
        "if (age>18)\n",
        "{\n",
        "  cat(\"You are Minor\")\n",
        "}else\n",
        "{\n",
        "  cat(\"You are Major\")\n",
        "}"
      ],
      "metadata": {
        "colab": {
          "base_uri": "https://localhost:8080/"
        },
        "id": "1xB4xNTjVWge",
        "outputId": "9c3409bf-e3ed-480e-df4a-ef01b6864fa1"
      },
      "execution_count": 9,
      "outputs": [
        {
          "output_type": "stream",
          "name": "stdout",
          "text": [
            "Enter you Age25\n",
            "You are Minor"
          ]
        }
      ]
    },
    {
      "cell_type": "code",
      "source": [
        "x=readline(prompt = \"Enter you Marks\")\n",
        "mark=as.integer(x)\n",
        "if (mark>60)\n",
        "{\n",
        "  cat(\"You are Passed\")\n",
        "}else\n",
        "{\n",
        "  cat(\"You are Failed\")\n",
        "}"
      ],
      "metadata": {
        "colab": {
          "base_uri": "https://localhost:8080/"
        },
        "id": "CvkVdxVVVdce",
        "outputId": "cc80a6a3-80cc-4706-e9ad-3bc8c8c3382a"
      },
      "execution_count": 10,
      "outputs": [
        {
          "output_type": "stream",
          "name": "stdout",
          "text": [
            "Enter you Marks66\n",
            "You are Passed"
          ]
        }
      ]
    },
    {
      "cell_type": "code",
      "source": [
        "x=readline(prompt = \"Enter you  Salary\")\n",
        "Salary=as.integer(x)\n",
        "if (Salary>250000)\n",
        "{\n",
        "  cat(\"You have to Pay Tax\")\n",
        "}else\n",
        "{\n",
        "  cat(\"You dont have to pay Tax\")\n",
        "}"
      ],
      "metadata": {
        "colab": {
          "base_uri": "https://localhost:8080/"
        },
        "id": "96ES54ZCVlMX",
        "outputId": "3f94f466-bfdf-44c3-d09c-c4083b43fd6b"
      },
      "execution_count": 11,
      "outputs": [
        {
          "output_type": "stream",
          "name": "stdout",
          "text": [
            "Enter you  Salary650000\n",
            "You have to Pay Tax"
          ]
        }
      ]
    },
    {
      "cell_type": "code",
      "source": [
        "Opt<-readline(prompt=\"Enter your Option from 1-4: 1 : + , 2 : -, 3:* , 4 / \")  \n",
        "x<-readline(prompt=\"X = \")\n",
        "y<-readline(prompt=\"Y = \")\n",
        "x<- as.integer(x)  \n",
        "y<- as.integer(y)  \n",
        "Opt<- as.integer(Opt)  \n",
        "  if(Opt==1)\n",
        "  {\n",
        "  sum <-(x+y) \n",
        "  cat(\"sum=\",sum) \n",
        "  }else if(Opt==2)\n",
        "  {  \n",
        "    sub<-(x-y)\n",
        "    cat(\"sub=\",sub)  \n",
        "  }else if(Opt==3)\n",
        "  { \n",
        "    div<-x/y  \n",
        "    cat(\"Division=\",div)  \n",
        "  }else if(Opt==4)\n",
        "  { \n",
        "    mul<-x*y \n",
        "    cat(\"mul=\",mul)  \n",
        "  }else{ \n",
        "    cat(\"wrong Opt\")  \n",
        "  }  "
      ],
      "metadata": {
        "colab": {
          "base_uri": "https://localhost:8080/"
        },
        "id": "d6ukx92fWB7u",
        "outputId": "cb53aa32-69e8-467e-b3b0-c3f9c0b11264"
      },
      "execution_count": 12,
      "outputs": [
        {
          "output_type": "stream",
          "name": "stdout",
          "text": [
            "Enter your Option from 1-4: 1 : + , 2 : -, 3:* , 4 / 1\n",
            "X = 5\n",
            "Y = 6\n",
            "sum= 11"
          ]
        }
      ]
    },
    {
      "cell_type": "code",
      "source": [
        "x <- c(\"R\", \"is\", \"a\", \"programming\" , \"language\", \"for\",  \"statistical computing\")  \n",
        "if(\"Programming\" %in% x) {  \n",
        "   cat(\"Yes, Programming in capital\")  \n",
        "} else if (\"programming\" %in% x) {  \n",
        "   cat(\"Yes, programming in small\")   \n",
        "} else {  \n",
        "   cat(\"No results found\")  \n",
        "}"
      ],
      "metadata": {
        "colab": {
          "base_uri": "https://localhost:8080/"
        },
        "id": "_zuzdtMHXK64",
        "outputId": "5faf56c2-365e-4c8a-bf2d-18b40681143d"
      },
      "execution_count": 13,
      "outputs": [
        {
          "output_type": "stream",
          "name": "stdout",
          "text": [
            "Yes, programming in small"
          ]
        }
      ]
    },
    {
      "cell_type": "code",
      "source": [
        "\n",
        "x=readline(prompt = \"Enter you Marks\")\n",
        "mark=as.integer(x)\n",
        "if (mark>60 & mark<70)\n",
        "{\n",
        "  cat(\"You are Passed with second class\")\n",
        "}else if (mark>70 && mark<80){\n",
        "  cat(\"You are Passed with first class\")\n",
        "}else if (mark>80){\n",
        "  cat(\"You are Passed with first class and distingtion\")\n",
        "}else {\n",
        "  cat(\"You are failed\")\n",
        "}"
      ],
      "metadata": {
        "colab": {
          "base_uri": "https://localhost:8080/"
        },
        "id": "bDeyAh41XbxQ",
        "outputId": "27852dd5-1f77-45a0-a821-5527628987c6"
      },
      "execution_count": 14,
      "outputs": [
        {
          "output_type": "stream",
          "name": "stdout",
          "text": [
            "Enter you Marks88\n",
            "You are Passed with first class and distingtion"
          ]
        }
      ]
    },
    {
      "cell_type": "code",
      "source": [
        "x=readline(prompt = \"Enter you Marks for exam 1\")\n",
        "mark1=as.integer(x)\n",
        "x=readline(prompt = \"Enter you Marks for exam 2\")\n",
        "mark2=as.integer(x)\n",
        "if (mark1>60 || mark2<70)\n",
        "{\n",
        "  cat(\"You are Passed\")\n",
        "}else {\n",
        "  cat(\"You are failed\")\n",
        "}"
      ],
      "metadata": {
        "colab": {
          "base_uri": "https://localhost:8080/"
        },
        "id": "TMI3B8flZd5B",
        "outputId": "4b6ec983-b374-4ba8-b4d1-2bce21425712"
      },
      "execution_count": 15,
      "outputs": [
        {
          "output_type": "stream",
          "name": "stdout",
          "text": [
            "Enter you Marks for exam 188\n",
            "Enter you Marks for exam 225\n",
            "You are Passed"
          ]
        }
      ]
    },
    {
      "cell_type": "code",
      "source": [
        "c <- readline(prompt = \"Enter  Catogory\")\n",
        "x <- readline(prompt = \"Enter you Marks for exam 2\")\n",
        "y=as.integer(x)\n",
        "if (c =='A'){\n",
        "  cat('A vat rate of 8% is applied.','The total price is',y*1.08)  \n",
        "} else if (c =='B'){\n",
        "    cat('A vat rate of 10% is applied.','The total price is',x *1.10)  \n",
        "} else {\n",
        "    cat('A vat rate of 20% is applied.','The total price is',x*1.20)  \n",
        "}"
      ],
      "metadata": {
        "colab": {
          "base_uri": "https://localhost:8080/"
        },
        "id": "xAbR6o9waTIv",
        "outputId": "8bebfdfa-4ad5-4793-95bc-ea2c7aba78e0"
      },
      "execution_count": 16,
      "outputs": [
        {
          "output_type": "stream",
          "name": "stdout",
          "text": [
            "Enter  CatogoryA\n",
            "Enter you Marks for exam 2250\n",
            "A vat rate of 8% is applied. The total price is 270"
          ]
        }
      ]
    },
    {
      "cell_type": "code",
      "source": [
        "x <- readline(prompt = \"Enter a number\")\n",
        "x=as.integer(x)\n",
        "if (x > 0) {\n",
        "  if (x %% 2 == 0) {\n",
        "    print(\"+ve and even\")\n",
        "  } else {\n",
        "    print(\"+ve and odd number\")\n",
        "  }\n",
        "\n",
        "} else {\n",
        "  if (x %% 2 == 0) {\n",
        "    print(\"-ve and even\")\n",
        "  } else {\n",
        "    print(\"-ve and odd number\")\n",
        "  }\n",
        "}"
      ],
      "metadata": {
        "colab": {
          "base_uri": "https://localhost:8080/"
        },
        "id": "By8p0Gzia_4P",
        "outputId": "26a538ae-2414-4c9d-a6b8-28c22e70e54f"
      },
      "execution_count": 17,
      "outputs": [
        {
          "output_type": "stream",
          "name": "stdout",
          "text": [
            "Enter a number10\n",
            "[1] \"+ve and even\"\n"
          ]
        }
      ]
    },
    {
      "cell_type": "code",
      "source": [
        "x <- readline(prompt = \"Enter a number\")\n",
        "x=as.integer(x)    \n",
        "y <- switch(\n",
        "  x,\"A\",\"B\",\"C\",\"D\",\"E\",\"F\"\n",
        ")  \n",
        "print(y)  "
      ],
      "metadata": {
        "colab": {
          "base_uri": "https://localhost:8080/"
        },
        "id": "rJC4wATubaNr",
        "outputId": "81c1b82a-ab85-4bb0-bf7b-8463df3027ae"
      },
      "execution_count": 18,
      "outputs": [
        {
          "output_type": "stream",
          "name": "stdout",
          "text": [
            "Enter a number3\n",
            "[1] \"C\"\n"
          ]
        }
      ]
    },
    {
      "cell_type": "code",
      "source": [
        ""
      ],
      "metadata": {
        "id": "toHumjFncWKR"
      },
      "execution_count": 19,
      "outputs": []
    }
  ]
}